{
 "cells": [
  {
   "cell_type": "code",
   "execution_count": 1,
   "metadata": {},
   "outputs": [],
   "source": [
    "import numpy as np\n",
    "import pandas as pd\n",
    "import matplotlib.pyplot as plt\n",
    "from tensorflow import keras\n",
    "from sklearn.model_selection import train_test_split\n",
    "from tensorflow.keras import layers\n",
    "import keras_tuner\n",
    "import seaborn as sns"
   ]
  },
  {
   "cell_type": "code",
   "execution_count": 2,
   "metadata": {},
   "outputs": [],
   "source": [
    "df_ozone=pd.read_csv('ozone_complet_preprocessed.csv')\n",
    "df_ozone.drop('Unnamed: 0', axis=1, inplace=True)\n",
    "df_ozone.head()\n",
    "df_ozone.dropna(inplace=True)\n",
    "y=df_ozone['maxO3l']\n",
    "X=df_ozone.drop('maxO3l',axis=1)"
   ]
  },
  {
   "cell_type": "code",
   "execution_count": 3,
   "metadata": {},
   "outputs": [
    {
     "data": {
      "text/html": [
       "<div>\n",
       "<style scoped>\n",
       "    .dataframe tbody tr th:only-of-type {\n",
       "        vertical-align: middle;\n",
       "    }\n",
       "\n",
       "    .dataframe tbody tr th {\n",
       "        vertical-align: top;\n",
       "    }\n",
       "\n",
       "    .dataframe thead th {\n",
       "        text-align: right;\n",
       "    }\n",
       "</style>\n",
       "<table border=\"1\" class=\"dataframe\">\n",
       "  <thead>\n",
       "    <tr style=\"text-align: right;\">\n",
       "      <th></th>\n",
       "      <th>maxO3</th>\n",
       "      <th>T6</th>\n",
       "      <th>T9</th>\n",
       "      <th>T12</th>\n",
       "      <th>T15</th>\n",
       "      <th>T18</th>\n",
       "      <th>Ne6</th>\n",
       "      <th>Ne9</th>\n",
       "      <th>Ne12</th>\n",
       "      <th>Ne15</th>\n",
       "      <th>...</th>\n",
       "      <th>Vdir9</th>\n",
       "      <th>Vvit9</th>\n",
       "      <th>Vdir12</th>\n",
       "      <th>Vvit12</th>\n",
       "      <th>Vdir15</th>\n",
       "      <th>Vvit15</th>\n",
       "      <th>Vdir18</th>\n",
       "      <th>Vvit18</th>\n",
       "      <th>Vx</th>\n",
       "      <th>maxO3v</th>\n",
       "    </tr>\n",
       "  </thead>\n",
       "  <tbody>\n",
       "    <tr>\n",
       "      <th>0</th>\n",
       "      <td>47.6</td>\n",
       "      <td>10.1</td>\n",
       "      <td>11.6</td>\n",
       "      <td>13.3</td>\n",
       "      <td>13.6</td>\n",
       "      <td>12.2</td>\n",
       "      <td>8.0</td>\n",
       "      <td>8.0</td>\n",
       "      <td>8.0</td>\n",
       "      <td>8.0</td>\n",
       "      <td>...</td>\n",
       "      <td>290.0</td>\n",
       "      <td>4.0</td>\n",
       "      <td>300.0</td>\n",
       "      <td>4.0</td>\n",
       "      <td>340.0</td>\n",
       "      <td>4.0</td>\n",
       "      <td>20.0</td>\n",
       "      <td>4.0</td>\n",
       "      <td>-3.4641</td>\n",
       "      <td>62.2</td>\n",
       "    </tr>\n",
       "    <tr>\n",
       "      <th>1</th>\n",
       "      <td>56.2</td>\n",
       "      <td>9.5</td>\n",
       "      <td>9.4</td>\n",
       "      <td>13.8</td>\n",
       "      <td>17.4</td>\n",
       "      <td>16.3</td>\n",
       "      <td>8.0</td>\n",
       "      <td>8.0</td>\n",
       "      <td>7.0</td>\n",
       "      <td>0.0</td>\n",
       "      <td>...</td>\n",
       "      <td>160.0</td>\n",
       "      <td>2.0</td>\n",
       "      <td>180.0</td>\n",
       "      <td>3.0</td>\n",
       "      <td>110.0</td>\n",
       "      <td>1.0</td>\n",
       "      <td>350.0</td>\n",
       "      <td>2.0</td>\n",
       "      <td>0.0000</td>\n",
       "      <td>47.6</td>\n",
       "    </tr>\n",
       "    <tr>\n",
       "      <th>2</th>\n",
       "      <td>61.8</td>\n",
       "      <td>3.6</td>\n",
       "      <td>8.0</td>\n",
       "      <td>16.8</td>\n",
       "      <td>21.5</td>\n",
       "      <td>20.2</td>\n",
       "      <td>4.0</td>\n",
       "      <td>5.0</td>\n",
       "      <td>2.0</td>\n",
       "      <td>2.0</td>\n",
       "      <td>...</td>\n",
       "      <td>20.0</td>\n",
       "      <td>2.0</td>\n",
       "      <td>340.0</td>\n",
       "      <td>1.0</td>\n",
       "      <td>170.0</td>\n",
       "      <td>2.0</td>\n",
       "      <td>170.0</td>\n",
       "      <td>3.0</td>\n",
       "      <td>-0.3420</td>\n",
       "      <td>56.2</td>\n",
       "    </tr>\n",
       "    <tr>\n",
       "      <th>3</th>\n",
       "      <td>50.8</td>\n",
       "      <td>9.5</td>\n",
       "      <td>10.5</td>\n",
       "      <td>11.4</td>\n",
       "      <td>12.2</td>\n",
       "      <td>11.4</td>\n",
       "      <td>8.0</td>\n",
       "      <td>7.0</td>\n",
       "      <td>7.0</td>\n",
       "      <td>7.0</td>\n",
       "      <td>...</td>\n",
       "      <td>10.0</td>\n",
       "      <td>4.0</td>\n",
       "      <td>350.0</td>\n",
       "      <td>3.0</td>\n",
       "      <td>350.0</td>\n",
       "      <td>3.0</td>\n",
       "      <td>350.0</td>\n",
       "      <td>4.0</td>\n",
       "      <td>-0.5209</td>\n",
       "      <td>61.8</td>\n",
       "    </tr>\n",
       "    <tr>\n",
       "      <th>4</th>\n",
       "      <td>59.8</td>\n",
       "      <td>9.8</td>\n",
       "      <td>10.8</td>\n",
       "      <td>13.8</td>\n",
       "      <td>14.3</td>\n",
       "      <td>13.3</td>\n",
       "      <td>8.0</td>\n",
       "      <td>7.0</td>\n",
       "      <td>8.0</td>\n",
       "      <td>8.0</td>\n",
       "      <td>...</td>\n",
       "      <td>340.0</td>\n",
       "      <td>2.0</td>\n",
       "      <td>280.0</td>\n",
       "      <td>1.0</td>\n",
       "      <td>320.0</td>\n",
       "      <td>3.0</td>\n",
       "      <td>350.0</td>\n",
       "      <td>4.0</td>\n",
       "      <td>-0.9848</td>\n",
       "      <td>50.8</td>\n",
       "    </tr>\n",
       "  </tbody>\n",
       "</table>\n",
       "<p>5 rows × 23 columns</p>\n",
       "</div>"
      ],
      "text/plain": [
       "   maxO3    T6    T9   T12   T15   T18  Ne6  Ne9  Ne12  Ne15  ...  Vdir9  \\\n",
       "0   47.6  10.1  11.6  13.3  13.6  12.2  8.0  8.0   8.0   8.0  ...  290.0   \n",
       "1   56.2   9.5   9.4  13.8  17.4  16.3  8.0  8.0   7.0   0.0  ...  160.0   \n",
       "2   61.8   3.6   8.0  16.8  21.5  20.2  4.0  5.0   2.0   2.0  ...   20.0   \n",
       "3   50.8   9.5  10.5  11.4  12.2  11.4  8.0  7.0   7.0   7.0  ...   10.0   \n",
       "4   59.8   9.8  10.8  13.8  14.3  13.3  8.0  7.0   8.0   8.0  ...  340.0   \n",
       "\n",
       "   Vvit9  Vdir12  Vvit12  Vdir15  Vvit15  Vdir18  Vvit18      Vx  maxO3v  \n",
       "0    4.0   300.0     4.0   340.0     4.0    20.0     4.0 -3.4641    62.2  \n",
       "1    2.0   180.0     3.0   110.0     1.0   350.0     2.0  0.0000    47.6  \n",
       "2    2.0   340.0     1.0   170.0     2.0   170.0     3.0 -0.3420    56.2  \n",
       "3    4.0   350.0     3.0   350.0     3.0   350.0     4.0 -0.5209    61.8  \n",
       "4    2.0   280.0     1.0   320.0     3.0   350.0     4.0 -0.9848    50.8  \n",
       "\n",
       "[5 rows x 23 columns]"
      ]
     },
     "execution_count": 3,
     "metadata": {},
     "output_type": "execute_result"
    }
   ],
   "source": [
    "X.head()"
   ]
  },
  {
   "cell_type": "code",
   "execution_count": 4,
   "metadata": {},
   "outputs": [],
   "source": [
    "X.drop('maxO3v', axis=1, inplace=True)"
   ]
  },
  {
   "cell_type": "code",
   "execution_count": 5,
   "metadata": {},
   "outputs": [],
   "source": [
    "X_train, X_test, y_train, y_test = train_test_split(X, y, train_size=0.8)"
   ]
  },
  {
   "cell_type": "code",
   "execution_count": 6,
   "metadata": {},
   "outputs": [],
   "source": [
    "from sklearn.preprocessing import StandardScaler\n",
    "scaler = StandardScaler()\n",
    "scaled_features = scaler.fit_transform(X)\n",
    "X_train_norm, X_test_norm, y_train_norm, y_test_norm = train_test_split(scaled_features, y, test_size=0.2, random_state=42)\n"
   ]
  },
  {
   "cell_type": "code",
   "execution_count": 7,
   "metadata": {},
   "outputs": [
    {
     "data": {
      "text/plain": [
       "(1346, 2300)"
      ]
     },
     "execution_count": 7,
     "metadata": {},
     "output_type": "execute_result"
    }
   ],
   "source": [
    "from sklearn.preprocessing import PolynomialFeatures\n",
    "X.dropna(inplace=True)\n",
    "X_poly=PolynomialFeatures(3).fit_transform(X)\n",
    "X_train_poly, X_test_poly, y_train, y_test = train_test_split(X_poly, y, train_size=0.8)\n",
    "X_poly.shape"
   ]
  },
  {
   "cell_type": "code",
   "execution_count": 15,
   "metadata": {},
   "outputs": [],
   "source": [
    "model1 = keras.Sequential([\n",
    "    layers.Dense(100, activation='relu', input_shape=[X_train_norm.shape[1]], name='hidden_layer1'),\n",
    "    layers.Dropout(0.3),  # Ajout d'une couche Dropout pour réduire le surajustement\n",
    "    # layers.Dense(32, activation='relu', name='hidden_layer2'),\n",
    "    # layers.Dropout(0.3),  # Ajout d'une couche Dropout pour réduire le surajustement\n",
    "    # layers.Dense(32, activation='relu', name='hidden_layer3'),\n",
    "\n",
    "    # layers.BatchNormalization(),\n",
    "    \n",
    "    layers.Dense(1, activation='linear', name='output_layer'),  # Changement de l'activation en 'sigmoid'\n",
    "])"
   ]
  },
  {
   "cell_type": "code",
   "execution_count": 12,
   "metadata": {},
   "outputs": [
    {
     "ename": "AttributeError",
     "evalue": "module 'keras.api._v2.keras' has no attribute 'Dense'",
     "output_type": "error",
     "traceback": [
      "\u001b[1;31m---------------------------------------------------------------------------\u001b[0m",
      "\u001b[1;31mAttributeError\u001b[0m                            Traceback (most recent call last)",
      "Cell \u001b[1;32mIn[12], line 2\u001b[0m\n\u001b[0;32m      1\u001b[0m model \u001b[38;5;241m=\u001b[39m keras\u001b[38;5;241m.\u001b[39mSequential()\n\u001b[1;32m----> 2\u001b[0m model\u001b[38;5;241m.\u001b[39madd(\u001b[43mkeras\u001b[49m\u001b[38;5;241;43m.\u001b[39;49m\u001b[43mDense\u001b[49m(\u001b[38;5;241m256\u001b[39m, kernel_initializer\u001b[38;5;241m=\u001b[39m\u001b[38;5;124m'\u001b[39m\u001b[38;5;124mglorot_normal\u001b[39m\u001b[38;5;124m'\u001b[39m, activation\u001b[38;5;241m=\u001b[39m\u001b[38;5;124m'\u001b[39m\u001b[38;5;124mrelu\u001b[39m\u001b[38;5;124m'\u001b[39m, input_dim\u001b[38;5;241m=\u001b[39mX_train\u001b[38;5;241m.\u001b[39mshape[\u001b[38;5;241m1\u001b[39m]))\n\u001b[0;32m      3\u001b[0m model\u001b[38;5;241m.\u001b[39madd(keras\u001b[38;5;241m.\u001b[39mDense(\u001b[38;5;241m128\u001b[39m, kernel_initializer\u001b[38;5;241m=\u001b[39m\u001b[38;5;124m'\u001b[39m\u001b[38;5;124mglorot_normal\u001b[39m\u001b[38;5;124m'\u001b[39m, activation\u001b[38;5;241m=\u001b[39m\u001b[38;5;124m'\u001b[39m\u001b[38;5;124mrelu\u001b[39m\u001b[38;5;124m'\u001b[39m))\n\u001b[0;32m      4\u001b[0m model\u001b[38;5;241m.\u001b[39madd(keras\u001b[38;5;241m.\u001b[39mDense(\u001b[38;5;241m1\u001b[39m))\n",
      "\u001b[1;31mAttributeError\u001b[0m: module 'keras.api._v2.keras' has no attribute 'Dense'"
     ]
    }
   ],
   "source": [
    "model = keras.Sequential()\n",
    "model.add(keras.Dense(256, kernel_initializer='glorot_normal', activation='relu', input_dim=X_train.shape[1]))\n",
    "model.add(keras.Dense(128, kernel_initializer='glorot_normal', activation='relu'))\n",
    "model.add(keras.Dense(1))"
   ]
  },
  {
   "cell_type": "code",
   "execution_count": 16,
   "metadata": {},
   "outputs": [],
   "source": [
    "from keras.optimizers import Adam\n",
    "model1.compile(\n",
    "    optimizer=Adam(learning_rate=0.01),\n",
    "    loss='mean_squared_error',\n",
    "    metrics=['mae'],\n",
    ")"
   ]
  },
  {
   "cell_type": "code",
   "execution_count": 17,
   "metadata": {},
   "outputs": [
    {
     "name": "stdout",
     "output_type": "stream",
     "text": [
      "Epoch 1/50\n",
      "34/34 [==============================] - 2s 27ms/step - loss: 5698.7412 - mae: 71.3039 - val_loss: 2459.4329 - val_mae: 44.4552\n",
      "Epoch 2/50\n",
      "34/34 [==============================] - 0s 9ms/step - loss: 1501.7979 - mae: 31.7040 - val_loss: 874.3046 - val_mae: 23.9483\n",
      "Epoch 3/50\n",
      "34/34 [==============================] - 0s 7ms/step - loss: 864.7103 - mae: 23.2477 - val_loss: 544.8901 - val_mae: 17.9622\n",
      "Epoch 4/50\n",
      "34/34 [==============================] - 0s 7ms/step - loss: 649.0078 - mae: 20.0329 - val_loss: 433.8053 - val_mae: 15.7852\n",
      "Epoch 5/50\n",
      "34/34 [==============================] - 0s 7ms/step - loss: 547.3658 - mae: 18.4282 - val_loss: 362.2607 - val_mae: 14.4997\n",
      "Epoch 6/50\n",
      "34/34 [==============================] - 0s 7ms/step - loss: 460.9949 - mae: 17.0027 - val_loss: 321.3365 - val_mae: 13.6677\n",
      "Epoch 7/50\n",
      "34/34 [==============================] - 0s 7ms/step - loss: 411.9301 - mae: 15.9790 - val_loss: 310.8485 - val_mae: 13.3926\n",
      "Epoch 8/50\n",
      "34/34 [==============================] - 0s 9ms/step - loss: 387.6604 - mae: 15.4894 - val_loss: 289.0880 - val_mae: 12.7980\n",
      "Epoch 9/50\n",
      "34/34 [==============================] - 0s 8ms/step - loss: 381.5037 - mae: 15.3681 - val_loss: 287.3930 - val_mae: 12.8501\n",
      "Epoch 10/50\n",
      "34/34 [==============================] - 0s 9ms/step - loss: 342.9594 - mae: 14.4986 - val_loss: 272.4410 - val_mae: 12.4065\n",
      "Epoch 11/50\n",
      "34/34 [==============================] - 0s 9ms/step - loss: 353.6316 - mae: 14.6695 - val_loss: 266.9236 - val_mae: 12.1649\n",
      "Epoch 12/50\n",
      "34/34 [==============================] - 0s 8ms/step - loss: 335.2269 - mae: 14.3995 - val_loss: 266.9745 - val_mae: 12.3256\n",
      "Epoch 13/50\n",
      "34/34 [==============================] - 0s 10ms/step - loss: 323.8349 - mae: 13.8609 - val_loss: 260.5417 - val_mae: 12.1609\n",
      "Epoch 14/50\n",
      "34/34 [==============================] - 0s 9ms/step - loss: 309.9490 - mae: 13.8324 - val_loss: 257.9327 - val_mae: 12.1123\n",
      "Epoch 15/50\n",
      "34/34 [==============================] - 0s 10ms/step - loss: 326.3004 - mae: 14.1085 - val_loss: 267.8489 - val_mae: 12.3836\n",
      "Epoch 16/50\n",
      "34/34 [==============================] - 0s 10ms/step - loss: 321.2366 - mae: 13.9468 - val_loss: 258.4207 - val_mae: 12.0322\n",
      "Epoch 17/50\n",
      "34/34 [==============================] - 0s 8ms/step - loss: 316.6201 - mae: 13.9515 - val_loss: 253.3568 - val_mae: 11.8481\n",
      "Epoch 18/50\n",
      "34/34 [==============================] - 0s 13ms/step - loss: 307.6225 - mae: 13.7453 - val_loss: 254.3610 - val_mae: 11.8337\n",
      "Epoch 19/50\n",
      "34/34 [==============================] - 0s 7ms/step - loss: 290.5839 - mae: 13.4152 - val_loss: 252.7667 - val_mae: 11.8244\n",
      "Epoch 20/50\n",
      "34/34 [==============================] - 0s 6ms/step - loss: 295.4876 - mae: 13.5308 - val_loss: 268.7352 - val_mae: 12.3750\n",
      "Epoch 21/50\n",
      "34/34 [==============================] - 0s 6ms/step - loss: 286.5184 - mae: 13.4947 - val_loss: 250.7482 - val_mae: 11.9241\n",
      "Epoch 22/50\n",
      "34/34 [==============================] - 0s 8ms/step - loss: 299.0952 - mae: 13.5565 - val_loss: 271.5112 - val_mae: 12.3716\n",
      "Epoch 23/50\n",
      "34/34 [==============================] - 0s 9ms/step - loss: 296.4194 - mae: 13.3802 - val_loss: 267.3691 - val_mae: 12.4430\n",
      "Epoch 24/50\n",
      "34/34 [==============================] - 0s 9ms/step - loss: 288.5024 - mae: 13.4061 - val_loss: 263.7834 - val_mae: 11.9792\n",
      "Epoch 25/50\n",
      "34/34 [==============================] - 0s 8ms/step - loss: 288.7021 - mae: 13.3760 - val_loss: 259.4104 - val_mae: 11.8388\n",
      "Epoch 26/50\n",
      "34/34 [==============================] - 0s 8ms/step - loss: 306.9302 - mae: 13.7584 - val_loss: 259.8541 - val_mae: 11.9783\n",
      "Epoch 27/50\n",
      "34/34 [==============================] - 0s 8ms/step - loss: 292.3421 - mae: 13.5018 - val_loss: 271.9696 - val_mae: 12.5210\n",
      "Epoch 28/50\n",
      "34/34 [==============================] - 0s 8ms/step - loss: 281.8609 - mae: 13.0536 - val_loss: 293.7222 - val_mae: 12.9726\n",
      "Epoch 29/50\n",
      "34/34 [==============================] - 0s 7ms/step - loss: 286.6252 - mae: 13.2500 - val_loss: 261.4231 - val_mae: 12.1158\n",
      "Epoch 30/50\n",
      "34/34 [==============================] - 0s 7ms/step - loss: 278.6415 - mae: 13.2011 - val_loss: 261.8366 - val_mae: 12.1343\n",
      "Epoch 31/50\n",
      "34/34 [==============================] - 0s 7ms/step - loss: 283.8136 - mae: 13.0689 - val_loss: 250.8620 - val_mae: 11.6260\n",
      "Epoch 32/50\n",
      "34/34 [==============================] - 0s 7ms/step - loss: 282.8790 - mae: 13.0663 - val_loss: 249.5352 - val_mae: 11.6578\n",
      "Epoch 33/50\n",
      "34/34 [==============================] - 0s 7ms/step - loss: 279.4799 - mae: 12.9449 - val_loss: 253.5281 - val_mae: 12.0920\n",
      "Epoch 34/50\n",
      "34/34 [==============================] - 0s 7ms/step - loss: 295.0988 - mae: 13.3173 - val_loss: 268.6208 - val_mae: 12.5988\n",
      "Epoch 35/50\n",
      "34/34 [==============================] - 0s 6ms/step - loss: 285.8819 - mae: 13.4093 - val_loss: 260.1401 - val_mae: 12.0484\n",
      "Epoch 36/50\n",
      "34/34 [==============================] - 0s 7ms/step - loss: 282.6101 - mae: 13.0840 - val_loss: 259.3761 - val_mae: 12.3788\n",
      "Epoch 37/50\n",
      "34/34 [==============================] - 0s 6ms/step - loss: 276.5009 - mae: 13.0191 - val_loss: 260.0282 - val_mae: 11.9702\n",
      "Epoch 38/50\n",
      "34/34 [==============================] - 0s 6ms/step - loss: 286.5604 - mae: 13.4771 - val_loss: 270.3805 - val_mae: 12.3668\n",
      "Epoch 39/50\n",
      "34/34 [==============================] - 0s 6ms/step - loss: 272.9929 - mae: 12.9268 - val_loss: 266.6800 - val_mae: 12.0688\n",
      "Epoch 40/50\n",
      "34/34 [==============================] - 0s 6ms/step - loss: 280.1691 - mae: 13.0841 - val_loss: 266.3913 - val_mae: 12.2689\n",
      "Epoch 41/50\n",
      "34/34 [==============================] - 0s 8ms/step - loss: 291.4809 - mae: 13.1862 - val_loss: 275.6257 - val_mae: 12.3200\n",
      "Epoch 42/50\n",
      "34/34 [==============================] - 0s 7ms/step - loss: 283.9774 - mae: 13.2141 - val_loss: 258.9641 - val_mae: 11.8295\n",
      "Epoch 43/50\n",
      "34/34 [==============================] - 0s 7ms/step - loss: 270.5399 - mae: 12.8394 - val_loss: 259.1530 - val_mae: 11.8096\n",
      "Epoch 44/50\n",
      "34/34 [==============================] - 0s 6ms/step - loss: 274.6545 - mae: 12.9964 - val_loss: 264.0769 - val_mae: 12.0424\n",
      "Epoch 45/50\n",
      "34/34 [==============================] - 0s 8ms/step - loss: 282.7494 - mae: 13.1991 - val_loss: 268.9670 - val_mae: 12.0664\n",
      "Epoch 46/50\n",
      "34/34 [==============================] - 0s 6ms/step - loss: 269.6259 - mae: 12.9445 - val_loss: 260.6176 - val_mae: 11.9804\n",
      "Epoch 47/50\n",
      "34/34 [==============================] - 0s 6ms/step - loss: 282.1723 - mae: 13.1141 - val_loss: 253.3611 - val_mae: 11.7024\n",
      "Epoch 48/50\n",
      "34/34 [==============================] - 0s 6ms/step - loss: 279.1666 - mae: 13.0854 - val_loss: 255.5777 - val_mae: 11.9721\n",
      "Epoch 49/50\n",
      "34/34 [==============================] - 0s 7ms/step - loss: 267.9187 - mae: 12.8910 - val_loss: 259.9315 - val_mae: 11.9528\n",
      "Epoch 50/50\n",
      "34/34 [==============================] - 0s 8ms/step - loss: 285.7548 - mae: 13.1359 - val_loss: 257.4282 - val_mae: 11.8596\n"
     ]
    }
   ],
   "source": [
    "hist = model1.fit(X_train_norm,\n",
    "                 y_train_norm,\n",
    "                 batch_size=32,\n",
    "                 epochs=50,\n",
    "                 validation_data=(X_test_norm,y_test_norm))"
   ]
  },
  {
   "cell_type": "code",
   "execution_count": 19,
   "metadata": {},
   "outputs": [
    {
     "name": "stdout",
     "output_type": "stream",
     "text": [
      "9/9 [==============================] - 0s 3ms/step\n",
      "RMSE: 16.04456893166392\n",
      "MAE: 11.859648064507377\n",
      "R² Score: 0.5052907960005036\n"
     ]
    }
   ],
   "source": [
    "from sklearn.metrics import mean_squared_error, mean_absolute_error,r2_score\n",
    "\n",
    "predictions=model1.predict(X_test_norm)\n",
    "# Calcul du RMSE (Root Mean Squared Error)\n",
    "rmse = mean_squared_error(y_test_norm, predictions, squared=False)\n",
    "print(f\"RMSE: {rmse}\")\n",
    "\n",
    "# Calcul du MAE (Mean Absolute Error)\n",
    "mae = mean_absolute_error(y_test_norm, predictions)\n",
    "print(f\"MAE: {mae}\")\n",
    "\n",
    "# Coefficient de détermination (R²)\n",
    "r2 = r2_score(y_test_norm, predictions)\n",
    "print(f\"R² Score: {r2}\")"
   ]
  },
  {
   "cell_type": "code",
   "execution_count": null,
   "metadata": {},
   "outputs": [
    {
     "name": "stdout",
     "output_type": "stream",
     "text": [
      "Minimum validation loss: 231.8200225830078\n"
     ]
    },
    {
     "data": {
      "image/png": "[encoded data removed]",
      "text/plain": [
       "<Figure size 640x480 with 1 Axes>"
      ]
     },
     "metadata": {},
     "output_type": "display_data"
    }
   ],
   "source": [
    "history_df = pd.DataFrame(hist.history)\n",
    "history_df.loc[:, ['loss', 'val_loss']].plot();\n",
    "print(\"Minimum validation loss: {}\".format(history_df['val_loss'].min()))"
   ]
  },
  {
   "cell_type": "code",
   "execution_count": null,
   "metadata": {},
   "outputs": [],
   "source": []
  }
 ],
 "metadata": {
  "kernelspec": {
   "display_name": "ner",
   "language": "python",
   "name": "python3"
  },
  "language_info": {
   "codemirror_mode": {
    "name": "ipython",
    "version": 3
   },
   "file_extension": ".py",
   "mimetype": "text/x-python",
   "name": "python",
   "nbconvert_exporter": "python",
   "pygments_lexer": "ipython3",
   "version": "3.10.8"
  }
 },
 "nbformat": 4,
 "nbformat_minor": 2
}
