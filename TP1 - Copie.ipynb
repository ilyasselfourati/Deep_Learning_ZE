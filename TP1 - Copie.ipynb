{
 "cells": [
  {
   "cell_type": "markdown",
   "metadata": {},
   "source": [
    "<center><h1><font color=yellow><i> Deep Learning </i></font></h1></center>"
   ]
  },
  {
   "cell_type": "markdown",
   "metadata": {},
   "source": [
    "# $Import$ $Libraries$ :"
   ]
  },
  {
   "cell_type": "code",
   "execution_count": 1,
   "metadata": {},
   "outputs": [],
   "source": [
    "import numpy as np\n",
    "import pandas as pd\n",
    "import matplotlib.pyplot as plt\n",
    "from tensorflow import keras\n",
    "from sklearn.model_selection import train_test_split\n",
    "from tensorflow.keras import layers\n",
    "import keras_tuner\n"
   ]
  },
  {
   "cell_type": "markdown",
   "metadata": {},
   "source": [
    "# $Data$ :"
   ]
  },
  {
   "cell_type": "markdown",
   "metadata": {},
   "source": [
    "<b><font color=\"skyblue\">Step 1:</font></b>\n",
    " \n",
    "- Import **data** (pandas dataframe). "
   ]
  },
  {
   "cell_type": "code",
   "execution_count": 2,
   "metadata": {},
   "outputs": [
    {
     "data": {
      "text/html": [
       "<div>\n",
       "<style scoped>\n",
       "    .dataframe tbody tr th:only-of-type {\n",
       "        vertical-align: middle;\n",
       "    }\n",
       "\n",
       "    .dataframe tbody tr th {\n",
       "        vertical-align: top;\n",
       "    }\n",
       "\n",
       "    .dataframe thead th {\n",
       "        text-align: right;\n",
       "    }\n",
       "</style>\n",
       "<table border=\"1\" class=\"dataframe\">\n",
       "  <thead>\n",
       "    <tr style=\"text-align: right;\">\n",
       "      <th></th>\n",
       "      <th>word_freq_make</th>\n",
       "      <th>word_freq_address</th>\n",
       "      <th>word_freq_all</th>\n",
       "      <th>word_freq_3d</th>\n",
       "      <th>word_freq_our</th>\n",
       "      <th>word_freq_over</th>\n",
       "      <th>word_freq_remove</th>\n",
       "      <th>word_freq_internet</th>\n",
       "      <th>word_freq_order</th>\n",
       "      <th>word_freq_mail</th>\n",
       "      <th>...</th>\n",
       "      <th>char_freq_semicolon</th>\n",
       "      <th>char_freq_leftbrac</th>\n",
       "      <th>char_freq_leftsquarebrac</th>\n",
       "      <th>char_freq_exclaim</th>\n",
       "      <th>char_freq_dollar</th>\n",
       "      <th>char_freq_pound</th>\n",
       "      <th>capital_run_length_average</th>\n",
       "      <th>capital_run_length_longest</th>\n",
       "      <th>capital_run_length_total</th>\n",
       "      <th>spam</th>\n",
       "    </tr>\n",
       "  </thead>\n",
       "  <tbody>\n",
       "    <tr>\n",
       "      <th>0</th>\n",
       "      <td>0.00</td>\n",
       "      <td>0.64</td>\n",
       "      <td>0.64</td>\n",
       "      <td>0.0</td>\n",
       "      <td>0.32</td>\n",
       "      <td>0.00</td>\n",
       "      <td>0.00</td>\n",
       "      <td>0.00</td>\n",
       "      <td>0.00</td>\n",
       "      <td>0.00</td>\n",
       "      <td>...</td>\n",
       "      <td>0.00</td>\n",
       "      <td>0.000</td>\n",
       "      <td>0.0</td>\n",
       "      <td>0.778</td>\n",
       "      <td>0.000</td>\n",
       "      <td>0.000</td>\n",
       "      <td>3.756</td>\n",
       "      <td>61</td>\n",
       "      <td>278</td>\n",
       "      <td>1</td>\n",
       "    </tr>\n",
       "    <tr>\n",
       "      <th>1</th>\n",
       "      <td>0.21</td>\n",
       "      <td>0.28</td>\n",
       "      <td>0.50</td>\n",
       "      <td>0.0</td>\n",
       "      <td>0.14</td>\n",
       "      <td>0.28</td>\n",
       "      <td>0.21</td>\n",
       "      <td>0.07</td>\n",
       "      <td>0.00</td>\n",
       "      <td>0.94</td>\n",
       "      <td>...</td>\n",
       "      <td>0.00</td>\n",
       "      <td>0.132</td>\n",
       "      <td>0.0</td>\n",
       "      <td>0.372</td>\n",
       "      <td>0.180</td>\n",
       "      <td>0.048</td>\n",
       "      <td>5.114</td>\n",
       "      <td>101</td>\n",
       "      <td>1028</td>\n",
       "      <td>1</td>\n",
       "    </tr>\n",
       "    <tr>\n",
       "      <th>2</th>\n",
       "      <td>0.06</td>\n",
       "      <td>0.00</td>\n",
       "      <td>0.71</td>\n",
       "      <td>0.0</td>\n",
       "      <td>1.23</td>\n",
       "      <td>0.19</td>\n",
       "      <td>0.19</td>\n",
       "      <td>0.12</td>\n",
       "      <td>0.64</td>\n",
       "      <td>0.25</td>\n",
       "      <td>...</td>\n",
       "      <td>0.01</td>\n",
       "      <td>0.143</td>\n",
       "      <td>0.0</td>\n",
       "      <td>0.276</td>\n",
       "      <td>0.184</td>\n",
       "      <td>0.010</td>\n",
       "      <td>9.821</td>\n",
       "      <td>485</td>\n",
       "      <td>2259</td>\n",
       "      <td>1</td>\n",
       "    </tr>\n",
       "    <tr>\n",
       "      <th>3</th>\n",
       "      <td>0.00</td>\n",
       "      <td>0.00</td>\n",
       "      <td>0.00</td>\n",
       "      <td>0.0</td>\n",
       "      <td>0.63</td>\n",
       "      <td>0.00</td>\n",
       "      <td>0.31</td>\n",
       "      <td>0.63</td>\n",
       "      <td>0.31</td>\n",
       "      <td>0.63</td>\n",
       "      <td>...</td>\n",
       "      <td>0.00</td>\n",
       "      <td>0.137</td>\n",
       "      <td>0.0</td>\n",
       "      <td>0.137</td>\n",
       "      <td>0.000</td>\n",
       "      <td>0.000</td>\n",
       "      <td>3.537</td>\n",
       "      <td>40</td>\n",
       "      <td>191</td>\n",
       "      <td>1</td>\n",
       "    </tr>\n",
       "    <tr>\n",
       "      <th>4</th>\n",
       "      <td>0.00</td>\n",
       "      <td>0.00</td>\n",
       "      <td>0.00</td>\n",
       "      <td>0.0</td>\n",
       "      <td>0.63</td>\n",
       "      <td>0.00</td>\n",
       "      <td>0.31</td>\n",
       "      <td>0.63</td>\n",
       "      <td>0.31</td>\n",
       "      <td>0.63</td>\n",
       "      <td>...</td>\n",
       "      <td>0.00</td>\n",
       "      <td>0.135</td>\n",
       "      <td>0.0</td>\n",
       "      <td>0.135</td>\n",
       "      <td>0.000</td>\n",
       "      <td>0.000</td>\n",
       "      <td>3.537</td>\n",
       "      <td>40</td>\n",
       "      <td>191</td>\n",
       "      <td>1</td>\n",
       "    </tr>\n",
       "  </tbody>\n",
       "</table>\n",
       "<p>5 rows × 58 columns</p>\n",
       "</div>"
      ],
      "text/plain": [
       "   word_freq_make  word_freq_address  word_freq_all  word_freq_3d  \\\n",
       "0            0.00               0.64           0.64           0.0   \n",
       "1            0.21               0.28           0.50           0.0   \n",
       "2            0.06               0.00           0.71           0.0   \n",
       "3            0.00               0.00           0.00           0.0   \n",
       "4            0.00               0.00           0.00           0.0   \n",
       "\n",
       "   word_freq_our  word_freq_over  word_freq_remove  word_freq_internet  \\\n",
       "0           0.32            0.00              0.00                0.00   \n",
       "1           0.14            0.28              0.21                0.07   \n",
       "2           1.23            0.19              0.19                0.12   \n",
       "3           0.63            0.00              0.31                0.63   \n",
       "4           0.63            0.00              0.31                0.63   \n",
       "\n",
       "   word_freq_order  word_freq_mail  ...  char_freq_semicolon  \\\n",
       "0             0.00            0.00  ...                 0.00   \n",
       "1             0.00            0.94  ...                 0.00   \n",
       "2             0.64            0.25  ...                 0.01   \n",
       "3             0.31            0.63  ...                 0.00   \n",
       "4             0.31            0.63  ...                 0.00   \n",
       "\n",
       "   char_freq_leftbrac  char_freq_leftsquarebrac  char_freq_exclaim  \\\n",
       "0               0.000                       0.0              0.778   \n",
       "1               0.132                       0.0              0.372   \n",
       "2               0.143                       0.0              0.276   \n",
       "3               0.137                       0.0              0.137   \n",
       "4               0.135                       0.0              0.135   \n",
       "\n",
       "   char_freq_dollar  char_freq_pound  capital_run_length_average  \\\n",
       "0             0.000            0.000                       3.756   \n",
       "1             0.180            0.048                       5.114   \n",
       "2             0.184            0.010                       9.821   \n",
       "3             0.000            0.000                       3.537   \n",
       "4             0.000            0.000                       3.537   \n",
       "\n",
       "   capital_run_length_longest  capital_run_length_total  spam  \n",
       "0                          61                       278     1  \n",
       "1                         101                      1028     1  \n",
       "2                         485                      2259     1  \n",
       "3                          40                       191     1  \n",
       "4                          40                       191     1  \n",
       "\n",
       "[5 rows x 58 columns]"
      ]
     },
     "execution_count": 2,
     "metadata": {},
     "output_type": "execute_result"
    }
   ],
   "source": [
    "df_spam=pd.read_csv('spam.csv')\n",
    "df_spam.head()"
   ]
  },
  {
   "cell_type": "markdown",
   "metadata": {},
   "source": [
    "<b><font color=\"skyblue\">Step 2:</font></b>\n",
    " \n",
    "- Separate the output (the column `spam`) and the input (the other columns). "
   ]
  },
  {
   "cell_type": "code",
   "execution_count": 3,
   "metadata": {},
   "outputs": [],
   "source": [
    "y=df_spam['spam']\n",
    "X=df_spam.drop('spam',axis=1)"
   ]
  },
  {
   "cell_type": "code",
   "execution_count": 4,
   "metadata": {},
   "outputs": [
    {
     "data": {
      "text/html": [
       "<div>\n",
       "<style scoped>\n",
       "    .dataframe tbody tr th:only-of-type {\n",
       "        vertical-align: middle;\n",
       "    }\n",
       "\n",
       "    .dataframe tbody tr th {\n",
       "        vertical-align: top;\n",
       "    }\n",
       "\n",
       "    .dataframe thead th {\n",
       "        text-align: right;\n",
       "    }\n",
       "</style>\n",
       "<table border=\"1\" class=\"dataframe\">\n",
       "  <thead>\n",
       "    <tr style=\"text-align: right;\">\n",
       "      <th></th>\n",
       "      <th>word_freq_make</th>\n",
       "      <th>word_freq_address</th>\n",
       "      <th>word_freq_all</th>\n",
       "      <th>word_freq_3d</th>\n",
       "      <th>word_freq_our</th>\n",
       "      <th>word_freq_over</th>\n",
       "      <th>word_freq_remove</th>\n",
       "      <th>word_freq_internet</th>\n",
       "      <th>word_freq_order</th>\n",
       "      <th>word_freq_mail</th>\n",
       "      <th>...</th>\n",
       "      <th>word_freq_conference</th>\n",
       "      <th>char_freq_semicolon</th>\n",
       "      <th>char_freq_leftbrac</th>\n",
       "      <th>char_freq_leftsquarebrac</th>\n",
       "      <th>char_freq_exclaim</th>\n",
       "      <th>char_freq_dollar</th>\n",
       "      <th>char_freq_pound</th>\n",
       "      <th>capital_run_length_average</th>\n",
       "      <th>capital_run_length_longest</th>\n",
       "      <th>capital_run_length_total</th>\n",
       "    </tr>\n",
       "  </thead>\n",
       "  <tbody>\n",
       "    <tr>\n",
       "      <th>0</th>\n",
       "      <td>0.00</td>\n",
       "      <td>0.64</td>\n",
       "      <td>0.64</td>\n",
       "      <td>0.0</td>\n",
       "      <td>0.32</td>\n",
       "      <td>0.00</td>\n",
       "      <td>0.00</td>\n",
       "      <td>0.00</td>\n",
       "      <td>0.00</td>\n",
       "      <td>0.00</td>\n",
       "      <td>...</td>\n",
       "      <td>0.0</td>\n",
       "      <td>0.00</td>\n",
       "      <td>0.000</td>\n",
       "      <td>0.0</td>\n",
       "      <td>0.778</td>\n",
       "      <td>0.000</td>\n",
       "      <td>0.000</td>\n",
       "      <td>3.756</td>\n",
       "      <td>61</td>\n",
       "      <td>278</td>\n",
       "    </tr>\n",
       "    <tr>\n",
       "      <th>1</th>\n",
       "      <td>0.21</td>\n",
       "      <td>0.28</td>\n",
       "      <td>0.50</td>\n",
       "      <td>0.0</td>\n",
       "      <td>0.14</td>\n",
       "      <td>0.28</td>\n",
       "      <td>0.21</td>\n",
       "      <td>0.07</td>\n",
       "      <td>0.00</td>\n",
       "      <td>0.94</td>\n",
       "      <td>...</td>\n",
       "      <td>0.0</td>\n",
       "      <td>0.00</td>\n",
       "      <td>0.132</td>\n",
       "      <td>0.0</td>\n",
       "      <td>0.372</td>\n",
       "      <td>0.180</td>\n",
       "      <td>0.048</td>\n",
       "      <td>5.114</td>\n",
       "      <td>101</td>\n",
       "      <td>1028</td>\n",
       "    </tr>\n",
       "    <tr>\n",
       "      <th>2</th>\n",
       "      <td>0.06</td>\n",
       "      <td>0.00</td>\n",
       "      <td>0.71</td>\n",
       "      <td>0.0</td>\n",
       "      <td>1.23</td>\n",
       "      <td>0.19</td>\n",
       "      <td>0.19</td>\n",
       "      <td>0.12</td>\n",
       "      <td>0.64</td>\n",
       "      <td>0.25</td>\n",
       "      <td>...</td>\n",
       "      <td>0.0</td>\n",
       "      <td>0.01</td>\n",
       "      <td>0.143</td>\n",
       "      <td>0.0</td>\n",
       "      <td>0.276</td>\n",
       "      <td>0.184</td>\n",
       "      <td>0.010</td>\n",
       "      <td>9.821</td>\n",
       "      <td>485</td>\n",
       "      <td>2259</td>\n",
       "    </tr>\n",
       "    <tr>\n",
       "      <th>3</th>\n",
       "      <td>0.00</td>\n",
       "      <td>0.00</td>\n",
       "      <td>0.00</td>\n",
       "      <td>0.0</td>\n",
       "      <td>0.63</td>\n",
       "      <td>0.00</td>\n",
       "      <td>0.31</td>\n",
       "      <td>0.63</td>\n",
       "      <td>0.31</td>\n",
       "      <td>0.63</td>\n",
       "      <td>...</td>\n",
       "      <td>0.0</td>\n",
       "      <td>0.00</td>\n",
       "      <td>0.137</td>\n",
       "      <td>0.0</td>\n",
       "      <td>0.137</td>\n",
       "      <td>0.000</td>\n",
       "      <td>0.000</td>\n",
       "      <td>3.537</td>\n",
       "      <td>40</td>\n",
       "      <td>191</td>\n",
       "    </tr>\n",
       "    <tr>\n",
       "      <th>4</th>\n",
       "      <td>0.00</td>\n",
       "      <td>0.00</td>\n",
       "      <td>0.00</td>\n",
       "      <td>0.0</td>\n",
       "      <td>0.63</td>\n",
       "      <td>0.00</td>\n",
       "      <td>0.31</td>\n",
       "      <td>0.63</td>\n",
       "      <td>0.31</td>\n",
       "      <td>0.63</td>\n",
       "      <td>...</td>\n",
       "      <td>0.0</td>\n",
       "      <td>0.00</td>\n",
       "      <td>0.135</td>\n",
       "      <td>0.0</td>\n",
       "      <td>0.135</td>\n",
       "      <td>0.000</td>\n",
       "      <td>0.000</td>\n",
       "      <td>3.537</td>\n",
       "      <td>40</td>\n",
       "      <td>191</td>\n",
       "    </tr>\n",
       "  </tbody>\n",
       "</table>\n",
       "<p>5 rows × 57 columns</p>\n",
       "</div>"
      ],
      "text/plain": [
       "   word_freq_make  word_freq_address  word_freq_all  word_freq_3d  \\\n",
       "0            0.00               0.64           0.64           0.0   \n",
       "1            0.21               0.28           0.50           0.0   \n",
       "2            0.06               0.00           0.71           0.0   \n",
       "3            0.00               0.00           0.00           0.0   \n",
       "4            0.00               0.00           0.00           0.0   \n",
       "\n",
       "   word_freq_our  word_freq_over  word_freq_remove  word_freq_internet  \\\n",
       "0           0.32            0.00              0.00                0.00   \n",
       "1           0.14            0.28              0.21                0.07   \n",
       "2           1.23            0.19              0.19                0.12   \n",
       "3           0.63            0.00              0.31                0.63   \n",
       "4           0.63            0.00              0.31                0.63   \n",
       "\n",
       "   word_freq_order  word_freq_mail  ...  word_freq_conference  \\\n",
       "0             0.00            0.00  ...                   0.0   \n",
       "1             0.00            0.94  ...                   0.0   \n",
       "2             0.64            0.25  ...                   0.0   \n",
       "3             0.31            0.63  ...                   0.0   \n",
       "4             0.31            0.63  ...                   0.0   \n",
       "\n",
       "   char_freq_semicolon  char_freq_leftbrac  char_freq_leftsquarebrac  \\\n",
       "0                 0.00               0.000                       0.0   \n",
       "1                 0.00               0.132                       0.0   \n",
       "2                 0.01               0.143                       0.0   \n",
       "3                 0.00               0.137                       0.0   \n",
       "4                 0.00               0.135                       0.0   \n",
       "\n",
       "   char_freq_exclaim  char_freq_dollar  char_freq_pound  \\\n",
       "0              0.778             0.000            0.000   \n",
       "1              0.372             0.180            0.048   \n",
       "2              0.276             0.184            0.010   \n",
       "3              0.137             0.000            0.000   \n",
       "4              0.135             0.000            0.000   \n",
       "\n",
       "   capital_run_length_average  capital_run_length_longest  \\\n",
       "0                       3.756                          61   \n",
       "1                       5.114                         101   \n",
       "2                       9.821                         485   \n",
       "3                       3.537                          40   \n",
       "4                       3.537                          40   \n",
       "\n",
       "   capital_run_length_total  \n",
       "0                       278  \n",
       "1                      1028  \n",
       "2                      2259  \n",
       "3                       191  \n",
       "4                       191  \n",
       "\n",
       "[5 rows x 57 columns]"
      ]
     },
     "execution_count": 4,
     "metadata": {},
     "output_type": "execute_result"
    }
   ],
   "source": [
    "X.head()"
   ]
  },
  {
   "cell_type": "code",
   "execution_count": 5,
   "metadata": {},
   "outputs": [
    {
     "data": {
      "text/html": [
       "<div>\n",
       "<style scoped>\n",
       "    .dataframe tbody tr th:only-of-type {\n",
       "        vertical-align: middle;\n",
       "    }\n",
       "\n",
       "    .dataframe tbody tr th {\n",
       "        vertical-align: top;\n",
       "    }\n",
       "\n",
       "    .dataframe thead th {\n",
       "        text-align: right;\n",
       "    }\n",
       "</style>\n",
       "<table border=\"1\" class=\"dataframe\">\n",
       "  <thead>\n",
       "    <tr style=\"text-align: right;\">\n",
       "      <th></th>\n",
       "      <th>word_freq_make</th>\n",
       "      <th>word_freq_address</th>\n",
       "      <th>word_freq_all</th>\n",
       "      <th>word_freq_3d</th>\n",
       "      <th>word_freq_our</th>\n",
       "      <th>word_freq_over</th>\n",
       "      <th>word_freq_remove</th>\n",
       "      <th>word_freq_internet</th>\n",
       "      <th>word_freq_order</th>\n",
       "      <th>word_freq_mail</th>\n",
       "      <th>...</th>\n",
       "      <th>word_freq_conference</th>\n",
       "      <th>char_freq_semicolon</th>\n",
       "      <th>char_freq_leftbrac</th>\n",
       "      <th>char_freq_leftsquarebrac</th>\n",
       "      <th>char_freq_exclaim</th>\n",
       "      <th>char_freq_dollar</th>\n",
       "      <th>char_freq_pound</th>\n",
       "      <th>capital_run_length_average</th>\n",
       "      <th>capital_run_length_longest</th>\n",
       "      <th>capital_run_length_total</th>\n",
       "    </tr>\n",
       "  </thead>\n",
       "  <tbody>\n",
       "    <tr>\n",
       "      <th>count</th>\n",
       "      <td>4601.000000</td>\n",
       "      <td>4601.000000</td>\n",
       "      <td>4601.000000</td>\n",
       "      <td>4601.000000</td>\n",
       "      <td>4601.000000</td>\n",
       "      <td>4601.000000</td>\n",
       "      <td>4601.000000</td>\n",
       "      <td>4601.000000</td>\n",
       "      <td>4601.000000</td>\n",
       "      <td>4601.000000</td>\n",
       "      <td>...</td>\n",
       "      <td>4601.000000</td>\n",
       "      <td>4601.000000</td>\n",
       "      <td>4601.000000</td>\n",
       "      <td>4601.000000</td>\n",
       "      <td>4601.000000</td>\n",
       "      <td>4601.000000</td>\n",
       "      <td>4601.000000</td>\n",
       "      <td>4601.000000</td>\n",
       "      <td>4601.000000</td>\n",
       "      <td>4601.000000</td>\n",
       "    </tr>\n",
       "    <tr>\n",
       "      <th>mean</th>\n",
       "      <td>0.104553</td>\n",
       "      <td>0.213015</td>\n",
       "      <td>0.280656</td>\n",
       "      <td>0.065425</td>\n",
       "      <td>0.312223</td>\n",
       "      <td>0.095901</td>\n",
       "      <td>0.114208</td>\n",
       "      <td>0.105295</td>\n",
       "      <td>0.090067</td>\n",
       "      <td>0.239413</td>\n",
       "      <td>...</td>\n",
       "      <td>0.031869</td>\n",
       "      <td>0.038575</td>\n",
       "      <td>0.139030</td>\n",
       "      <td>0.016976</td>\n",
       "      <td>0.269071</td>\n",
       "      <td>0.075811</td>\n",
       "      <td>0.044238</td>\n",
       "      <td>5.191515</td>\n",
       "      <td>52.172789</td>\n",
       "      <td>283.289285</td>\n",
       "    </tr>\n",
       "    <tr>\n",
       "      <th>std</th>\n",
       "      <td>0.305358</td>\n",
       "      <td>1.290575</td>\n",
       "      <td>0.504143</td>\n",
       "      <td>1.395151</td>\n",
       "      <td>0.672513</td>\n",
       "      <td>0.273824</td>\n",
       "      <td>0.391441</td>\n",
       "      <td>0.401071</td>\n",
       "      <td>0.278616</td>\n",
       "      <td>0.644755</td>\n",
       "      <td>...</td>\n",
       "      <td>0.285735</td>\n",
       "      <td>0.243471</td>\n",
       "      <td>0.270355</td>\n",
       "      <td>0.109394</td>\n",
       "      <td>0.815672</td>\n",
       "      <td>0.245882</td>\n",
       "      <td>0.429342</td>\n",
       "      <td>31.729449</td>\n",
       "      <td>194.891310</td>\n",
       "      <td>606.347851</td>\n",
       "    </tr>\n",
       "    <tr>\n",
       "      <th>min</th>\n",
       "      <td>0.000000</td>\n",
       "      <td>0.000000</td>\n",
       "      <td>0.000000</td>\n",
       "      <td>0.000000</td>\n",
       "      <td>0.000000</td>\n",
       "      <td>0.000000</td>\n",
       "      <td>0.000000</td>\n",
       "      <td>0.000000</td>\n",
       "      <td>0.000000</td>\n",
       "      <td>0.000000</td>\n",
       "      <td>...</td>\n",
       "      <td>0.000000</td>\n",
       "      <td>0.000000</td>\n",
       "      <td>0.000000</td>\n",
       "      <td>0.000000</td>\n",
       "      <td>0.000000</td>\n",
       "      <td>0.000000</td>\n",
       "      <td>0.000000</td>\n",
       "      <td>1.000000</td>\n",
       "      <td>1.000000</td>\n",
       "      <td>1.000000</td>\n",
       "    </tr>\n",
       "    <tr>\n",
       "      <th>25%</th>\n",
       "      <td>0.000000</td>\n",
       "      <td>0.000000</td>\n",
       "      <td>0.000000</td>\n",
       "      <td>0.000000</td>\n",
       "      <td>0.000000</td>\n",
       "      <td>0.000000</td>\n",
       "      <td>0.000000</td>\n",
       "      <td>0.000000</td>\n",
       "      <td>0.000000</td>\n",
       "      <td>0.000000</td>\n",
       "      <td>...</td>\n",
       "      <td>0.000000</td>\n",
       "      <td>0.000000</td>\n",
       "      <td>0.000000</td>\n",
       "      <td>0.000000</td>\n",
       "      <td>0.000000</td>\n",
       "      <td>0.000000</td>\n",
       "      <td>0.000000</td>\n",
       "      <td>1.588000</td>\n",
       "      <td>6.000000</td>\n",
       "      <td>35.000000</td>\n",
       "    </tr>\n",
       "    <tr>\n",
       "      <th>50%</th>\n",
       "      <td>0.000000</td>\n",
       "      <td>0.000000</td>\n",
       "      <td>0.000000</td>\n",
       "      <td>0.000000</td>\n",
       "      <td>0.000000</td>\n",
       "      <td>0.000000</td>\n",
       "      <td>0.000000</td>\n",
       "      <td>0.000000</td>\n",
       "      <td>0.000000</td>\n",
       "      <td>0.000000</td>\n",
       "      <td>...</td>\n",
       "      <td>0.000000</td>\n",
       "      <td>0.000000</td>\n",
       "      <td>0.065000</td>\n",
       "      <td>0.000000</td>\n",
       "      <td>0.000000</td>\n",
       "      <td>0.000000</td>\n",
       "      <td>0.000000</td>\n",
       "      <td>2.276000</td>\n",
       "      <td>15.000000</td>\n",
       "      <td>95.000000</td>\n",
       "    </tr>\n",
       "    <tr>\n",
       "      <th>75%</th>\n",
       "      <td>0.000000</td>\n",
       "      <td>0.000000</td>\n",
       "      <td>0.420000</td>\n",
       "      <td>0.000000</td>\n",
       "      <td>0.380000</td>\n",
       "      <td>0.000000</td>\n",
       "      <td>0.000000</td>\n",
       "      <td>0.000000</td>\n",
       "      <td>0.000000</td>\n",
       "      <td>0.160000</td>\n",
       "      <td>...</td>\n",
       "      <td>0.000000</td>\n",
       "      <td>0.000000</td>\n",
       "      <td>0.188000</td>\n",
       "      <td>0.000000</td>\n",
       "      <td>0.315000</td>\n",
       "      <td>0.052000</td>\n",
       "      <td>0.000000</td>\n",
       "      <td>3.706000</td>\n",
       "      <td>43.000000</td>\n",
       "      <td>266.000000</td>\n",
       "    </tr>\n",
       "    <tr>\n",
       "      <th>max</th>\n",
       "      <td>4.540000</td>\n",
       "      <td>14.280000</td>\n",
       "      <td>5.100000</td>\n",
       "      <td>42.810000</td>\n",
       "      <td>10.000000</td>\n",
       "      <td>5.880000</td>\n",
       "      <td>7.270000</td>\n",
       "      <td>11.110000</td>\n",
       "      <td>5.260000</td>\n",
       "      <td>18.180000</td>\n",
       "      <td>...</td>\n",
       "      <td>10.000000</td>\n",
       "      <td>4.385000</td>\n",
       "      <td>9.752000</td>\n",
       "      <td>4.081000</td>\n",
       "      <td>32.478000</td>\n",
       "      <td>6.003000</td>\n",
       "      <td>19.829000</td>\n",
       "      <td>1102.500000</td>\n",
       "      <td>9989.000000</td>\n",
       "      <td>15841.000000</td>\n",
       "    </tr>\n",
       "  </tbody>\n",
       "</table>\n",
       "<p>8 rows × 57 columns</p>\n",
       "</div>"
      ],
      "text/plain": [
       "       word_freq_make  word_freq_address  word_freq_all  word_freq_3d  \\\n",
       "count     4601.000000        4601.000000    4601.000000   4601.000000   \n",
       "mean         0.104553           0.213015       0.280656      0.065425   \n",
       "std          0.305358           1.290575       0.504143      1.395151   \n",
       "min          0.000000           0.000000       0.000000      0.000000   \n",
       "25%          0.000000           0.000000       0.000000      0.000000   \n",
       "50%          0.000000           0.000000       0.000000      0.000000   \n",
       "75%          0.000000           0.000000       0.420000      0.000000   \n",
       "max          4.540000          14.280000       5.100000     42.810000   \n",
       "\n",
       "       word_freq_our  word_freq_over  word_freq_remove  word_freq_internet  \\\n",
       "count    4601.000000     4601.000000       4601.000000         4601.000000   \n",
       "mean        0.312223        0.095901          0.114208            0.105295   \n",
       "std         0.672513        0.273824          0.391441            0.401071   \n",
       "min         0.000000        0.000000          0.000000            0.000000   \n",
       "25%         0.000000        0.000000          0.000000            0.000000   \n",
       "50%         0.000000        0.000000          0.000000            0.000000   \n",
       "75%         0.380000        0.000000          0.000000            0.000000   \n",
       "max        10.000000        5.880000          7.270000           11.110000   \n",
       "\n",
       "       word_freq_order  word_freq_mail  ...  word_freq_conference  \\\n",
       "count      4601.000000     4601.000000  ...           4601.000000   \n",
       "mean          0.090067        0.239413  ...              0.031869   \n",
       "std           0.278616        0.644755  ...              0.285735   \n",
       "min           0.000000        0.000000  ...              0.000000   \n",
       "25%           0.000000        0.000000  ...              0.000000   \n",
       "50%           0.000000        0.000000  ...              0.000000   \n",
       "75%           0.000000        0.160000  ...              0.000000   \n",
       "max           5.260000       18.180000  ...             10.000000   \n",
       "\n",
       "       char_freq_semicolon  char_freq_leftbrac  char_freq_leftsquarebrac  \\\n",
       "count          4601.000000         4601.000000               4601.000000   \n",
       "mean              0.038575            0.139030                  0.016976   \n",
       "std               0.243471            0.270355                  0.109394   \n",
       "min               0.000000            0.000000                  0.000000   \n",
       "25%               0.000000            0.000000                  0.000000   \n",
       "50%               0.000000            0.065000                  0.000000   \n",
       "75%               0.000000            0.188000                  0.000000   \n",
       "max               4.385000            9.752000                  4.081000   \n",
       "\n",
       "       char_freq_exclaim  char_freq_dollar  char_freq_pound  \\\n",
       "count        4601.000000       4601.000000      4601.000000   \n",
       "mean            0.269071          0.075811         0.044238   \n",
       "std             0.815672          0.245882         0.429342   \n",
       "min             0.000000          0.000000         0.000000   \n",
       "25%             0.000000          0.000000         0.000000   \n",
       "50%             0.000000          0.000000         0.000000   \n",
       "75%             0.315000          0.052000         0.000000   \n",
       "max            32.478000          6.003000        19.829000   \n",
       "\n",
       "       capital_run_length_average  capital_run_length_longest  \\\n",
       "count                 4601.000000                 4601.000000   \n",
       "mean                     5.191515                   52.172789   \n",
       "std                     31.729449                  194.891310   \n",
       "min                      1.000000                    1.000000   \n",
       "25%                      1.588000                    6.000000   \n",
       "50%                      2.276000                   15.000000   \n",
       "75%                      3.706000                   43.000000   \n",
       "max                   1102.500000                 9989.000000   \n",
       "\n",
       "       capital_run_length_total  \n",
       "count               4601.000000  \n",
       "mean                 283.289285  \n",
       "std                  606.347851  \n",
       "min                    1.000000  \n",
       "25%                   35.000000  \n",
       "50%                   95.000000  \n",
       "75%                  266.000000  \n",
       "max                15841.000000  \n",
       "\n",
       "[8 rows x 57 columns]"
      ]
     },
     "execution_count": 5,
     "metadata": {},
     "output_type": "execute_result"
    }
   ],
   "source": [
    "X.describe()"
   ]
  },
  {
   "cell_type": "code",
   "execution_count": 6,
   "metadata": {},
   "outputs": [
    {
     "data": {
      "text/plain": [
       "Index(['word_freq_make', 'word_freq_address', 'word_freq_all', 'word_freq_3d',\n",
       "       'word_freq_our', 'word_freq_over', 'word_freq_remove',\n",
       "       'word_freq_internet', 'word_freq_order', 'word_freq_mail',\n",
       "       'word_freq_receive', 'word_freq_will', 'word_freq_people',\n",
       "       'word_freq_report', 'word_freq_addresses', 'word_freq_free',\n",
       "       'word_freq_business', 'word_freq_email', 'word_freq_you',\n",
       "       'word_freq_credit', 'word_freq_your', 'word_freq_font', 'word_freq_000',\n",
       "       'word_freq_money', 'word_freq_hp', 'word_freq_hpl', 'word_freq_george',\n",
       "       'word_freq_650', 'word_freq_lab', 'word_freq_labs', 'word_freq_telnet',\n",
       "       'word_freq_857', 'word_freq_data', 'word_freq_415', 'word_freq_85',\n",
       "       'word_freq_technology', 'word_freq_1999', 'word_freq_parts',\n",
       "       'word_freq_pm', 'word_freq_direct', 'word_freq_cs', 'word_freq_meeting',\n",
       "       'word_freq_original', 'word_freq_project', 'word_freq_re',\n",
       "       'word_freq_edu', 'word_freq_table', 'word_freq_conference',\n",
       "       'char_freq_semicolon', 'char_freq_leftbrac', 'char_freq_leftsquarebrac',\n",
       "       'char_freq_exclaim', 'char_freq_dollar', 'char_freq_pound',\n",
       "       'capital_run_length_average', 'capital_run_length_longest',\n",
       "       'capital_run_length_total'],\n",
       "      dtype='object')"
      ]
     },
     "execution_count": 6,
     "metadata": {},
     "output_type": "execute_result"
    }
   ],
   "source": [
    "X.columns"
   ]
  },
  {
   "cell_type": "markdown",
   "metadata": {},
   "source": [
    "<b><font color=\"skyblue\">Step 3:</font></b>\n",
    " \n",
    "- Split our data into **train data** (80% -- 3680 rows) and **test data** (921 rows). "
   ]
  },
  {
   "cell_type": "code",
   "execution_count": 7,
   "metadata": {},
   "outputs": [],
   "source": [
    "X_train, X_test, y_train, y_test = train_test_split(X, y, train_size=0.8)"
   ]
  },
  {
   "cell_type": "markdown",
   "metadata": {},
   "source": [
    "# $DNN$"
   ]
  },
  {
   "cell_type": "markdown",
   "metadata": {},
   "source": [
    "## $Building$ $our$ $Model$ : (Keras sans optimization des hyperparamètres)"
   ]
  },
  {
   "cell_type": "markdown",
   "metadata": {},
   "source": [
    "<b><font color=\"skyblue\">Step 1:</font></b>\n",
    " \n",
    "- Creation of our model using **Keras**."
   ]
  },
  {
   "cell_type": "code",
   "execution_count": 25,
   "metadata": {},
   "outputs": [],
   "source": [
    "model1 = keras.Sequential([\n",
    "    layers.Dense(100, activation='relu', input_shape=[57], name='hidden_layer1'),\n",
    "    layers.Dropout(0.3),  # Ajout d'une couche Dropout pour réduire le surajustement\n",
    "    layers.Dense(100, activation='relu', name='hidden_layer2'),\n",
    "    layers.Dropout(0.3),  # Ajout d'une couche Dropout pour réduire le surajustement\n",
    "    layers.BatchNormalization(),\n",
    "    layers.Dense(1, activation='sigmoid', name='output_layer'),  # Changement de l'activation en 'sigmoid'\n",
    "])"
   ]
  },
  {
   "cell_type": "code",
   "execution_count": 26,
   "metadata": {},
   "outputs": [
    {
     "name": "stdout",
     "output_type": "stream",
     "text": [
      "Model: \"sequential_1\"\n",
      "_________________________________________________________________\n",
      " Layer (type)                Output Shape              Param #   \n",
      "=================================================================\n",
      " hidden_layer1 (Dense)       (None, 100)               5800      \n",
      "                                                                 \n",
      " dropout_2 (Dropout)         (None, 100)               0         \n",
      "                                                                 \n",
      " hidden_layer2 (Dense)       (None, 100)               10100     \n",
      "                                                                 \n",
      " dropout_3 (Dropout)         (None, 100)               0         \n",
      "                                                                 \n",
      " batch_normalization_1 (Batc  (None, 100)              400       \n",
      " hNormalization)                                                 \n",
      "                                                                 \n",
      " output_layer (Dense)        (None, 1)                 101       \n",
      "                                                                 \n",
      "=================================================================\n",
      "Total params: 16,401\n",
      "Trainable params: 16,201\n",
      "Non-trainable params: 200\n",
      "_________________________________________________________________\n"
     ]
    }
   ],
   "source": [
    "model1.summary()"
   ]
  },
  {
   "cell_type": "markdown",
   "metadata": {},
   "source": [
    "<b><font color=\"skyblue\">Step 2:</font></b>\n",
    " \n",
    "- Precise the `optimizer`, the `loss-fonction` & the `metric`."
   ]
  },
  {
   "cell_type": "code",
   "execution_count": 27,
   "metadata": {},
   "outputs": [],
   "source": [
    "model1.compile(\n",
    "    optimizer='adam',\n",
    "    loss='binary_crossentropy',\n",
    "    metrics=['accuracy'],\n",
    ")"
   ]
  },
  {
   "cell_type": "markdown",
   "metadata": {},
   "source": [
    "<b><font color=\"skyblue\">Step 3:</font></b>\n",
    " \n",
    "- Train the model."
   ]
  },
  {
   "cell_type": "code",
   "execution_count": 28,
   "metadata": {},
   "outputs": [
    {
     "name": "stdout",
     "output_type": "stream",
     "text": [
      "Epoch 1/50\n"
     ]
    },
    {
     "name": "stderr",
     "output_type": "stream",
     "text": [
      "c:\\Users\\ELITEBOOK\\anaconda3\\envs\\ner\\lib\\site-packages\\keras\\engine\\data_adapter.py:1699: FutureWarning: The behavior of `series[i:j]` with an integer-dtype index is deprecated. In a future version, this will be treated as *label-based* indexing, consistent with e.g. `series[i]` lookups. To retain the old behavior, use `series.iloc[i:j]`. To get the future behavior, use `series.loc[i:j]`.\n",
      "  return t[start:end]\n"
     ]
    },
    {
     "name": "stdout",
     "output_type": "stream",
     "text": [
      "74/74 [==============================] - 3s 12ms/step - loss: 0.7049 - accuracy: 0.6382 - val_loss: 0.6192 - val_accuracy: 0.7284\n",
      "Epoch 2/50\n",
      "74/74 [==============================] - 0s 6ms/step - loss: 0.6444 - accuracy: 0.6726 - val_loss: 0.5698 - val_accuracy: 0.6978\n",
      "Epoch 3/50\n",
      "74/74 [==============================] - 1s 8ms/step - loss: 0.6181 - accuracy: 0.6870 - val_loss: 0.5675 - val_accuracy: 0.7012\n",
      "Epoch 4/50\n",
      "74/74 [==============================] - 0s 7ms/step - loss: 0.6021 - accuracy: 0.6854 - val_loss: 0.5608 - val_accuracy: 0.7029\n",
      "Epoch 5/50\n",
      "74/74 [==============================] - 0s 6ms/step - loss: 0.5932 - accuracy: 0.6960 - val_loss: 0.5441 - val_accuracy: 0.7131\n",
      "Epoch 6/50\n",
      "74/74 [==============================] - 0s 6ms/step - loss: 0.5799 - accuracy: 0.6887 - val_loss: 0.5468 - val_accuracy: 0.7046\n",
      "Epoch 7/50\n",
      "74/74 [==============================] - 1s 7ms/step - loss: 0.5569 - accuracy: 0.7176 - val_loss: 0.5446 - val_accuracy: 0.7097\n",
      "Epoch 8/50\n",
      "74/74 [==============================] - 0s 6ms/step - loss: 0.5567 - accuracy: 0.7138 - val_loss: 0.5351 - val_accuracy: 0.7114\n",
      "Epoch 9/50\n",
      "74/74 [==============================] - 0s 6ms/step - loss: 0.5374 - accuracy: 0.7223 - val_loss: 0.5563 - val_accuracy: 0.7012\n",
      "Epoch 10/50\n",
      "74/74 [==============================] - 0s 6ms/step - loss: 0.5119 - accuracy: 0.7499 - val_loss: 0.5653 - val_accuracy: 0.6961\n",
      "Epoch 11/50\n",
      "74/74 [==============================] - 0s 6ms/step - loss: 0.4895 - accuracy: 0.7554 - val_loss: 0.5218 - val_accuracy: 0.7114\n",
      "Epoch 12/50\n",
      "74/74 [==============================] - 0s 6ms/step - loss: 0.4846 - accuracy: 0.7652 - val_loss: 0.5502 - val_accuracy: 0.6978\n",
      "Epoch 13/50\n",
      "74/74 [==============================] - 0s 6ms/step - loss: 0.4785 - accuracy: 0.7690 - val_loss: 0.5110 - val_accuracy: 0.7046\n",
      "Epoch 14/50\n",
      "74/74 [==============================] - 0s 6ms/step - loss: 0.4500 - accuracy: 0.7949 - val_loss: 0.5281 - val_accuracy: 0.7131\n",
      "Epoch 15/50\n",
      "74/74 [==============================] - 0s 6ms/step - loss: 0.4322 - accuracy: 0.7970 - val_loss: 0.4763 - val_accuracy: 0.7453\n",
      "Epoch 16/50\n",
      "74/74 [==============================] - 0s 6ms/step - loss: 0.4197 - accuracy: 0.8102 - val_loss: 0.4872 - val_accuracy: 0.7453\n",
      "Epoch 17/50\n",
      "74/74 [==============================] - 0s 5ms/step - loss: 0.4258 - accuracy: 0.7958 - val_loss: 0.5959 - val_accuracy: 0.6893\n",
      "Epoch 18/50\n",
      "74/74 [==============================] - 0s 6ms/step - loss: 0.3966 - accuracy: 0.8301 - val_loss: 0.4264 - val_accuracy: 0.7674\n",
      "Epoch 19/50\n",
      "74/74 [==============================] - 0s 6ms/step - loss: 0.3728 - accuracy: 0.8297 - val_loss: 0.5074 - val_accuracy: 0.7012\n",
      "Epoch 20/50\n",
      "74/74 [==============================] - 0s 6ms/step - loss: 0.3951 - accuracy: 0.8251 - val_loss: 0.4346 - val_accuracy: 0.7521\n",
      "Epoch 21/50\n",
      "74/74 [==============================] - 0s 5ms/step - loss: 0.3755 - accuracy: 0.8382 - val_loss: 0.4317 - val_accuracy: 0.7504\n",
      "Epoch 22/50\n",
      "74/74 [==============================] - 0s 5ms/step - loss: 0.3477 - accuracy: 0.8497 - val_loss: 0.3986 - val_accuracy: 0.7776\n",
      "Epoch 23/50\n",
      "74/74 [==============================] - 0s 5ms/step - loss: 0.3593 - accuracy: 0.8420 - val_loss: 0.3711 - val_accuracy: 0.8302\n",
      "Epoch 24/50\n",
      "74/74 [==============================] - 0s 6ms/step - loss: 0.3387 - accuracy: 0.8505 - val_loss: 0.4369 - val_accuracy: 0.7827\n",
      "Epoch 25/50\n",
      "74/74 [==============================] - 0s 5ms/step - loss: 0.3146 - accuracy: 0.8671 - val_loss: 0.4359 - val_accuracy: 0.7572\n",
      "Epoch 26/50\n",
      "74/74 [==============================] - 0s 5ms/step - loss: 0.3135 - accuracy: 0.8709 - val_loss: 0.4603 - val_accuracy: 0.7521\n",
      "Epoch 27/50\n",
      "74/74 [==============================] - 0s 5ms/step - loss: 0.3159 - accuracy: 0.8667 - val_loss: 0.3804 - val_accuracy: 0.8370\n",
      "Epoch 28/50\n",
      "74/74 [==============================] - 0s 4ms/step - loss: 0.3021 - accuracy: 0.8794 - val_loss: 0.4106 - val_accuracy: 0.7929\n",
      "Epoch 29/50\n",
      "74/74 [==============================] - 0s 5ms/step - loss: 0.3107 - accuracy: 0.8709 - val_loss: 0.3287 - val_accuracy: 0.8574\n",
      "Epoch 30/50\n",
      "74/74 [==============================] - 0s 5ms/step - loss: 0.3069 - accuracy: 0.8769 - val_loss: 0.3398 - val_accuracy: 0.8710\n",
      "Epoch 31/50\n",
      "74/74 [==============================] - 0s 5ms/step - loss: 0.2928 - accuracy: 0.8866 - val_loss: 0.3268 - val_accuracy: 0.8540\n",
      "Epoch 32/50\n",
      "74/74 [==============================] - 0s 4ms/step - loss: 0.2976 - accuracy: 0.8760 - val_loss: 0.2998 - val_accuracy: 0.8930\n",
      "Epoch 33/50\n",
      "74/74 [==============================] - 0s 5ms/step - loss: 0.2865 - accuracy: 0.8947 - val_loss: 0.2891 - val_accuracy: 0.8829\n",
      "Epoch 34/50\n",
      "74/74 [==============================] - 0s 4ms/step - loss: 0.2854 - accuracy: 0.8862 - val_loss: 0.2890 - val_accuracy: 0.8812\n",
      "Epoch 35/50\n",
      "74/74 [==============================] - 0s 5ms/step - loss: 0.2668 - accuracy: 0.8845 - val_loss: 0.3124 - val_accuracy: 0.9015\n",
      "Epoch 36/50\n",
      "74/74 [==============================] - 0s 5ms/step - loss: 0.2865 - accuracy: 0.8883 - val_loss: 0.2769 - val_accuracy: 0.8879\n",
      "Epoch 37/50\n",
      "74/74 [==============================] - 0s 4ms/step - loss: 0.2766 - accuracy: 0.8934 - val_loss: 0.2587 - val_accuracy: 0.9168\n",
      "Epoch 38/50\n",
      "74/74 [==============================] - 0s 4ms/step - loss: 0.2799 - accuracy: 0.8955 - val_loss: 0.2858 - val_accuracy: 0.8761\n",
      "Epoch 39/50\n",
      "74/74 [==============================] - 0s 5ms/step - loss: 0.2765 - accuracy: 0.8934 - val_loss: 0.2559 - val_accuracy: 0.9134\n",
      "Epoch 40/50\n",
      "74/74 [==============================] - 0s 5ms/step - loss: 0.2527 - accuracy: 0.9023 - val_loss: 0.2858 - val_accuracy: 0.9032\n",
      "Epoch 41/50\n",
      "74/74 [==============================] - 0s 5ms/step - loss: 0.2530 - accuracy: 0.9049 - val_loss: 0.3344 - val_accuracy: 0.8693\n",
      "Epoch 42/50\n",
      "74/74 [==============================] - 0s 5ms/step - loss: 0.2511 - accuracy: 0.9096 - val_loss: 0.2323 - val_accuracy: 0.9338\n",
      "Epoch 43/50\n",
      "74/74 [==============================] - 0s 5ms/step - loss: 0.2435 - accuracy: 0.9062 - val_loss: 0.2809 - val_accuracy: 0.9117\n",
      "Epoch 44/50\n",
      "74/74 [==============================] - 0s 5ms/step - loss: 0.2453 - accuracy: 0.9062 - val_loss: 0.2732 - val_accuracy: 0.9015\n",
      "Epoch 45/50\n",
      "74/74 [==============================] - 0s 5ms/step - loss: 0.2423 - accuracy: 0.9113 - val_loss: 0.2485 - val_accuracy: 0.9236\n",
      "Epoch 46/50\n",
      "74/74 [==============================] - 0s 4ms/step - loss: 0.2358 - accuracy: 0.9096 - val_loss: 0.2292 - val_accuracy: 0.9338\n",
      "Epoch 47/50\n",
      "74/74 [==============================] - 0s 5ms/step - loss: 0.2225 - accuracy: 0.9108 - val_loss: 0.2084 - val_accuracy: 0.9406\n",
      "Epoch 48/50\n",
      "74/74 [==============================] - 0s 5ms/step - loss: 0.2187 - accuracy: 0.9134 - val_loss: 0.2207 - val_accuracy: 0.9321\n",
      "Epoch 49/50\n",
      "74/74 [==============================] - 0s 6ms/step - loss: 0.2252 - accuracy: 0.9163 - val_loss: 0.2772 - val_accuracy: 0.9066\n",
      "Epoch 50/50\n",
      "74/74 [==============================] - 0s 4ms/step - loss: 0.2137 - accuracy: 0.9253 - val_loss: 0.2223 - val_accuracy: 0.9372\n"
     ]
    }
   ],
   "source": [
    "hist = model1.fit(X_train,\n",
    "                 y_train,\n",
    "                 batch_size=32,\n",
    "                 epochs=50,\n",
    "                 validation_split=0.2)"
   ]
  },
  {
   "cell_type": "markdown",
   "metadata": {},
   "source": [
    "<b><font color='red'>PS :</font></b> The accuracy of our model on the validation data is **93%**"
   ]
  },
  {
   "cell_type": "code",
   "execution_count": 12,
   "metadata": {},
   "outputs": [
    {
     "data": {
      "text/html": [
       "<div>\n",
       "<style scoped>\n",
       "    .dataframe tbody tr th:only-of-type {\n",
       "        vertical-align: middle;\n",
       "    }\n",
       "\n",
       "    .dataframe tbody tr th {\n",
       "        vertical-align: top;\n",
       "    }\n",
       "\n",
       "    .dataframe thead th {\n",
       "        text-align: right;\n",
       "    }\n",
       "</style>\n",
       "<table border=\"1\" class=\"dataframe\">\n",
       "  <thead>\n",
       "    <tr style=\"text-align: right;\">\n",
       "      <th></th>\n",
       "      <th>loss</th>\n",
       "      <th>accuracy</th>\n",
       "      <th>val_loss</th>\n",
       "      <th>val_accuracy</th>\n",
       "    </tr>\n",
       "  </thead>\n",
       "  <tbody>\n",
       "    <tr>\n",
       "      <th>0</th>\n",
       "      <td>0.679268</td>\n",
       "      <td>0.646739</td>\n",
       "      <td>0.597993</td>\n",
       "      <td>0.733696</td>\n",
       "    </tr>\n",
       "    <tr>\n",
       "      <th>1</th>\n",
       "      <td>0.612044</td>\n",
       "      <td>0.689198</td>\n",
       "      <td>0.617314</td>\n",
       "      <td>0.676630</td>\n",
       "    </tr>\n",
       "    <tr>\n",
       "      <th>2</th>\n",
       "      <td>0.585873</td>\n",
       "      <td>0.700408</td>\n",
       "      <td>0.598776</td>\n",
       "      <td>0.682065</td>\n",
       "    </tr>\n",
       "    <tr>\n",
       "      <th>3</th>\n",
       "      <td>0.566632</td>\n",
       "      <td>0.711617</td>\n",
       "      <td>0.569040</td>\n",
       "      <td>0.717391</td>\n",
       "    </tr>\n",
       "    <tr>\n",
       "      <th>4</th>\n",
       "      <td>0.545494</td>\n",
       "      <td>0.727921</td>\n",
       "      <td>0.553915</td>\n",
       "      <td>0.703804</td>\n",
       "    </tr>\n",
       "  </tbody>\n",
       "</table>\n",
       "</div>"
      ],
      "text/plain": [
       "       loss  accuracy  val_loss  val_accuracy\n",
       "0  0.679268  0.646739  0.597993      0.733696\n",
       "1  0.612044  0.689198  0.617314      0.676630\n",
       "2  0.585873  0.700408  0.598776      0.682065\n",
       "3  0.566632  0.711617  0.569040      0.717391\n",
       "4  0.545494  0.727921  0.553915      0.703804"
      ]
     },
     "execution_count": 12,
     "metadata": {},
     "output_type": "execute_result"
    }
   ],
   "source": [
    "history_df = pd.DataFrame(hist.history)\n",
    "history_df.head()"
   ]
  },
  {
   "cell_type": "markdown",
   "metadata": {},
   "source": [
    "Nous allons tracer la courbe de la fonction loss (pour l'entrainement et la validation) en fonction du nombre d'epochs"
   ]
  },
  {
   "cell_type": "code",
   "execution_count": 13,
   "metadata": {},
   "outputs": [
    {
     "name": "stdout",
     "output_type": "stream",
     "text": [
      "Minimum validation loss: 0.20647987723350525\n"
     ]
    },
    {
     "data": {
      "image/png": "[encoded data removed]",
      "text/plain": [
       "<Figure size 640x480 with 1 Axes>"
      ]
     },
     "metadata": {},
     "output_type": "display_data"
    }
   ],
   "source": [
    "history_df.loc[:, ['loss', 'val_loss']].plot();\n",
    "print(\"Minimum validation loss: {}\".format(history_df['val_loss'].min()))"
   ]
  },
  {
   "cell_type": "markdown",
   "metadata": {},
   "source": [
    "## $Keras$ $tuner$ : (Le deuxième modèle en optimisant les hyperparamètres)"
   ]
  },
  {
   "cell_type": "markdown",
   "metadata": {},
   "source": [
    "Dans cette partie, nous allons utiliser **Keras Tuner** pour effectuer une recherche d'hyperparamètres pour un modèle de réseau de neurones. Le but de cette parrtie est de trouver les meilleures **valeurs** d'hyperparamètres pour maximiser la précision (`accuracy`) du modèle sur un ensemble de validation."
   ]
  },
  {
   "cell_type": "code",
   "execution_count": 14,
   "metadata": {},
   "outputs": [],
   "source": [
    "X_train, X_val, y_train, y_val = train_test_split(X_train, y_train, train_size=0.8)"
   ]
  },
  {
   "cell_type": "code",
   "execution_count": 17,
   "metadata": {},
   "outputs": [
    {
     "name": "stdout",
     "output_type": "stream",
     "text": [
      "Trial 10 Complete [00h 00m 24s]\n",
      "val_accuracy: 0.91032608350118\n",
      "\n",
      "Best val_accuracy So Far: 0.91032608350118\n",
      "Total elapsed time: 00h 03m 58s\n",
      "WARNING:tensorflow:Detecting that an object or model or tf.train.Checkpoint is being deleted with unrestored values. See the following logs for the specific values in question. To silence these warnings, use `status.expect_partial()`. See https://www.tensorflow.org/api_docs/python/tf/train/Checkpoint#restorefor details about the status object returned by the restore function.\n",
      "WARNING:tensorflow:Value in checkpoint could not be found in the restored object: (root).optimizer.iter\n",
      "WARNING:tensorflow:Value in checkpoint could not be found in the restored object: (root).optimizer.beta_1\n",
      "WARNING:tensorflow:Value in checkpoint could not be found in the restored object: (root).optimizer.beta_2\n",
      "WARNING:tensorflow:Value in checkpoint could not be found in the restored object: (root).optimizer.decay\n",
      "WARNING:tensorflow:Value in checkpoint could not be found in the restored object: (root).optimizer.learning_rate\n"
     ]
    }
   ],
   "source": [
    "from tensorflow import keras\n",
    "from tensorflow.keras import layers\n",
    "from kerastuner.tuners import RandomSearch\n",
    "from sklearn.metrics import accuracy_score\n",
    "\n",
    "def build_model(hp):\n",
    "    \"\"\"\n",
    "    Fonction construisant et configurant un modèle de réseau de neurones \n",
    "    en fonction des hyperparamètres spécifiés.\n",
    "\n",
    "    Parameters \n",
    "    ----------\n",
    "    hp : de type HyperParameters fourni par Keras Tuner. Il est utilisé pour spécifier les valeurs des hyperparamètres du modèle. \n",
    "\n",
    "    Returns\n",
    "    -------\n",
    "    model : est une instance de Sequential dans Keras, représentant le modèle de réseau de neurones configuré avec les \n",
    "    hyperparamètres spécifiés.\n",
    "    \"\"\"\n",
    "\n",
    "    model = keras.Sequential()\n",
    "    model.add(layers.Dense(units=hp.Int('units1', min_value=150, max_value=200, step=20),\n",
    "                           activation='relu', input_shape=[57], name='hidden_layer1'))\n",
    "    model.add(layers.Dropout(0.3))\n",
    "    model.add(layers.Dense(units=hp.Int('units2', min_value=100, max_value=200, step=20),\n",
    "                           activation='relu', name='hidden_layer2'))\n",
    "    model.add(layers.Dropout(0.3))\n",
    "    model.add(layers.BatchNormalization())\n",
    "    model.add(layers.Dense(1, activation='sigmoid', name='output_layer'))\n",
    "\n",
    "    model.compile(\n",
    "        optimizer=keras.optimizers.Adam(\n",
    "        hp.Choice('learning_rate', values=[1e-2, 1e-1])),\n",
    "        loss='binary_crossentropy',\n",
    "        metrics=['accuracy']\n",
    "    )\n",
    "\n",
    "\n",
    "    return model\n",
    "\n",
    "tuner = RandomSearch(\n",
    "    build_model,\n",
    "    objective='val_accuracy',\n",
    "    max_trials=10,  # Choisissez le nombre d'essais que vous voulez\n",
    "    executions_per_trial=3,  # Nombre d'exécutions par essai pour réduire la variabilité\n",
    "    directory='my_dir2',\n",
    "    project_name='keras_tuner2'\n",
    ")\n",
    "\n",
    "print('Le résumé des hyperparamètres et de leur espace de recherche :', tuner.search_space_summary() ) # Afficher un résumé de l'espace de recherche des hyperparamètres\n",
    "#lançons la recherche d'hyperparamètres en utilisant l'ensemble d'entraînement (X_train, y_train) et l'ensemble de validation (X_val, y_val).\n",
    "tuner.search(X_train, y_train,\n",
    "             epochs=10,\n",
    "             validation_data=(X_val, y_val)) \n",
    "\n",
    "best_model = tuner.get_best_models(num_models=1)[0] #renvoie les meilleurs modèles\n",
    "best_hyperparameters = tuner.get_best_hyperparameters(num_trials=1)[0] #renvoie les meilleurs hyperparamètres"
   ]
  },
  {
   "cell_type": "markdown",
   "metadata": {},
   "source": [
    "- Les valeurs des hyperparamètres du meilleur modele :"
   ]
  },
  {
   "cell_type": "code",
   "execution_count": 18,
   "metadata": {},
   "outputs": [
    {
     "name": "stdout",
     "output_type": "stream",
     "text": [
      "Meilleurs hyperparamètres:\n",
      "Units1: 170\n",
      "Units2: 160\n",
      "Learning Rate: 0.01\n"
     ]
    }
   ],
   "source": [
    "print(\"Meilleurs hyperparamètres:\")\n",
    "print(f\"Units1: {best_hyperparameters.get('units1')}\")\n",
    "# print(f\"Dropout1: {best_hyperparameters.get('dropout1')}\")\n",
    "print(f\"Units2: {best_hyperparameters.get('units2')}\")\n",
    "# print(f\"Dropout2: {best_hyperparameters.get('dropout2')}\")\n",
    "print(f\"Learning Rate: {best_hyperparameters.get('learning_rate')}\")"
   ]
  },
  {
   "cell_type": "markdown",
   "metadata": {},
   "source": [
    "- La validation accuracy du meilleur modele :"
   ]
  },
  {
   "cell_type": "code",
   "execution_count": 36,
   "metadata": {},
   "outputs": [
    {
     "name": "stdout",
     "output_type": "stream",
     "text": [
      " 1/23 [>.............................] - ETA: 0s - loss: 0.2183 - accuracy: 0.9062"
     ]
    },
    {
     "name": "stdout",
     "output_type": "stream",
     "text": [
      "23/23 [==============================] - 0s 3ms/step - loss: 0.2757 - accuracy: 0.9171\n",
      "Validation Accuracy du meilleur modèle : 0.917119562625885\n"
     ]
    }
   ],
   "source": [
    "validation_accuracy = best_model.evaluate(X_val, y_val)[1]\n",
    "print(f\"Validation Accuracy du meilleur modèle : {validation_accuracy}\")"
   ]
  },
  {
   "cell_type": "code",
   "execution_count": 20,
   "metadata": {},
   "outputs": [
    {
     "name": "stdout",
     "output_type": "stream",
     "text": [
      "Model: \"sequential\"\n",
      "_________________________________________________________________\n",
      " Layer (type)                Output Shape              Param #   \n",
      "=================================================================\n",
      " hidden_layer1 (Dense)       (None, 170)               9860      \n",
      "                                                                 \n",
      " dropout (Dropout)           (None, 170)               0         \n",
      "                                                                 \n",
      " hidden_layer2 (Dense)       (None, 160)               27360     \n",
      "                                                                 \n",
      " dropout_1 (Dropout)         (None, 160)               0         \n",
      "                                                                 \n",
      " batch_normalization (BatchN  (None, 160)              640       \n",
      " ormalization)                                                   \n",
      "                                                                 \n",
      " output_layer (Dense)        (None, 1)                 161       \n",
      "                                                                 \n",
      "=================================================================\n",
      "Total params: 38,021\n",
      "Trainable params: 37,701\n",
      "Non-trainable params: 320\n",
      "_________________________________________________________________\n"
     ]
    }
   ],
   "source": [
    "best_model.summary()"
   ]
  },
  {
   "cell_type": "code",
   "execution_count": 31,
   "metadata": {},
   "outputs": [
    {
     "name": "stdout",
     "output_type": "stream",
     "text": [
      "Model: \"sequential_1\"\n",
      "_________________________________________________________________\n",
      " Layer (type)                Output Shape              Param #   \n",
      "=================================================================\n",
      " hidden_layer1 (Dense)       (None, 100)               5800      \n",
      "                                                                 \n",
      " dropout_2 (Dropout)         (None, 100)               0         \n",
      "                                                                 \n",
      " hidden_layer2 (Dense)       (None, 100)               10100     \n",
      "                                                                 \n",
      " dropout_3 (Dropout)         (None, 100)               0         \n",
      "                                                                 \n",
      " batch_normalization_1 (Batc  (None, 100)              400       \n",
      " hNormalization)                                                 \n",
      "                                                                 \n",
      " output_layer (Dense)        (None, 1)                 101       \n",
      "                                                                 \n",
      "=================================================================\n",
      "Total params: 16,401\n",
      "Trainable params: 16,201\n",
      "Non-trainable params: 200\n",
      "_________________________________________________________________\n"
     ]
    }
   ],
   "source": [
    "model1.summary()"
   ]
  },
  {
   "cell_type": "code",
   "execution_count": 21,
   "metadata": {},
   "outputs": [
    {
     "name": "stdout",
     "output_type": "stream",
     "text": [
      "Results summary\n",
      "Results in my_dir2\\keras_tuner2\n",
      "Showing 5 best trials\n",
      "Objective(name=\"val_accuracy\", direction=\"max\")\n",
      "\n",
      "Trial 09 summary\n",
      "Hyperparameters:\n",
      "units1: 170\n",
      "units2: 160\n",
      "learning_rate: 0.01\n",
      "Score: 0.91032608350118\n",
      "\n",
      "Trial 08 summary\n",
      "Hyperparameters:\n",
      "units1: 170\n",
      "units2: 200\n",
      "learning_rate: 0.01\n",
      "Score: 0.9026267925898234\n",
      "\n",
      "Trial 04 summary\n",
      "Hyperparameters:\n",
      "units1: 170\n",
      "units2: 140\n",
      "learning_rate: 0.01\n",
      "Score: 0.8999094168345133\n",
      "\n",
      "Trial 00 summary\n",
      "Hyperparameters:\n",
      "units1: 190\n",
      "units2: 180\n",
      "learning_rate: 0.01\n",
      "Score: 0.8917572498321533\n",
      "\n",
      "Trial 07 summary\n",
      "Hyperparameters:\n",
      "units1: 150\n",
      "units2: 180\n",
      "learning_rate: 0.01\n",
      "Score: 0.8894927501678467\n"
     ]
    }
   ],
   "source": [
    "tuner.results_summary(num_trials=5)\n"
   ]
  },
  {
   "cell_type": "markdown",
   "metadata": {},
   "source": [
    "## $Evaluate$ $Our$ $Models$ :"
   ]
  },
  {
   "cell_type": "markdown",
   "metadata": {},
   "source": [
    "<b><font color=\"skyblue\">Step 1:</font></b>\n",
    " \n",
    "- Transform our data into a numpy/list data."
   ]
  },
  {
   "cell_type": "code",
   "execution_count": 22,
   "metadata": {},
   "outputs": [],
   "source": [
    "X_test=X_test.values\n",
    "\n",
    "y_test=y_test.values"
   ]
  },
  {
   "cell_type": "markdown",
   "metadata": {},
   "source": [
    "<b><font color=\"skyblue\">Step 2:</font></b>\n",
    " \n",
    "- Evaluate our model on the test data."
   ]
  },
  {
   "cell_type": "code",
   "execution_count": 34,
   "metadata": {},
   "outputs": [
    {
     "name": "stdout",
     "output_type": "stream",
     "text": [
      " 1/29 [>.............................] - ETA: 1s - loss: 0.2625 - accuracy: 0.8750"
     ]
    },
    {
     "name": "stdout",
     "output_type": "stream",
     "text": [
      "29/29 [==============================] - 0s 4ms/step - loss: 0.2157 - accuracy: 0.9283\n",
      "Loss on test data: 0.21574437618255615\n",
      "Accuracy on test data: 0.9283387660980225\n"
     ]
    }
   ],
   "source": [
    "loss, accuracy_DNN = model1.evaluate(X_test, y_test)\n",
    "print('Loss on test data:', loss)\n",
    "print('Accuracy on test data:', accuracy_DNN)"
   ]
  },
  {
   "cell_type": "code",
   "execution_count": 35,
   "metadata": {},
   "outputs": [
    {
     "name": "stdout",
     "output_type": "stream",
     "text": [
      " 1/29 [>.............................] - ETA: 1s - loss: 0.2865 - accuracy: 0.8438"
     ]
    },
    {
     "name": "stdout",
     "output_type": "stream",
     "text": [
      "29/29 [==============================] - 0s 3ms/step - loss: 0.2485 - accuracy: 0.9142\n",
      "Loss on test data: 0.2485089898109436\n",
      "Accuracy on test data: 0.9142236709594727\n"
     ]
    }
   ],
   "source": [
    "loss2, accuracy_DNN2 = best_model.evaluate(X_test, y_test)\n",
    "print('Loss on test data:', loss2)\n",
    "print('Accuracy on test data:', accuracy_DNN2)"
   ]
  },
  {
   "cell_type": "markdown",
   "metadata": {},
   "source": [
    "<b><font color=red> Résultat : </font></b>\n",
    "\n",
    "- Le `premier modèle` est plus <b>performant</b> que le deuxième.\n",
    "\n",
    "<b><font color=blue> Explication : </font></b>\n",
    "\n",
    "Normalement, le deuxièment doit être **plus performant** que le premier ou au moins donne **les mêmes** résultats que le premier parce que les hyperparamètres du premier modèle appartient à l'espace de recherche dans le deuxième modèle, du coup, ces resultats peuvent revenir à autres causes :\n",
    "\n",
    "- `Nombre d'essais insuffisant` : Il est possible que le nombre d'essais (max_trials) que vous avez spécifié pour le tuner ne soit pas suffisant pour explorer de manière exhaustive l'espace des hyperparamètres.\n",
    "\n",
    "- `Surajustement à l'ensemble de validation` : Le tuner peut choisir des hyperparamètres qui surajustent à l'ensemble de validation. Cela peut entraîner de bonnes performances sur l'ensemble de validation, mais des performances inférieures sur de nouveaux exemples.\n",
    "\n",
    "- `Interaction complexe entre hyperparamètres` : Parfois, l'interaction entre différents hyperparamètres peut être complexe, et le tuner peut ne pas être en mesure de trouver la meilleure combinaison."
   ]
  },
  {
   "cell_type": "markdown",
   "metadata": {},
   "source": [
    "## $Predict$ :"
   ]
  },
  {
   "cell_type": "code",
   "execution_count": null,
   "metadata": {},
   "outputs": [],
   "source": [
    "# Predict probabilities for each class\n",
    "predictions_proba = model.predict(X_test)\n",
    "\n",
    "# Convert probabilities to predicted labels (0 or 1 in this binary classification case)\n",
    "predictions = (predictions_proba > 0.5).astype(int)\n",
    "\n",
    "# Display the predictions\n",
    "print(\"Predicted probabilities:\", predictions_proba[:10])  # Display the predicted probabilities for the first 10 samples\n",
    "print(\"Predicted labels:\", predictions[:10])  # Display the predicted labels for the first 10 samples\n"
   ]
  },
  {
   "cell_type": "markdown",
   "metadata": {},
   "source": [
    "# $Logistic$ $regression$\n",
    "We're gonna use the same set of X_train, X_test, y_train and y_test data in the first section"
   ]
  },
  {
   "cell_type": "code",
   "execution_count": null,
   "metadata": {},
   "outputs": [],
   "source": [
    "X_train, X_test, y_train, y_test = train_test_split(X, y, train_size=0.8)"
   ]
  },
  {
   "cell_type": "markdown",
   "metadata": {},
   "source": [
    "## Building the logistique regression model"
   ]
  },
  {
   "cell_type": "code",
   "execution_count": null,
   "metadata": {},
   "outputs": [],
   "source": [
    "X_train, X_test, y_train, y_test = train_test_split(X, y, train_size=0.8)"
   ]
  },
  {
   "cell_type": "code",
   "execution_count": null,
   "metadata": {},
   "outputs": [],
   "source": [
    "from sklearn.linear_model import LogisticRegression\n",
    "logistic_model_v1 = LogisticRegression(random_state=16, max_iter=1000, solver='lbfgs', C=0.1).fit(X_train, y_train)\n",
    "#predicted values\n",
    "y_pred = logistic_model_v1.predict(X_test)"
   ]
  },
  {
   "cell_type": "markdown",
   "metadata": {},
   "source": [
    "## Evaluating the model"
   ]
  },
  {
   "cell_type": "markdown",
   "metadata": {},
   "source": [
    "### Confusion matrix"
   ]
  },
  {
   "cell_type": "code",
   "execution_count": null,
   "metadata": {},
   "outputs": [],
   "source": [
    "# import the metrics class\n",
    "from sklearn import metrics\n",
    "cnf_matrix = metrics.confusion_matrix(y_test, y_pred)"
   ]
  },
  {
   "cell_type": "code",
   "execution_count": null,
   "metadata": {},
   "outputs": [],
   "source": [
    "#visualizing the confusion matrix\n",
    "# import required modules\n",
    "import numpy as np\n",
    "import matplotlib.pyplot as plt\n",
    "import seaborn as sns\n",
    "\n",
    "class_names=[0,1] # name  of classes\n",
    "fig, ax = plt.subplots()\n",
    "tick_marks = np.arange(len(class_names))\n",
    "plt.xticks(tick_marks, class_names)\n",
    "plt.yticks(tick_marks, class_names)\n",
    "# create heatmap\n",
    "sns.heatmap(pd.DataFrame(cnf_matrix), annot=True, cmap=\"YlGnBu\" ,fmt='g')\n",
    "ax.xaxis.set_label_position(\"top\")\n",
    "plt.tight_layout()\n",
    "plt.title('Confusion matrix', y=1.1)\n",
    "plt.ylabel('Actual label')\n",
    "plt.xlabel('Predicted label')"
   ]
  },
  {
   "cell_type": "code",
   "execution_count": null,
   "metadata": {},
   "outputs": [],
   "source": [
    "from sklearn.metrics import classification_report\n",
    "target_names = ['not spam', 'spam']\n",
    "print(classification_report(y_test, y_pred, target_names=target_names))"
   ]
  },
  {
   "cell_type": "code",
   "execution_count": null,
   "metadata": {},
   "outputs": [],
   "source": [
    "import matplotlib.pyplot as plt\n",
    "\n",
    "\n",
    "# Prédiction sur l'ensemble d'entraînement et de validation\n",
    "y_train_pred = logistic_model_v1.predict(X_train)\n",
    "\n",
    "y_test_pred = logistic_model_v1.predict(X_test)\n",
    "\n",
    "# Calcul de l'accuracy\n",
    "train_accuracy = accuracy_score(y_train, y_train_pred)\n",
    "\n",
    "test_accuracy = accuracy_score(y_test, y_test_pred)\n",
    "\n",
    "print(f\"Accuracy sur l'ensemble d'entraînement : {train_accuracy}\")\n",
    "\n",
    "print(f\"Accuracy sur l'ensemble de validation : {test_accuracy}\")"
   ]
  },
  {
   "cell_type": "markdown",
   "metadata": {},
   "source": [
    "### ROC Curve "
   ]
  },
  {
   "cell_type": "code",
   "execution_count": null,
   "metadata": {},
   "outputs": [],
   "source": [
    "y_pred_proba = logistic_model_v1.predict_proba(X_test)[::,1]\n",
    "fpr, tpr, _ = metrics.roc_curve(y_test,  y_pred_proba)\n",
    "auc = metrics.roc_auc_score(y_test, y_pred_proba)\n",
    "plt.plot(fpr,tpr,label=\"data 1, auc=\"+str(auc))\n",
    "plt.legend(loc=4)\n",
    "plt.show()"
   ]
  },
  {
   "cell_type": "markdown",
   "metadata": {},
   "source": [
    "## Validation croisée \n",
    "Nous allons utilisé **GridSearchCV**  pour trouver les meilleurs hyperparamètres d'un modèle tout en utilisant la validation croisée pour évaluer les performances. "
   ]
  },
  {
   "cell_type": "code",
   "execution_count": null,
   "metadata": {},
   "outputs": [],
   "source": [
    "from sklearn.model_selection import GridSearchCV\n",
    "#model\n",
    "logisticReg = LogisticRegression()\n",
    "\n",
    "# Grille des hyperparamètres à explorer\n",
    "param_grid = {\n",
    "    'penalty': ['l1', 'l2'],\n",
    "    'C': [0.1, 1.0, 10.0],\n",
    "    'solver': ['liblinear'],\n",
    "    'max_iter': [500, 1000]\n",
    "}\n",
    "\n",
    "# Création de l'objet GridSearchCV\n",
    "grid_search = GridSearchCV(estimator=logistic_model, param_grid=param_grid, cv=6, scoring='accuracy')\n",
    "\n",
    "# Exécution de la recherche par grille avec validation croisée\n",
    "grid_search.fit(X_train, y_train)\n",
    "\n",
    "# Récupération des meilleurs hyperparamètres et du meilleur score\n",
    "best_params = grid_search.best_params_\n",
    "best_score = grid_search.best_score_\n",
    "\n",
    "print(\"Meilleurs hyperparamètres :\", best_params)\n",
    "print(\"Meilleur score obtenu :\", best_score)"
   ]
  },
  {
   "cell_type": "markdown",
   "metadata": {},
   "source": [
    "Choix final des hyperparams"
   ]
  },
  {
   "cell_type": "code",
   "execution_count": null,
   "metadata": {},
   "outputs": [],
   "source": [
    "logistic_model = LogisticRegression(penalty='l1', max_iter=500, solver='liblinear', C=10, random_state=16).fit(X_train, y_train)"
   ]
  },
  {
   "cell_type": "markdown",
   "metadata": {},
   "source": [
    "Evaluation du modèle finale "
   ]
  },
  {
   "cell_type": "code",
   "execution_count": null,
   "metadata": {},
   "outputs": [],
   "source": [
    "import seaborn as sns\n",
    "y_pred = logistic_model.predict(X_test)\n",
    "cnf_matrix = metrics.confusion_matrix(y_test, y_pred)\n",
    "class_names=[0,1] # name  of classes\n",
    "fig, ax = plt.subplots()\n",
    "tick_marks = np.arange(len(class_names))\n",
    "plt.xticks(tick_marks, class_names)\n",
    "plt.yticks(tick_marks, class_names)\n",
    "# create heatmap\n",
    "sns.heatmap(pd.DataFrame(cnf_matrix), annot=True, cmap=\"YlGnBu\" ,fmt='g')\n",
    "ax.xaxis.set_label_position(\"top\")\n",
    "plt.tight_layout()\n",
    "plt.title('Confusion matrix', y=1.1)\n",
    "plt.ylabel('Actual label')\n",
    "plt.xlabel('Predicted label')\n"
   ]
  },
  {
   "cell_type": "code",
   "execution_count": null,
   "metadata": {},
   "outputs": [],
   "source": [
    "target_names = ['not spam', 'spam']\n",
    "accuracy_LR_test = accuracy_score(y_test, y_pred)\n",
    "print(\"Précision du modèle :\", accuracy_LR_test)\n",
    "print(classification_report(y_test, y_pred, target_names=target_names))\n"
   ]
  },
  {
   "cell_type": "code",
   "execution_count": null,
   "metadata": {},
   "outputs": [],
   "source": [
    "import matplotlib.pyplot as plt\n",
    "\n",
    "\n",
    "# Prédiction sur l'ensemble d'entraînement et de validation\n",
    "y_train_pred = logistic_model.predict(X_train)\n",
    "\n",
    "y_test_pred = logistic_model.predict(X_test)\n",
    "\n",
    "# Calcul de l'accuracy\n",
    "train_accuracy = accuracy_score(y_train, y_train_pred)\n",
    "\n",
    "test_accuracy = accuracy_score(y_test, y_test_pred)\n",
    "\n",
    "print(f\"Accuracy sur l'ensemble d'entraînement : {train_accuracy}\")\n",
    "\n",
    "print(f\"Accuracy sur l'ensemble de validation : {test_accuracy}\")"
   ]
  },
  {
   "cell_type": "markdown",
   "metadata": {},
   "source": [
    "ROC Curve"
   ]
  },
  {
   "cell_type": "code",
   "execution_count": null,
   "metadata": {},
   "outputs": [],
   "source": [
    "y_pred_proba = logistic_model.predict_proba(X_test)[::,1]\n",
    "fpr, tpr, _ = metrics.roc_curve(y_test,  y_pred_proba)\n",
    "auc = metrics.roc_auc_score(y_test, y_pred_proba)\n",
    "plt.plot(fpr,tpr,label=\" auc=\"+str(auc))\n",
    "plt.legend(loc=4)\n",
    "plt.show()"
   ]
  },
  {
   "cell_type": "markdown",
   "metadata": {},
   "source": [
    "- Resumé :"
   ]
  },
  {
   "cell_type": "code",
   "execution_count": null,
   "metadata": {},
   "outputs": [],
   "source": [
    "from sklearn.metrics import precision_score, recall_score, f1_score\n",
    "models=[logistic_model_v1,logistic_model]\n",
    "y_pred_v1=logistic_model_v1.predict(X_test)\n",
    "y_pred_v2=logistic_model.predict(X_test)\n",
    "y_pred=[y_pred_v1,y_pred_v2]\n",
    "Metrics=pd.DataFrame({\n",
    "    i:[accuracy_score(y_test,j),\n",
    "    precision_score(j,y_test),\n",
    "    recall_score(j, y_test),\n",
    "    f1_score(j,y_test)] \n",
    "    for i,j in zip (models,y_pred)},\n",
    "    index=['Accuracy','Precision','Recall','F1'])\n",
    "Metrics"
   ]
  },
  {
   "cell_type": "markdown",
   "metadata": {},
   "source": [
    "<b><font color=red> Résultat : </font></b>\n",
    "\n",
    "- Après que nous avons utilisé la validation croisée nous avons eu des meilleurs résultats."
   ]
  },
  {
   "cell_type": "markdown",
   "metadata": {},
   "source": [
    "# Gradient boosting"
   ]
  },
  {
   "cell_type": "code",
   "execution_count": null,
   "metadata": {},
   "outputs": [],
   "source": [
    "X_train, X_test, y_train, y_test = train_test_split(X, y, train_size=0.8)"
   ]
  },
  {
   "cell_type": "code",
   "execution_count": null,
   "metadata": {},
   "outputs": [],
   "source": [
    "from sklearn.ensemble import GradientBoostingClassifier\n",
    "from sklearn.datasets import make_classification\n",
    "from sklearn.model_selection import train_test_split\n",
    "from sklearn.metrics import accuracy_score, classification_report\n",
    "\n",
    "\n",
    "\n",
    "# Initialisation du modèle de Gradient Boosting Classifier\n",
    "gradient_boosting_model = GradientBoostingClassifier(random_state=42)\n",
    "\n",
    "# Entraînement du modèle sur les données d'entraînement\n",
    "gradient_boosting_model.fit(X_train, y_train)\n",
    "\n",
    "# Prédiction sur les données de test\n",
    "y_pred = gradient_boosting_model.predict(X_test)\n",
    "\n",
    "# Évaluation des performances du modèle\n",
    "target_names = ['not spam', 'spam']\n",
    "accuracy_GB_test = accuracy_score(y_test, y_pred)\n",
    "report = classification_report(y_test, y_pred,target_names=target_names)\n",
    "\n",
    "print(\"Précision du modèle :\", accuracy_GB_test)\n",
    "print(\"Rapport de classification :\\n\", report)\n"
   ]
  },
  {
   "cell_type": "markdown",
   "metadata": {},
   "source": [
    "# Evaluating the Three best models :"
   ]
  },
  {
   "cell_type": "code",
   "execution_count": null,
   "metadata": {},
   "outputs": [],
   "source": [
    "print(f'accuracy logistic regression :{accuracy_LR_test},accuracy DNN {accuracy_DNN}, accuracy Gradient boosting {accuracy_GB_test}')"
   ]
  },
  {
   "cell_type": "code",
   "execution_count": null,
   "metadata": {},
   "outputs": [],
   "source": [
    "from sklearn.metrics import precision_score, recall_score, f1_score\n",
    "models=[model,logistic_model,gradient_boosting_model]\n",
    "y_pred_model=model.predict(X_test)\n",
    "y_pred_model = (y_pred_model > 0.5).astype(int)\n",
    "y_pred_logistic=logistic_model.predict(X_test)\n",
    "y_pred_gradb=gradient_boosting_model.predict(X_test)\n",
    "\n",
    "y_pred=[y_pred_model,y_pred_logistic, y_pred_gradb]\n",
    "Metrics=pd.DataFrame({\n",
    "    str(i):[accuracy_score(y_test,j),\n",
    "    precision_score(j,y_test),\n",
    "    recall_score(j, y_test),\n",
    "    f1_score(j,y_test)] \n",
    "    for i,j in zip (models,y_pred)},\n",
    "    index=['Accuracy','Precision','Recall','F1'])\n",
    "Metrics"
   ]
  },
  {
   "cell_type": "code",
   "execution_count": null,
   "metadata": {},
   "outputs": [],
   "source": []
  }
 ],
 "metadata": {
  "kernelspec": {
   "display_name": "venv2",
   "language": "python",
   "name": "python3"
  },
  "language_info": {
   "codemirror_mode": {
    "name": "ipython",
    "version": 3
   },
   "file_extension": ".py",
   "mimetype": "text/x-python",
   "name": "python",
   "nbconvert_exporter": "python",
   "pygments_lexer": "ipython3",
   "version": "3.10.8"
  }
 },
 "nbformat": 4,
 "nbformat_minor": 2
}
