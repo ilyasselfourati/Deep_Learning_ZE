{
 "cells": [
  {
   "cell_type": "markdown",
   "metadata": {},
   "source": [
    "<center><h1><font color=yellow><i> Deep Learning </i></font></h1></center>"
   ]
  },
  {
   "cell_type": "markdown",
   "metadata": {},
   "source": [
    "## $Import$ $Libraries$ :"
   ]
  },
  {
   "cell_type": "code",
   "execution_count": 2,
   "metadata": {},
   "outputs": [],
   "source": [
    "import numpy as np\n",
    "import pandas as pd\n",
    "import matplotlib.pyplot as plt\n",
    "from tensorflow import keras\n",
    "from sklearn.model_selection import train_test_split\n",
    "from tensorflow.keras import layers\n",
    "import keras_tuner\n"
   ]
  },
  {
   "cell_type": "markdown",
   "metadata": {},
   "source": [
    "## $Data$ :"
   ]
  },
  {
   "cell_type": "markdown",
   "metadata": {},
   "source": [
    "<b><font color=\"skyblue\">Step 1:</font></b>\n",
    " \n",
    "- Import **data** (pandas dataframe). "
   ]
  },
  {
   "cell_type": "code",
   "execution_count": 17,
   "metadata": {},
   "outputs": [
    {
     "data": {
      "text/html": [
       "<div>\n",
       "<style scoped>\n",
       "    .dataframe tbody tr th:only-of-type {\n",
       "        vertical-align: middle;\n",
       "    }\n",
       "\n",
       "    .dataframe tbody tr th {\n",
       "        vertical-align: top;\n",
       "    }\n",
       "\n",
       "    .dataframe thead th {\n",
       "        text-align: right;\n",
       "    }\n",
       "</style>\n",
       "<table border=\"1\" class=\"dataframe\">\n",
       "  <thead>\n",
       "    <tr style=\"text-align: right;\">\n",
       "      <th></th>\n",
       "      <th>word_freq_make</th>\n",
       "      <th>word_freq_address</th>\n",
       "      <th>word_freq_all</th>\n",
       "      <th>word_freq_3d</th>\n",
       "      <th>word_freq_our</th>\n",
       "      <th>word_freq_over</th>\n",
       "      <th>word_freq_remove</th>\n",
       "      <th>word_freq_internet</th>\n",
       "      <th>word_freq_order</th>\n",
       "      <th>word_freq_mail</th>\n",
       "      <th>...</th>\n",
       "      <th>char_freq_semicolon</th>\n",
       "      <th>char_freq_leftbrac</th>\n",
       "      <th>char_freq_leftsquarebrac</th>\n",
       "      <th>char_freq_exclaim</th>\n",
       "      <th>char_freq_dollar</th>\n",
       "      <th>char_freq_pound</th>\n",
       "      <th>capital_run_length_average</th>\n",
       "      <th>capital_run_length_longest</th>\n",
       "      <th>capital_run_length_total</th>\n",
       "      <th>spam</th>\n",
       "    </tr>\n",
       "  </thead>\n",
       "  <tbody>\n",
       "    <tr>\n",
       "      <th>0</th>\n",
       "      <td>0.00</td>\n",
       "      <td>0.64</td>\n",
       "      <td>0.64</td>\n",
       "      <td>0.0</td>\n",
       "      <td>0.32</td>\n",
       "      <td>0.00</td>\n",
       "      <td>0.00</td>\n",
       "      <td>0.00</td>\n",
       "      <td>0.00</td>\n",
       "      <td>0.00</td>\n",
       "      <td>...</td>\n",
       "      <td>0.00</td>\n",
       "      <td>0.000</td>\n",
       "      <td>0.0</td>\n",
       "      <td>0.778</td>\n",
       "      <td>0.000</td>\n",
       "      <td>0.000</td>\n",
       "      <td>3.756</td>\n",
       "      <td>61</td>\n",
       "      <td>278</td>\n",
       "      <td>1</td>\n",
       "    </tr>\n",
       "    <tr>\n",
       "      <th>1</th>\n",
       "      <td>0.21</td>\n",
       "      <td>0.28</td>\n",
       "      <td>0.50</td>\n",
       "      <td>0.0</td>\n",
       "      <td>0.14</td>\n",
       "      <td>0.28</td>\n",
       "      <td>0.21</td>\n",
       "      <td>0.07</td>\n",
       "      <td>0.00</td>\n",
       "      <td>0.94</td>\n",
       "      <td>...</td>\n",
       "      <td>0.00</td>\n",
       "      <td>0.132</td>\n",
       "      <td>0.0</td>\n",
       "      <td>0.372</td>\n",
       "      <td>0.180</td>\n",
       "      <td>0.048</td>\n",
       "      <td>5.114</td>\n",
       "      <td>101</td>\n",
       "      <td>1028</td>\n",
       "      <td>1</td>\n",
       "    </tr>\n",
       "    <tr>\n",
       "      <th>2</th>\n",
       "      <td>0.06</td>\n",
       "      <td>0.00</td>\n",
       "      <td>0.71</td>\n",
       "      <td>0.0</td>\n",
       "      <td>1.23</td>\n",
       "      <td>0.19</td>\n",
       "      <td>0.19</td>\n",
       "      <td>0.12</td>\n",
       "      <td>0.64</td>\n",
       "      <td>0.25</td>\n",
       "      <td>...</td>\n",
       "      <td>0.01</td>\n",
       "      <td>0.143</td>\n",
       "      <td>0.0</td>\n",
       "      <td>0.276</td>\n",
       "      <td>0.184</td>\n",
       "      <td>0.010</td>\n",
       "      <td>9.821</td>\n",
       "      <td>485</td>\n",
       "      <td>2259</td>\n",
       "      <td>1</td>\n",
       "    </tr>\n",
       "    <tr>\n",
       "      <th>3</th>\n",
       "      <td>0.00</td>\n",
       "      <td>0.00</td>\n",
       "      <td>0.00</td>\n",
       "      <td>0.0</td>\n",
       "      <td>0.63</td>\n",
       "      <td>0.00</td>\n",
       "      <td>0.31</td>\n",
       "      <td>0.63</td>\n",
       "      <td>0.31</td>\n",
       "      <td>0.63</td>\n",
       "      <td>...</td>\n",
       "      <td>0.00</td>\n",
       "      <td>0.137</td>\n",
       "      <td>0.0</td>\n",
       "      <td>0.137</td>\n",
       "      <td>0.000</td>\n",
       "      <td>0.000</td>\n",
       "      <td>3.537</td>\n",
       "      <td>40</td>\n",
       "      <td>191</td>\n",
       "      <td>1</td>\n",
       "    </tr>\n",
       "    <tr>\n",
       "      <th>4</th>\n",
       "      <td>0.00</td>\n",
       "      <td>0.00</td>\n",
       "      <td>0.00</td>\n",
       "      <td>0.0</td>\n",
       "      <td>0.63</td>\n",
       "      <td>0.00</td>\n",
       "      <td>0.31</td>\n",
       "      <td>0.63</td>\n",
       "      <td>0.31</td>\n",
       "      <td>0.63</td>\n",
       "      <td>...</td>\n",
       "      <td>0.00</td>\n",
       "      <td>0.135</td>\n",
       "      <td>0.0</td>\n",
       "      <td>0.135</td>\n",
       "      <td>0.000</td>\n",
       "      <td>0.000</td>\n",
       "      <td>3.537</td>\n",
       "      <td>40</td>\n",
       "      <td>191</td>\n",
       "      <td>1</td>\n",
       "    </tr>\n",
       "  </tbody>\n",
       "</table>\n",
       "<p>5 rows × 58 columns</p>\n",
       "</div>"
      ],
      "text/plain": [
       "   word_freq_make  word_freq_address  word_freq_all  word_freq_3d  \\\n",
       "0            0.00               0.64           0.64           0.0   \n",
       "1            0.21               0.28           0.50           0.0   \n",
       "2            0.06               0.00           0.71           0.0   \n",
       "3            0.00               0.00           0.00           0.0   \n",
       "4            0.00               0.00           0.00           0.0   \n",
       "\n",
       "   word_freq_our  word_freq_over  word_freq_remove  word_freq_internet  \\\n",
       "0           0.32            0.00              0.00                0.00   \n",
       "1           0.14            0.28              0.21                0.07   \n",
       "2           1.23            0.19              0.19                0.12   \n",
       "3           0.63            0.00              0.31                0.63   \n",
       "4           0.63            0.00              0.31                0.63   \n",
       "\n",
       "   word_freq_order  word_freq_mail  ...  char_freq_semicolon  \\\n",
       "0             0.00            0.00  ...                 0.00   \n",
       "1             0.00            0.94  ...                 0.00   \n",
       "2             0.64            0.25  ...                 0.01   \n",
       "3             0.31            0.63  ...                 0.00   \n",
       "4             0.31            0.63  ...                 0.00   \n",
       "\n",
       "   char_freq_leftbrac  char_freq_leftsquarebrac  char_freq_exclaim  \\\n",
       "0               0.000                       0.0              0.778   \n",
       "1               0.132                       0.0              0.372   \n",
       "2               0.143                       0.0              0.276   \n",
       "3               0.137                       0.0              0.137   \n",
       "4               0.135                       0.0              0.135   \n",
       "\n",
       "   char_freq_dollar  char_freq_pound  capital_run_length_average  \\\n",
       "0             0.000            0.000                       3.756   \n",
       "1             0.180            0.048                       5.114   \n",
       "2             0.184            0.010                       9.821   \n",
       "3             0.000            0.000                       3.537   \n",
       "4             0.000            0.000                       3.537   \n",
       "\n",
       "   capital_run_length_longest  capital_run_length_total  spam  \n",
       "0                          61                       278     1  \n",
       "1                         101                      1028     1  \n",
       "2                         485                      2259     1  \n",
       "3                          40                       191     1  \n",
       "4                          40                       191     1  \n",
       "\n",
       "[5 rows x 58 columns]"
      ]
     },
     "execution_count": 17,
     "metadata": {},
     "output_type": "execute_result"
    }
   ],
   "source": [
    "df_spam=pd.read_csv('spam.csv')\n",
    "df_spam.head()"
   ]
  },
  {
   "cell_type": "markdown",
   "metadata": {},
   "source": [
    "<b><font color=\"skyblue\">Step 2:</font></b>\n",
    " \n",
    "- Separate the output (the column `spam`) and the input (the other columns). "
   ]
  },
  {
   "cell_type": "code",
   "execution_count": 18,
   "metadata": {},
   "outputs": [],
   "source": [
    "y=df_spam['spam']\n",
    "X=df_spam.drop('spam',axis=1)"
   ]
  },
  {
   "cell_type": "code",
   "execution_count": 19,
   "metadata": {},
   "outputs": [
    {
     "data": {
      "text/html": [
       "<div>\n",
       "<style scoped>\n",
       "    .dataframe tbody tr th:only-of-type {\n",
       "        vertical-align: middle;\n",
       "    }\n",
       "\n",
       "    .dataframe tbody tr th {\n",
       "        vertical-align: top;\n",
       "    }\n",
       "\n",
       "    .dataframe thead th {\n",
       "        text-align: right;\n",
       "    }\n",
       "</style>\n",
       "<table border=\"1\" class=\"dataframe\">\n",
       "  <thead>\n",
       "    <tr style=\"text-align: right;\">\n",
       "      <th></th>\n",
       "      <th>word_freq_make</th>\n",
       "      <th>word_freq_address</th>\n",
       "      <th>word_freq_all</th>\n",
       "      <th>word_freq_3d</th>\n",
       "      <th>word_freq_our</th>\n",
       "      <th>word_freq_over</th>\n",
       "      <th>word_freq_remove</th>\n",
       "      <th>word_freq_internet</th>\n",
       "      <th>word_freq_order</th>\n",
       "      <th>word_freq_mail</th>\n",
       "      <th>...</th>\n",
       "      <th>word_freq_conference</th>\n",
       "      <th>char_freq_semicolon</th>\n",
       "      <th>char_freq_leftbrac</th>\n",
       "      <th>char_freq_leftsquarebrac</th>\n",
       "      <th>char_freq_exclaim</th>\n",
       "      <th>char_freq_dollar</th>\n",
       "      <th>char_freq_pound</th>\n",
       "      <th>capital_run_length_average</th>\n",
       "      <th>capital_run_length_longest</th>\n",
       "      <th>capital_run_length_total</th>\n",
       "    </tr>\n",
       "  </thead>\n",
       "  <tbody>\n",
       "    <tr>\n",
       "      <th>0</th>\n",
       "      <td>0.00</td>\n",
       "      <td>0.64</td>\n",
       "      <td>0.64</td>\n",
       "      <td>0.0</td>\n",
       "      <td>0.32</td>\n",
       "      <td>0.00</td>\n",
       "      <td>0.00</td>\n",
       "      <td>0.00</td>\n",
       "      <td>0.00</td>\n",
       "      <td>0.00</td>\n",
       "      <td>...</td>\n",
       "      <td>0.0</td>\n",
       "      <td>0.00</td>\n",
       "      <td>0.000</td>\n",
       "      <td>0.0</td>\n",
       "      <td>0.778</td>\n",
       "      <td>0.000</td>\n",
       "      <td>0.000</td>\n",
       "      <td>3.756</td>\n",
       "      <td>61</td>\n",
       "      <td>278</td>\n",
       "    </tr>\n",
       "    <tr>\n",
       "      <th>1</th>\n",
       "      <td>0.21</td>\n",
       "      <td>0.28</td>\n",
       "      <td>0.50</td>\n",
       "      <td>0.0</td>\n",
       "      <td>0.14</td>\n",
       "      <td>0.28</td>\n",
       "      <td>0.21</td>\n",
       "      <td>0.07</td>\n",
       "      <td>0.00</td>\n",
       "      <td>0.94</td>\n",
       "      <td>...</td>\n",
       "      <td>0.0</td>\n",
       "      <td>0.00</td>\n",
       "      <td>0.132</td>\n",
       "      <td>0.0</td>\n",
       "      <td>0.372</td>\n",
       "      <td>0.180</td>\n",
       "      <td>0.048</td>\n",
       "      <td>5.114</td>\n",
       "      <td>101</td>\n",
       "      <td>1028</td>\n",
       "    </tr>\n",
       "    <tr>\n",
       "      <th>2</th>\n",
       "      <td>0.06</td>\n",
       "      <td>0.00</td>\n",
       "      <td>0.71</td>\n",
       "      <td>0.0</td>\n",
       "      <td>1.23</td>\n",
       "      <td>0.19</td>\n",
       "      <td>0.19</td>\n",
       "      <td>0.12</td>\n",
       "      <td>0.64</td>\n",
       "      <td>0.25</td>\n",
       "      <td>...</td>\n",
       "      <td>0.0</td>\n",
       "      <td>0.01</td>\n",
       "      <td>0.143</td>\n",
       "      <td>0.0</td>\n",
       "      <td>0.276</td>\n",
       "      <td>0.184</td>\n",
       "      <td>0.010</td>\n",
       "      <td>9.821</td>\n",
       "      <td>485</td>\n",
       "      <td>2259</td>\n",
       "    </tr>\n",
       "    <tr>\n",
       "      <th>3</th>\n",
       "      <td>0.00</td>\n",
       "      <td>0.00</td>\n",
       "      <td>0.00</td>\n",
       "      <td>0.0</td>\n",
       "      <td>0.63</td>\n",
       "      <td>0.00</td>\n",
       "      <td>0.31</td>\n",
       "      <td>0.63</td>\n",
       "      <td>0.31</td>\n",
       "      <td>0.63</td>\n",
       "      <td>...</td>\n",
       "      <td>0.0</td>\n",
       "      <td>0.00</td>\n",
       "      <td>0.137</td>\n",
       "      <td>0.0</td>\n",
       "      <td>0.137</td>\n",
       "      <td>0.000</td>\n",
       "      <td>0.000</td>\n",
       "      <td>3.537</td>\n",
       "      <td>40</td>\n",
       "      <td>191</td>\n",
       "    </tr>\n",
       "    <tr>\n",
       "      <th>4</th>\n",
       "      <td>0.00</td>\n",
       "      <td>0.00</td>\n",
       "      <td>0.00</td>\n",
       "      <td>0.0</td>\n",
       "      <td>0.63</td>\n",
       "      <td>0.00</td>\n",
       "      <td>0.31</td>\n",
       "      <td>0.63</td>\n",
       "      <td>0.31</td>\n",
       "      <td>0.63</td>\n",
       "      <td>...</td>\n",
       "      <td>0.0</td>\n",
       "      <td>0.00</td>\n",
       "      <td>0.135</td>\n",
       "      <td>0.0</td>\n",
       "      <td>0.135</td>\n",
       "      <td>0.000</td>\n",
       "      <td>0.000</td>\n",
       "      <td>3.537</td>\n",
       "      <td>40</td>\n",
       "      <td>191</td>\n",
       "    </tr>\n",
       "  </tbody>\n",
       "</table>\n",
       "<p>5 rows × 57 columns</p>\n",
       "</div>"
      ],
      "text/plain": [
       "   word_freq_make  word_freq_address  word_freq_all  word_freq_3d  \\\n",
       "0            0.00               0.64           0.64           0.0   \n",
       "1            0.21               0.28           0.50           0.0   \n",
       "2            0.06               0.00           0.71           0.0   \n",
       "3            0.00               0.00           0.00           0.0   \n",
       "4            0.00               0.00           0.00           0.0   \n",
       "\n",
       "   word_freq_our  word_freq_over  word_freq_remove  word_freq_internet  \\\n",
       "0           0.32            0.00              0.00                0.00   \n",
       "1           0.14            0.28              0.21                0.07   \n",
       "2           1.23            0.19              0.19                0.12   \n",
       "3           0.63            0.00              0.31                0.63   \n",
       "4           0.63            0.00              0.31                0.63   \n",
       "\n",
       "   word_freq_order  word_freq_mail  ...  word_freq_conference  \\\n",
       "0             0.00            0.00  ...                   0.0   \n",
       "1             0.00            0.94  ...                   0.0   \n",
       "2             0.64            0.25  ...                   0.0   \n",
       "3             0.31            0.63  ...                   0.0   \n",
       "4             0.31            0.63  ...                   0.0   \n",
       "\n",
       "   char_freq_semicolon  char_freq_leftbrac  char_freq_leftsquarebrac  \\\n",
       "0                 0.00               0.000                       0.0   \n",
       "1                 0.00               0.132                       0.0   \n",
       "2                 0.01               0.143                       0.0   \n",
       "3                 0.00               0.137                       0.0   \n",
       "4                 0.00               0.135                       0.0   \n",
       "\n",
       "   char_freq_exclaim  char_freq_dollar  char_freq_pound  \\\n",
       "0              0.778             0.000            0.000   \n",
       "1              0.372             0.180            0.048   \n",
       "2              0.276             0.184            0.010   \n",
       "3              0.137             0.000            0.000   \n",
       "4              0.135             0.000            0.000   \n",
       "\n",
       "   capital_run_length_average  capital_run_length_longest  \\\n",
       "0                       3.756                          61   \n",
       "1                       5.114                         101   \n",
       "2                       9.821                         485   \n",
       "3                       3.537                          40   \n",
       "4                       3.537                          40   \n",
       "\n",
       "   capital_run_length_total  \n",
       "0                       278  \n",
       "1                      1028  \n",
       "2                      2259  \n",
       "3                       191  \n",
       "4                       191  \n",
       "\n",
       "[5 rows x 57 columns]"
      ]
     },
     "execution_count": 19,
     "metadata": {},
     "output_type": "execute_result"
    }
   ],
   "source": [
    "X.head()"
   ]
  },
  {
   "cell_type": "markdown",
   "metadata": {},
   "source": [
    "<b><font color=\"skyblue\">Step 3:</font></b>\n",
    " \n",
    "- Split our data into **train data** (80% -- 3680 rows) and **test data** (921 rows). "
   ]
  },
  {
   "cell_type": "code",
   "execution_count": 20,
   "metadata": {},
   "outputs": [],
   "source": [
    "X_train, X_test, y_train, y_test = train_test_split(X, y, train_size=0.8)"
   ]
  },
  {
   "cell_type": "markdown",
   "metadata": {},
   "source": [
    "## $Building$ $our$ $Model$ :"
   ]
  },
  {
   "cell_type": "markdown",
   "metadata": {},
   "source": [
    "<b><font color=\"skyblue\">Step 1:</font></b>\n",
    " \n",
    "- Creation of our model using **Keras**."
   ]
  },
  {
   "cell_type": "code",
   "execution_count": 7,
   "metadata": {},
   "outputs": [],
   "source": [
    "model = keras.Sequential([\n",
    "    layers.Dense(100, activation='relu', input_shape=[57], name='hidden_layer1'),\n",
    "    layers.Dropout(0.3),  # Ajout d'une couche Dropout pour réduire le surajustement\n",
    "    layers.Dense(100, activation='relu', name='hidden_layer2'),\n",
    "    layers.Dropout(0.3),  # Ajout d'une couche Dropout pour réduire le surajustement\n",
    "    layers.BatchNormalization(),\n",
    "    layers.Dense(1, activation='sigmoid', name='output_layer'),  # Changement de l'activation en 'sigmoid'\n",
    "])"
   ]
  },
  {
   "cell_type": "code",
   "execution_count": 8,
   "metadata": {},
   "outputs": [
    {
     "name": "stdout",
     "output_type": "stream",
     "text": [
      "Model: \"sequential\"\n",
      "_________________________________________________________________\n",
      " Layer (type)                Output Shape              Param #   \n",
      "=================================================================\n",
      " hidden_layer1 (Dense)       (None, 100)               5800      \n",
      "                                                                 \n",
      " dropout (Dropout)           (None, 100)               0         \n",
      "                                                                 \n",
      " hidden_layer2 (Dense)       (None, 100)               10100     \n",
      "                                                                 \n",
      " dropout_1 (Dropout)         (None, 100)               0         \n",
      "                                                                 \n",
      " batch_normalization (Batch  (None, 100)               400       \n",
      " Normalization)                                                  \n",
      "                                                                 \n",
      " output_layer (Dense)        (None, 1)                 101       \n",
      "                                                                 \n",
      "=================================================================\n",
      "Total params: 16401 (64.07 KB)\n",
      "Trainable params: 16201 (63.29 KB)\n",
      "Non-trainable params: 200 (800.00 Byte)\n",
      "_________________________________________________________________\n"
     ]
    }
   ],
   "source": [
    "model.summary()"
   ]
  },
  {
   "cell_type": "markdown",
   "metadata": {},
   "source": [
    "<b><font color=\"skyblue\">Step 2:</font></b>\n",
    " \n",
    "- Precise the `optimizer`, the `loss-fonction` & the `metric`."
   ]
  },
  {
   "cell_type": "code",
   "execution_count": 9,
   "metadata": {},
   "outputs": [],
   "source": [
    "model.compile(\n",
    "    optimizer='adam',\n",
    "    loss='binary_crossentropy',\n",
    "    metrics=['accuracy'],\n",
    ")"
   ]
  },
  {
   "cell_type": "markdown",
   "metadata": {},
   "source": [
    "<b><font color=\"skyblue\">Step 3:</font></b>\n",
    " \n",
    "- Train the model."
   ]
  },
  {
   "cell_type": "code",
   "execution_count": 10,
   "metadata": {},
   "outputs": [
    {
     "name": "stdout",
     "output_type": "stream",
     "text": [
      "Epoch 1/50\n",
      "92/92 [==============================] - 1s 5ms/step - loss: 0.6856 - accuracy: 0.6556 - val_loss: 0.6141 - val_accuracy: 0.6698\n",
      "Epoch 2/50\n",
      "92/92 [==============================] - 0s 2ms/step - loss: 0.6174 - accuracy: 0.6940 - val_loss: 0.6069 - val_accuracy: 0.6698\n",
      "Epoch 3/50\n",
      "92/92 [==============================] - 0s 2ms/step - loss: 0.5782 - accuracy: 0.7181 - val_loss: 0.5824 - val_accuracy: 0.6753\n",
      "Epoch 4/50\n",
      "92/92 [==============================] - 0s 2ms/step - loss: 0.5715 - accuracy: 0.7201 - val_loss: 0.5750 - val_accuracy: 0.6834\n",
      "Epoch 5/50\n",
      "92/92 [==============================] - 0s 2ms/step - loss: 0.5420 - accuracy: 0.7327 - val_loss: 0.5477 - val_accuracy: 0.6929\n",
      "Epoch 6/50\n",
      "92/92 [==============================] - 0s 2ms/step - loss: 0.5129 - accuracy: 0.7476 - val_loss: 0.5445 - val_accuracy: 0.6943\n",
      "Epoch 7/50\n",
      "92/92 [==============================] - 0s 2ms/step - loss: 0.4946 - accuracy: 0.7734 - val_loss: 0.5591 - val_accuracy: 0.6780\n",
      "Epoch 8/50\n",
      "92/92 [==============================] - 0s 2ms/step - loss: 0.4664 - accuracy: 0.7812 - val_loss: 0.5206 - val_accuracy: 0.6957\n",
      "Epoch 9/50\n",
      "92/92 [==============================] - 0s 2ms/step - loss: 0.4391 - accuracy: 0.8023 - val_loss: 0.5468 - val_accuracy: 0.6698\n",
      "Epoch 10/50\n",
      "92/92 [==============================] - 0s 2ms/step - loss: 0.4341 - accuracy: 0.7962 - val_loss: 0.5140 - val_accuracy: 0.6970\n",
      "Epoch 11/50\n",
      "92/92 [==============================] - 0s 2ms/step - loss: 0.4000 - accuracy: 0.8288 - val_loss: 0.5393 - val_accuracy: 0.6671\n",
      "Epoch 12/50\n",
      "92/92 [==============================] - 0s 2ms/step - loss: 0.3962 - accuracy: 0.8257 - val_loss: 0.5438 - val_accuracy: 0.6549\n",
      "Epoch 13/50\n",
      "92/92 [==============================] - 0s 2ms/step - loss: 0.3684 - accuracy: 0.8448 - val_loss: 0.4692 - val_accuracy: 0.7133\n",
      "Epoch 14/50\n",
      "92/92 [==============================] - 0s 3ms/step - loss: 0.3561 - accuracy: 0.8526 - val_loss: 0.4674 - val_accuracy: 0.7133\n",
      "Epoch 15/50\n",
      "92/92 [==============================] - 0s 2ms/step - loss: 0.3481 - accuracy: 0.8567 - val_loss: 0.4247 - val_accuracy: 0.7636\n",
      "Epoch 16/50\n",
      "92/92 [==============================] - 0s 3ms/step - loss: 0.3182 - accuracy: 0.8689 - val_loss: 0.4669 - val_accuracy: 0.7323\n",
      "Epoch 17/50\n",
      "92/92 [==============================] - 0s 2ms/step - loss: 0.3062 - accuracy: 0.8736 - val_loss: 0.3989 - val_accuracy: 0.7840\n",
      "Epoch 18/50\n",
      "92/92 [==============================] - 0s 2ms/step - loss: 0.2931 - accuracy: 0.8798 - val_loss: 0.4113 - val_accuracy: 0.7731\n",
      "Epoch 19/50\n",
      "92/92 [==============================] - 0s 2ms/step - loss: 0.2840 - accuracy: 0.8835 - val_loss: 0.3888 - val_accuracy: 0.7867\n",
      "Epoch 20/50\n",
      "92/92 [==============================] - 0s 2ms/step - loss: 0.2900 - accuracy: 0.8865 - val_loss: 0.3072 - val_accuracy: 0.8655\n",
      "Epoch 21/50\n",
      "92/92 [==============================] - 0s 2ms/step - loss: 0.2625 - accuracy: 0.9025 - val_loss: 0.3383 - val_accuracy: 0.8383\n",
      "Epoch 22/50\n",
      "92/92 [==============================] - 0s 2ms/step - loss: 0.2538 - accuracy: 0.8984 - val_loss: 0.4465 - val_accuracy: 0.7405\n",
      "Epoch 23/50\n",
      "92/92 [==============================] - 0s 2ms/step - loss: 0.2673 - accuracy: 0.8981 - val_loss: 0.3072 - val_accuracy: 0.8791\n",
      "Epoch 24/50\n",
      "92/92 [==============================] - 0s 2ms/step - loss: 0.2548 - accuracy: 0.9022 - val_loss: 0.3048 - val_accuracy: 0.8750\n",
      "Epoch 25/50\n",
      "92/92 [==============================] - 0s 2ms/step - loss: 0.2402 - accuracy: 0.9059 - val_loss: 0.2761 - val_accuracy: 0.9008\n",
      "Epoch 26/50\n",
      "92/92 [==============================] - 0s 3ms/step - loss: 0.2333 - accuracy: 0.9147 - val_loss: 0.3000 - val_accuracy: 0.8777\n",
      "Epoch 27/50\n",
      "92/92 [==============================] - 0s 2ms/step - loss: 0.2498 - accuracy: 0.9096 - val_loss: 0.2896 - val_accuracy: 0.8913\n",
      "Epoch 28/50\n",
      "92/92 [==============================] - 0s 2ms/step - loss: 0.2283 - accuracy: 0.9137 - val_loss: 0.2571 - val_accuracy: 0.9130\n",
      "Epoch 29/50\n",
      "92/92 [==============================] - 0s 3ms/step - loss: 0.2419 - accuracy: 0.9120 - val_loss: 0.2832 - val_accuracy: 0.8872\n",
      "Epoch 30/50\n",
      "92/92 [==============================] - 0s 2ms/step - loss: 0.2269 - accuracy: 0.9096 - val_loss: 0.3284 - val_accuracy: 0.8451\n",
      "Epoch 31/50\n",
      "92/92 [==============================] - 0s 3ms/step - loss: 0.2302 - accuracy: 0.9171 - val_loss: 0.2542 - val_accuracy: 0.9076\n",
      "Epoch 32/50\n",
      "92/92 [==============================] - 0s 3ms/step - loss: 0.2219 - accuracy: 0.9215 - val_loss: 0.2396 - val_accuracy: 0.9158\n",
      "Epoch 33/50\n",
      "92/92 [==============================] - 0s 2ms/step - loss: 0.2090 - accuracy: 0.9249 - val_loss: 0.2336 - val_accuracy: 0.9158\n",
      "Epoch 34/50\n",
      "92/92 [==============================] - 0s 3ms/step - loss: 0.2241 - accuracy: 0.9175 - val_loss: 0.2674 - val_accuracy: 0.8940\n",
      "Epoch 35/50\n",
      "92/92 [==============================] - 0s 3ms/step - loss: 0.2127 - accuracy: 0.9239 - val_loss: 0.2509 - val_accuracy: 0.9076\n",
      "Epoch 36/50\n",
      "92/92 [==============================] - 0s 2ms/step - loss: 0.2261 - accuracy: 0.9232 - val_loss: 0.2261 - val_accuracy: 0.9158\n",
      "Epoch 37/50\n",
      "92/92 [==============================] - 0s 2ms/step - loss: 0.2196 - accuracy: 0.9229 - val_loss: 0.2784 - val_accuracy: 0.8818\n",
      "Epoch 38/50\n",
      "92/92 [==============================] - 0s 2ms/step - loss: 0.2163 - accuracy: 0.9209 - val_loss: 0.2569 - val_accuracy: 0.9076\n",
      "Epoch 39/50\n",
      "92/92 [==============================] - 0s 2ms/step - loss: 0.1991 - accuracy: 0.9341 - val_loss: 0.2060 - val_accuracy: 0.9280\n",
      "Epoch 40/50\n",
      "92/92 [==============================] - 0s 2ms/step - loss: 0.2104 - accuracy: 0.9249 - val_loss: 0.2261 - val_accuracy: 0.9171\n",
      "Epoch 41/50\n",
      "92/92 [==============================] - 0s 2ms/step - loss: 0.2025 - accuracy: 0.9280 - val_loss: 0.2625 - val_accuracy: 0.8913\n",
      "Epoch 42/50\n",
      "92/92 [==============================] - 0s 2ms/step - loss: 0.2054 - accuracy: 0.9287 - val_loss: 0.2472 - val_accuracy: 0.9062\n",
      "Epoch 43/50\n",
      "92/92 [==============================] - 0s 2ms/step - loss: 0.1854 - accuracy: 0.9331 - val_loss: 0.2343 - val_accuracy: 0.9103\n",
      "Epoch 44/50\n",
      "92/92 [==============================] - 0s 3ms/step - loss: 0.1957 - accuracy: 0.9341 - val_loss: 0.2142 - val_accuracy: 0.9239\n",
      "Epoch 45/50\n",
      "92/92 [==============================] - 0s 2ms/step - loss: 0.1985 - accuracy: 0.9310 - val_loss: 0.2189 - val_accuracy: 0.9253\n",
      "Epoch 46/50\n",
      "92/92 [==============================] - 0s 2ms/step - loss: 0.1963 - accuracy: 0.9270 - val_loss: 0.2116 - val_accuracy: 0.9307\n",
      "Epoch 47/50\n",
      "92/92 [==============================] - 0s 2ms/step - loss: 0.2107 - accuracy: 0.9293 - val_loss: 0.2303 - val_accuracy: 0.9212\n",
      "Epoch 48/50\n",
      "92/92 [==============================] - 0s 2ms/step - loss: 0.1946 - accuracy: 0.9334 - val_loss: 0.1990 - val_accuracy: 0.9402\n",
      "Epoch 49/50\n",
      "92/92 [==============================] - 0s 3ms/step - loss: 0.1959 - accuracy: 0.9365 - val_loss: 0.2139 - val_accuracy: 0.9280\n",
      "Epoch 50/50\n",
      "92/92 [==============================] - 0s 3ms/step - loss: 0.1886 - accuracy: 0.9321 - val_loss: 0.2078 - val_accuracy: 0.9321\n"
     ]
    }
   ],
   "source": [
    "hist = model.fit(X_train,\n",
    "                 y_train,\n",
    "                 batch_size=32,\n",
    "                 epochs=50,\n",
    "                 validation_split=0.2)"
   ]
  },
  {
   "cell_type": "markdown",
   "metadata": {},
   "source": [
    "<b><font color='red'>PS :</font></b> The accuracy of our model on the validation data is **94%**"
   ]
  },
  {
   "cell_type": "markdown",
   "metadata": {},
   "source": [
    "<b><font > Keras tuner </font></b> "
   ]
  },
  {
   "cell_type": "code",
   "execution_count": 11,
   "metadata": {},
   "outputs": [],
   "source": [
    "X_train, X_val, y_train, y_val = train_test_split(X_train, y_train, train_size=0.8)"
   ]
  },
  {
   "cell_type": "code",
   "execution_count": 12,
   "metadata": {},
   "outputs": [
    {
     "name": "stdout",
     "output_type": "stream",
     "text": [
      "Reloading Tuner from my_dir\\keras_tuner\\tuner0.json\n"
     ]
    },
    {
     "name": "stdout",
     "output_type": "stream",
     "text": [
      "Search space summary\n",
      "Default search space size: 5\n",
      "units1 (Int)\n",
      "{'default': None, 'conditions': [], 'min_value': 50, 'max_value': 200, 'step': 10, 'sampling': 'linear'}\n",
      "dropout1 (Float)\n",
      "{'default': 0.2, 'conditions': [], 'min_value': 0.2, 'max_value': 0.5, 'step': 0.1, 'sampling': 'linear'}\n",
      "units2 (Int)\n",
      "{'default': None, 'conditions': [], 'min_value': 50, 'max_value': 200, 'step': 10, 'sampling': 'linear'}\n",
      "dropout2 (Float)\n",
      "{'default': 0.2, 'conditions': [], 'min_value': 0.2, 'max_value': 0.5, 'step': 0.1, 'sampling': 'linear'}\n",
      "learning_rate (Choice)\n",
      "{'default': 0.01, 'conditions': [], 'values': [0.01, 0.001, 0.0001], 'ordered': True}\n"
     ]
    },
    {
     "name": "stderr",
     "output_type": "stream",
     "text": [
      "C:\\Users\\zaiss\\AppData\\Local\\Temp\\ipykernel_56080\\3547463802.py:3: DeprecationWarning: `import kerastuner` is deprecated, please use `import keras_tuner`.\n",
      "  from kerastuner.tuners import RandomSearch\n"
     ]
    }
   ],
   "source": [
    "from tensorflow import keras\n",
    "from tensorflow.keras import layers\n",
    "from kerastuner.tuners import RandomSearch\n",
    "\n",
    "def build_model(hp):\n",
    "    model = keras.Sequential()\n",
    "    model.add(layers.Dense(units=hp.Int('units1', min_value=50, max_value=200, step=10),\n",
    "                           activation='relu', input_shape=[57], name='hidden_layer1'))\n",
    "    model.add(layers.Dropout(hp.Float('dropout1', min_value=0.2, max_value=0.5, step=0.1)))\n",
    "    model.add(layers.Dense(units=hp.Int('units2', min_value=50, max_value=200, step=10),\n",
    "                           activation='relu', name='hidden_layer2'))\n",
    "    model.add(layers.Dropout(hp.Float('dropout2', min_value=0.2, max_value=0.5, step=0.1)))\n",
    "    model.add(layers.BatchNormalization())\n",
    "    model.add(layers.Dense(1, activation='sigmoid', name='output_layer'))\n",
    "    \n",
    "    model.compile(\n",
    "        optimizer=keras.optimizers.Adam(\n",
    "            hp.Choice('learning_rate', values=[1e-2, 1e-3, 1e-4])),\n",
    "        loss='binary_crossentropy',\n",
    "        metrics=['accuracy']\n",
    "    )\n",
    "    return model\n",
    "\n",
    "tuner = RandomSearch(\n",
    "    build_model,\n",
    "    objective='val_accuracy',\n",
    "    max_trials=5,  # Choisissez le nombre d'essais que vous voulez\n",
    "    executions_per_trial=3,  # Nombre d'exécutions par essai pour réduire la variabilité\n",
    "    directory='my_dir',\n",
    "    project_name='keras_tuner'\n",
    ")\n",
    "\n",
    "tuner.search_space_summary()  # Afficher un résumé de l'espace de recherche des hyperparamètres\n",
    "\n",
    "tuner.search(X_train, y_train,\n",
    "             epochs=10,\n",
    "             validation_data=(X_val, y_val))\n",
    "\n",
    "best_model = tuner.get_best_models(num_models=1)[0]\n",
    "best_hyperparameters = tuner.get_best_hyperparameters(num_trials=1)[0]\n"
   ]
  },
  {
   "cell_type": "code",
   "execution_count": 13,
   "metadata": {},
   "outputs": [
    {
     "name": "stdout",
     "output_type": "stream",
     "text": [
      "Model: \"sequential\"\n",
      "_________________________________________________________________\n",
      " Layer (type)                Output Shape              Param #   \n",
      "=================================================================\n",
      " hidden_layer1 (Dense)       (None, 150)               8700      \n",
      "                                                                 \n",
      " dropout (Dropout)           (None, 150)               0         \n",
      "                                                                 \n",
      " hidden_layer2 (Dense)       (None, 70)                10570     \n",
      "                                                                 \n",
      " dropout_1 (Dropout)         (None, 70)                0         \n",
      "                                                                 \n",
      " batch_normalization (Batch  (None, 70)                280       \n",
      " Normalization)                                                  \n",
      "                                                                 \n",
      " output_layer (Dense)        (None, 1)                 71        \n",
      "                                                                 \n",
      "=================================================================\n",
      "Total params: 19621 (76.64 KB)\n",
      "Trainable params: 19481 (76.10 KB)\n",
      "Non-trainable params: 140 (560.00 Byte)\n",
      "_________________________________________________________________\n"
     ]
    }
   ],
   "source": [
    "best_model.summary()"
   ]
  },
  {
   "cell_type": "code",
   "execution_count": 14,
   "metadata": {},
   "outputs": [
    {
     "name": "stdout",
     "output_type": "stream",
     "text": [
      "Results summary\n",
      "Results in my_dir\\keras_tuner\n",
      "Showing 5 best trials\n",
      "Objective(name=\"val_accuracy\", direction=\"max\")\n",
      "\n",
      "Trial 4 summary\n",
      "Hyperparameters:\n",
      "units1: 150\n",
      "dropout1: 0.2\n",
      "units2: 70\n",
      "dropout2: 0.2\n",
      "learning_rate: 0.01\n",
      "Score: 0.9352355003356934\n",
      "\n",
      "Trial 3 summary\n",
      "Hyperparameters:\n",
      "units1: 60\n",
      "dropout1: 0.30000000000000004\n",
      "units2: 150\n",
      "dropout2: 0.4\n",
      "learning_rate: 0.01\n",
      "Score: 0.8759057919184366\n",
      "\n",
      "Trial 2 summary\n",
      "Hyperparameters:\n",
      "units1: 120\n",
      "dropout1: 0.4\n",
      "units2: 150\n",
      "dropout2: 0.30000000000000004\n",
      "learning_rate: 0.0001\n",
      "Score: 0.7164855003356934\n",
      "\n",
      "Trial 0 summary\n",
      "Hyperparameters:\n",
      "units1: 100\n",
      "dropout1: 0.30000000000000004\n",
      "units2: 190\n",
      "dropout2: 0.4\n",
      "learning_rate: 0.001\n",
      "Score: 0.7155797084172567\n",
      "\n",
      "Trial 1 summary\n",
      "Hyperparameters:\n",
      "units1: 100\n",
      "dropout1: 0.2\n",
      "units2: 190\n",
      "dropout2: 0.4\n",
      "learning_rate: 0.0001\n",
      "Score: 0.7142210006713867\n"
     ]
    }
   ],
   "source": [
    "tuner.results_summary(num_trials=5)\n"
   ]
  },
  {
   "cell_type": "code",
   "execution_count": 15,
   "metadata": {},
   "outputs": [
    {
     "name": "stdout",
     "output_type": "stream",
     "text": [
      "Best hyperparameters:\n",
      "Learning Rate: 0.01\n"
     ]
    }
   ],
   "source": [
    "best_hyperparameters = tuner.get_best_hyperparameters(num_trials=1)[0]\n",
    "\n",
    "best_learning_rate = best_hyperparameters.get('learning_rate')\n",
    "#best_units_hidden_layer1 = best_hyperparameters.get('units_hidden_layer1')\n",
    "# Add more lines to retrieve other hyperparameters based on your search space\n",
    "\n",
    "print(\"Best hyperparameters:\")\n",
    "print(f\"Learning Rate: {best_learning_rate}\")\n",
    "#print(f\"Units in Hidden Layer 1: {best_units_hidden_layer1}\")\n",
    "# Print other best hyperparameters as needed"
   ]
  },
  {
   "cell_type": "markdown",
   "metadata": {},
   "source": [
    "--Old version"
   ]
  },
  {
   "cell_type": "code",
   "execution_count": null,
   "metadata": {},
   "outputs": [],
   "source": [
    "def build_model(hp):\n",
    "  model =  keras.Sequential([\n",
    "    layers.Dense(100, activation='relu', input_shape=[57], name='hidden_layer1'),\n",
    "    layers.Dropout(0.3),  # Ajout d'une couche Dropout pour réduire le surajustement\n",
    "    layers.Dense(100, activation='relu', name='hidden_layer2'),\n",
    "    layers.Dropout(0.3),  # Ajout d'une couche Dropout pour réduire le surajustement\n",
    "    layers.BatchNormalization(),\n",
    "    \n",
    "])\n",
    "  model.add(keras.layers.Dense(\n",
    "      hp.Choice('units', [8, 16, 32]),\n",
    "      activation='relu'))\n",
    "  model.add(keras.layers.Dense(1, activation='sigmoid', name='output_layer') )# Changement de l'activation en 'sigmoid'\n",
    "  model.compile(\n",
    "    optimizer='adam',\n",
    "    loss='binary_crossentropy',\n",
    "    metrics=['accuracy'],\n",
    ")\n",
    "  return model"
   ]
  },
  {
   "cell_type": "code",
   "execution_count": null,
   "metadata": {},
   "outputs": [],
   "source": [
    "tuner = keras_tuner.RandomSearch(\n",
    "    build_model,\n",
    "    objective='val_loss',\n",
    "    max_trials=5)"
   ]
  },
  {
   "cell_type": "code",
   "execution_count": null,
   "metadata": {},
   "outputs": [
    {
     "name": "stdout",
     "output_type": "stream",
     "text": [
      "Trial 3 Complete [00h 00m 03s]\n",
      "val_loss: 0.5250223278999329\n",
      "\n",
      "Best val_loss So Far: 0.5250223278999329\n",
      "Total elapsed time: 00h 00m 08s\n",
      "WARNING:tensorflow:Detecting that an object or model or tf.train.Checkpoint is being deleted with unrestored values. See the following logs for the specific values in question. To silence these warnings, use `status.expect_partial()`. See https://www.tensorflow.org/api_docs/python/tf/train/Checkpoint#restorefor details about the status object returned by the restore function.\n",
      "WARNING:tensorflow:Value in checkpoint could not be found in the restored object: (root).optimizer._variables.1\n",
      "WARNING:tensorflow:Value in checkpoint could not be found in the restored object: (root).optimizer._variables.2\n",
      "WARNING:tensorflow:Value in checkpoint could not be found in the restored object: (root).optimizer._variables.3\n",
      "WARNING:tensorflow:Value in checkpoint could not be found in the restored object: (root).optimizer._variables.4\n",
      "WARNING:tensorflow:Value in checkpoint could not be found in the restored object: (root).optimizer._variables.5\n",
      "WARNING:tensorflow:Value in checkpoint could not be found in the restored object: (root).optimizer._variables.6\n",
      "WARNING:tensorflow:Value in checkpoint could not be found in the restored object: (root).optimizer._variables.7\n",
      "WARNING:tensorflow:Value in checkpoint could not be found in the restored object: (root).optimizer._variables.8\n",
      "WARNING:tensorflow:Value in checkpoint could not be found in the restored object: (root).optimizer._variables.9\n",
      "WARNING:tensorflow:Value in checkpoint could not be found in the restored object: (root).optimizer._variables.10\n",
      "WARNING:tensorflow:Value in checkpoint could not be found in the restored object: (root).optimizer._variables.11\n",
      "WARNING:tensorflow:Value in checkpoint could not be found in the restored object: (root).optimizer._variables.12\n",
      "WARNING:tensorflow:Value in checkpoint could not be found in the restored object: (root).optimizer._variables.13\n",
      "WARNING:tensorflow:Value in checkpoint could not be found in the restored object: (root).optimizer._variables.14\n",
      "WARNING:tensorflow:Value in checkpoint could not be found in the restored object: (root).optimizer._variables.15\n",
      "WARNING:tensorflow:Value in checkpoint could not be found in the restored object: (root).optimizer._variables.16\n"
     ]
    }
   ],
   "source": [
    "tuner.search(X_train, y_train, epochs=5, validation_data=(X_val, y_val))\n",
    "best_model = tuner.get_best_models()[0]"
   ]
  },
  {
   "cell_type": "markdown",
   "metadata": {},
   "source": [
    "## $Evaluate$ $Our$ $Model$ :"
   ]
  },
  {
   "cell_type": "markdown",
   "metadata": {},
   "source": [
    "<b><font color=\"skyblue\">Step 1:</font></b>\n",
    " \n",
    "- Transform our data into a numpy/list data."
   ]
  },
  {
   "cell_type": "code",
   "execution_count": null,
   "metadata": {},
   "outputs": [],
   "source": [
    "X_test=X_test.values\n",
    "y_test=y_test.values"
   ]
  },
  {
   "cell_type": "markdown",
   "metadata": {},
   "source": [
    "<b><font color=\"skyblue\">Step 2:</font></b>\n",
    " \n",
    "- Evaluate our model on the test data."
   ]
  },
  {
   "cell_type": "code",
   "execution_count": null,
   "metadata": {},
   "outputs": [
    {
     "name": "stdout",
     "output_type": "stream",
     "text": [
      "29/29 [==============================] - 0s 2ms/step - loss: 0.2704 - accuracy: 0.8947\n",
      "Loss on test data: 0.2704271376132965\n",
      "Accuracy on test data: 0.8946797251701355\n"
     ]
    }
   ],
   "source": [
    "loss, accuracy = model.evaluate(X_test, y_test)\n",
    "print('Loss on test data:', loss)\n",
    "print('Accuracy on test data:', accuracy)"
   ]
  },
  {
   "cell_type": "markdown",
   "metadata": {},
   "source": [
    "## $Predict$ :"
   ]
  },
  {
   "cell_type": "code",
   "execution_count": null,
   "metadata": {},
   "outputs": [
    {
     "name": "stdout",
     "output_type": "stream",
     "text": [
      "29/29 [==============================] - 0s 1ms/step\n",
      "Predicted probabilities: [[0.07516275]\n",
      " [0.31972444]\n",
      " [0.20297164]\n",
      " [0.65731734]\n",
      " [0.07026444]\n",
      " [0.8037976 ]\n",
      " [0.05087599]\n",
      " [0.47224498]\n",
      " [0.1367436 ]\n",
      " [0.24704662]]\n",
      "Predicted labels: [[0]\n",
      " [0]\n",
      " [0]\n",
      " [1]\n",
      " [0]\n",
      " [1]\n",
      " [0]\n",
      " [0]\n",
      " [0]\n",
      " [0]]\n"
     ]
    }
   ],
   "source": [
    "# Predict probabilities for each class\n",
    "predictions_proba = model.predict(X_test)\n",
    "\n",
    "# Convert probabilities to predicted labels (0 or 1 in this binary classification case)\n",
    "predictions = (predictions_proba > 0.5).astype(int)\n",
    "\n",
    "# Display the predictions\n",
    "print(\"Predicted probabilities:\", predictions_proba[:10])  # Display the predicted probabilities for the first 10 samples\n",
    "print(\"Predicted labels:\", predictions[:10])  # Display the predicted labels for the first 10 samples\n"
   ]
  },
  {
   "cell_type": "markdown",
   "metadata": {},
   "source": [
    "# Logistic regression\n",
    "We're gonna use the same set of X_train, X_test, y_train and y_test data in the first section"
   ]
  },
  {
   "cell_type": "markdown",
   "metadata": {},
   "source": [
    "#### Building the logistec regression model"
   ]
  },
  {
   "cell_type": "code",
   "execution_count": 23,
   "metadata": {},
   "outputs": [
    {
     "name": "stderr",
     "output_type": "stream",
     "text": [
      "c:\\Users\\zaiss\\anaconda3\\Lib\\site-packages\\sklearn\\linear_model\\_logistic.py:460: ConvergenceWarning: lbfgs failed to converge (status=1):\n",
      "STOP: TOTAL NO. of ITERATIONS REACHED LIMIT.\n",
      "\n",
      "Increase the number of iterations (max_iter) or scale the data as shown in:\n",
      "    https://scikit-learn.org/stable/modules/preprocessing.html\n",
      "Please also refer to the documentation for alternative solver options:\n",
      "    https://scikit-learn.org/stable/modules/linear_model.html#logistic-regression\n",
      "  n_iter_i = _check_optimize_result(\n"
     ]
    }
   ],
   "source": [
    "from sklearn.linear_model import LogisticRegression\n",
    "logistic_model = LogisticRegression(random_state=0).fit(X_train, y_train)\n",
    "#predicted values\n",
    "y_pred = logistic_model.predict(X_test)"
   ]
  },
  {
   "cell_type": "markdown",
   "metadata": {},
   "source": [
    "#### Evaluating the model"
   ]
  },
  {
   "cell_type": "markdown",
   "metadata": {},
   "source": [
    "##### Confusion matrix"
   ]
  },
  {
   "cell_type": "code",
   "execution_count": 24,
   "metadata": {},
   "outputs": [
    {
     "data": {
      "text/plain": [
       "array([[499,  44],\n",
       "       [ 38, 340]], dtype=int64)"
      ]
     },
     "execution_count": 24,
     "metadata": {},
     "output_type": "execute_result"
    }
   ],
   "source": [
    "# import the metrics class\n",
    "from sklearn import metrics\n",
    "\n",
    "cnf_matrix = metrics.confusion_matrix(y_test, y_pred)\n",
    "cnf_matrix"
   ]
  },
  {
   "cell_type": "code",
   "execution_count": 35,
   "metadata": {},
   "outputs": [
    {
     "data": {
      "text/plain": [
       "Text(0.5, 427.9555555555555, 'Predicted label')"
      ]
     },
     "execution_count": 35,
     "metadata": {},
     "output_type": "execute_result"
    },
    {
     "data": {
      "image/png": "[encoded data removed]",
      "text/plain": [
       "<Figure size 640x480 with 2 Axes>"
      ]
     },
     "metadata": {},
     "output_type": "display_data"
    }
   ],
   "source": [
    "#visualizing the confusion matrix\n",
    "# import required modules\n",
    "import numpy as np\n",
    "import matplotlib.pyplot as plt\n",
    "import seaborn as sns\n",
    "\n",
    "class_names=[0,1] # name  of classes\n",
    "fig, ax = plt.subplots()\n",
    "tick_marks = np.arange(len(class_names))\n",
    "plt.xticks(tick_marks, class_names)\n",
    "plt.yticks(tick_marks, class_names)\n",
    "# create heatmap\n",
    "sns.heatmap(pd.DataFrame(cnf_matrix), annot=True, cmap=\"YlGnBu\" ,fmt='g')\n",
    "ax.xaxis.set_label_position(\"top\")\n",
    "plt.tight_layout()\n",
    "plt.title('Confusion matrix', y=1.1)\n",
    "plt.ylabel('Actual label')\n",
    "plt.xlabel('Predicted label')\n",
    "\n"
   ]
  },
  {
   "cell_type": "code",
   "execution_count": 37,
   "metadata": {},
   "outputs": [
    {
     "name": "stdout",
     "output_type": "stream",
     "text": [
      "              precision    recall  f1-score   support\n",
      "\n",
      "    not spam       0.93      0.92      0.92       543\n",
      "        spam       0.89      0.90      0.89       378\n",
      "\n",
      "    accuracy                           0.91       921\n",
      "   macro avg       0.91      0.91      0.91       921\n",
      "weighted avg       0.91      0.91      0.91       921\n",
      "\n"
     ]
    }
   ],
   "source": [
    "from sklearn.metrics import classification_report\n",
    "target_names = ['not spam', 'spam']\n",
    "print(classification_report(y_test, y_pred, target_names=target_names))\n"
   ]
  },
  {
   "cell_type": "markdown",
   "metadata": {},
   "source": [
    "##### ROC Curve "
   ]
  },
  {
   "cell_type": "code",
   "execution_count": 39,
   "metadata": {},
   "outputs": [
    {
     "data": {
      "image/png": "[encoded data removed]",
      "text/plain": [
       "<Figure size 640x480 with 1 Axes>"
      ]
     },
     "metadata": {},
     "output_type": "display_data"
    }
   ],
   "source": [
    "y_pred_proba = logistic_model.predict_proba(X_test)[::,1]\n",
    "fpr, tpr, _ = metrics.roc_curve(y_test,  y_pred_proba)\n",
    "auc = metrics.roc_auc_score(y_test, y_pred_proba)\n",
    "plt.plot(fpr,tpr,label=\"data 1, auc=\"+str(auc))\n",
    "plt.legend(loc=4)\n",
    "plt.show()"
   ]
  },
  {
   "cell_type": "code",
   "execution_count": null,
   "metadata": {},
   "outputs": [],
   "source": [
    "S"
   ]
  }
 ],
 "metadata": {
  "kernelspec": {
   "display_name": "venv2",
   "language": "python",
   "name": "python3"
  },
  "language_info": {
   "codemirror_mode": {
    "name": "ipython",
    "version": 3
   },
   "file_extension": ".py",
   "mimetype": "text/x-python",
   "name": "python",
   "nbconvert_exporter": "python",
   "pygments_lexer": "ipython3",
   "version": "3.11.5"
  }
 },
 "nbformat": 4,
 "nbformat_minor": 2
}
