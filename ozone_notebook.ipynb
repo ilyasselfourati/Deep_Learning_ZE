{
 "cells": [
  {
   "cell_type": "markdown",
   "metadata": {},
   "source": [
    "<center><h1><font color=yellow><i> Deep Learning </i></font></h1></center>"
   ]
  },
  {
   "cell_type": "markdown",
   "metadata": {},
   "source": [
    "# $Import$ $Libraries$ :"
   ]
  },
  {
   "cell_type": "code",
   "execution_count": 3,
   "metadata": {},
   "outputs": [],
   "source": [
    "import numpy as np\n",
    "import pandas as pd\n",
    "import matplotlib.pyplot as plt\n",
    "from tensorflow import keras\n",
    "from sklearn.model_selection import train_test_split\n",
    "from tensorflow.keras import layers\n",
    "import keras_tuner\n",
    "import seaborn as sns"
   ]
  },
  {
   "cell_type": "markdown",
   "metadata": {},
   "source": [
    "# $Data$ :"
   ]
  },
  {
   "cell_type": "markdown",
   "metadata": {},
   "source": [
    "<b><font color=\"skyblue\">Step 1:</font></b>\n",
    " \n",
    "- Import **data** (pandas dataframe). "
   ]
  },
  {
   "cell_type": "code",
   "execution_count": 67,
   "metadata": {},
   "outputs": [
    {
     "data": {
      "text/html": [
       "<div>\n",
       "<style scoped>\n",
       "    .dataframe tbody tr th:only-of-type {\n",
       "        vertical-align: middle;\n",
       "    }\n",
       "\n",
       "    .dataframe tbody tr th {\n",
       "        vertical-align: top;\n",
       "    }\n",
       "\n",
       "    .dataframe thead th {\n",
       "        text-align: right;\n",
       "    }\n",
       "</style>\n",
       "<table border=\"1\" class=\"dataframe\">\n",
       "  <thead>\n",
       "    <tr style=\"text-align: right;\">\n",
       "      <th></th>\n",
       "      <th>date</th>\n",
       "      <th>maxO3</th>\n",
       "      <th>T6</th>\n",
       "      <th>T9</th>\n",
       "      <th>T12</th>\n",
       "      <th>T15</th>\n",
       "      <th>T18</th>\n",
       "      <th>Ne6</th>\n",
       "      <th>Ne9</th>\n",
       "      <th>Ne12</th>\n",
       "      <th>...</th>\n",
       "      <th>Vdir15</th>\n",
       "      <th>Vvit15</th>\n",
       "      <th>Vdir18</th>\n",
       "      <th>Vvit18</th>\n",
       "      <th>Vx</th>\n",
       "      <th>maxO3v</th>\n",
       "      <th>maxO3l</th>\n",
       "      <th>day_of_week</th>\n",
       "      <th>month</th>\n",
       "      <th>year</th>\n",
       "    </tr>\n",
       "  </thead>\n",
       "  <tbody>\n",
       "    <tr>\n",
       "      <th>0</th>\n",
       "      <td>1995-04-01</td>\n",
       "      <td>47.6</td>\n",
       "      <td>10.1</td>\n",
       "      <td>11.6</td>\n",
       "      <td>13.3</td>\n",
       "      <td>13.6</td>\n",
       "      <td>12.2</td>\n",
       "      <td>8.0</td>\n",
       "      <td>8.0</td>\n",
       "      <td>8.0</td>\n",
       "      <td>...</td>\n",
       "      <td>340.0</td>\n",
       "      <td>4.0</td>\n",
       "      <td>20.0</td>\n",
       "      <td>4.0</td>\n",
       "      <td>-3.4641</td>\n",
       "      <td>62.2</td>\n",
       "      <td>56.2</td>\n",
       "      <td>5</td>\n",
       "      <td>4</td>\n",
       "      <td>1995</td>\n",
       "    </tr>\n",
       "    <tr>\n",
       "      <th>1</th>\n",
       "      <td>1995-04-02</td>\n",
       "      <td>56.2</td>\n",
       "      <td>9.5</td>\n",
       "      <td>9.4</td>\n",
       "      <td>13.8</td>\n",
       "      <td>17.4</td>\n",
       "      <td>16.3</td>\n",
       "      <td>8.0</td>\n",
       "      <td>8.0</td>\n",
       "      <td>7.0</td>\n",
       "      <td>...</td>\n",
       "      <td>110.0</td>\n",
       "      <td>1.0</td>\n",
       "      <td>350.0</td>\n",
       "      <td>2.0</td>\n",
       "      <td>0.0000</td>\n",
       "      <td>47.6</td>\n",
       "      <td>61.8</td>\n",
       "      <td>6</td>\n",
       "      <td>4</td>\n",
       "      <td>1995</td>\n",
       "    </tr>\n",
       "    <tr>\n",
       "      <th>2</th>\n",
       "      <td>1995-04-03</td>\n",
       "      <td>61.8</td>\n",
       "      <td>3.6</td>\n",
       "      <td>8.0</td>\n",
       "      <td>16.8</td>\n",
       "      <td>21.5</td>\n",
       "      <td>20.2</td>\n",
       "      <td>4.0</td>\n",
       "      <td>5.0</td>\n",
       "      <td>2.0</td>\n",
       "      <td>...</td>\n",
       "      <td>170.0</td>\n",
       "      <td>2.0</td>\n",
       "      <td>170.0</td>\n",
       "      <td>3.0</td>\n",
       "      <td>-0.3420</td>\n",
       "      <td>56.2</td>\n",
       "      <td>50.8</td>\n",
       "      <td>0</td>\n",
       "      <td>4</td>\n",
       "      <td>1995</td>\n",
       "    </tr>\n",
       "    <tr>\n",
       "      <th>3</th>\n",
       "      <td>1995-04-04</td>\n",
       "      <td>50.8</td>\n",
       "      <td>9.5</td>\n",
       "      <td>10.5</td>\n",
       "      <td>11.4</td>\n",
       "      <td>12.2</td>\n",
       "      <td>11.4</td>\n",
       "      <td>8.0</td>\n",
       "      <td>7.0</td>\n",
       "      <td>7.0</td>\n",
       "      <td>...</td>\n",
       "      <td>350.0</td>\n",
       "      <td>3.0</td>\n",
       "      <td>350.0</td>\n",
       "      <td>4.0</td>\n",
       "      <td>-0.5209</td>\n",
       "      <td>61.8</td>\n",
       "      <td>59.8</td>\n",
       "      <td>1</td>\n",
       "      <td>4</td>\n",
       "      <td>1995</td>\n",
       "    </tr>\n",
       "    <tr>\n",
       "      <th>4</th>\n",
       "      <td>1995-04-05</td>\n",
       "      <td>59.8</td>\n",
       "      <td>9.8</td>\n",
       "      <td>10.8</td>\n",
       "      <td>13.8</td>\n",
       "      <td>14.3</td>\n",
       "      <td>13.3</td>\n",
       "      <td>8.0</td>\n",
       "      <td>7.0</td>\n",
       "      <td>8.0</td>\n",
       "      <td>...</td>\n",
       "      <td>320.0</td>\n",
       "      <td>3.0</td>\n",
       "      <td>350.0</td>\n",
       "      <td>4.0</td>\n",
       "      <td>-0.9848</td>\n",
       "      <td>50.8</td>\n",
       "      <td>53.4</td>\n",
       "      <td>2</td>\n",
       "      <td>4</td>\n",
       "      <td>1995</td>\n",
       "    </tr>\n",
       "  </tbody>\n",
       "</table>\n",
       "<p>5 rows × 28 columns</p>\n",
       "</div>"
      ],
      "text/plain": [
       "         date  maxO3    T6    T9   T12   T15   T18  Ne6  Ne9  Ne12  ...  \\\n",
       "0  1995-04-01   47.6  10.1  11.6  13.3  13.6  12.2  8.0  8.0   8.0  ...   \n",
       "1  1995-04-02   56.2   9.5   9.4  13.8  17.4  16.3  8.0  8.0   7.0  ...   \n",
       "2  1995-04-03   61.8   3.6   8.0  16.8  21.5  20.2  4.0  5.0   2.0  ...   \n",
       "3  1995-04-04   50.8   9.5  10.5  11.4  12.2  11.4  8.0  7.0   7.0  ...   \n",
       "4  1995-04-05   59.8   9.8  10.8  13.8  14.3  13.3  8.0  7.0   8.0  ...   \n",
       "\n",
       "   Vdir15  Vvit15  Vdir18  Vvit18      Vx  maxO3v  maxO3l  day_of_week  month  \\\n",
       "0   340.0     4.0    20.0     4.0 -3.4641    62.2    56.2            5      4   \n",
       "1   110.0     1.0   350.0     2.0  0.0000    47.6    61.8            6      4   \n",
       "2   170.0     2.0   170.0     3.0 -0.3420    56.2    50.8            0      4   \n",
       "3   350.0     3.0   350.0     4.0 -0.5209    61.8    59.8            1      4   \n",
       "4   320.0     3.0   350.0     4.0 -0.9848    50.8    53.4            2      4   \n",
       "\n",
       "   year  \n",
       "0  1995  \n",
       "1  1995  \n",
       "2  1995  \n",
       "3  1995  \n",
       "4  1995  \n",
       "\n",
       "[5 rows x 28 columns]"
      ]
     },
     "execution_count": 67,
     "metadata": {},
     "output_type": "execute_result"
    }
   ],
   "source": [
    "df_ozone=pd.read_csv('ozone_complet_preprocessed.csv')\n",
    "df_ozone.drop('Unnamed: 0', axis=1, inplace=True)\n",
    "df_ozone.head()"
   ]
  },
  {
   "cell_type": "markdown",
   "metadata": {},
   "source": [
    "<b><font color=\"skyblue\">Step 2:</font></b>\n",
    " \n",
    "- Vérificarion des valeurs nulles"
   ]
  },
  {
   "cell_type": "code",
   "execution_count": 31,
   "metadata": {},
   "outputs": [
    {
     "name": "stdout",
     "output_type": "stream",
     "text": [
      "Colonnes avec des valeurs manquantes :\n",
      "maxO3     21\n",
      "T6         1\n",
      "T9         1\n",
      "T12        1\n",
      "T15        1\n",
      "T18        1\n",
      "Ne6        2\n",
      "Ne9        2\n",
      "Ne12       2\n",
      "Ne15       2\n",
      "Ne18       5\n",
      "Vdir6      1\n",
      "Vvit6      1\n",
      "Vdir9      1\n",
      "Vvit9      1\n",
      "Vdir12     1\n",
      "Vvit12     1\n",
      "Vdir15     1\n",
      "Vvit15     1\n",
      "Vdir18     1\n",
      "Vvit18     1\n",
      "Vx         1\n",
      "maxO3v    30\n",
      "dtype: int64\n"
     ]
    }
   ],
   "source": [
    "# Vérification des valeurs manquantes dans votre DataFrame 'X'\n",
    "missing_values = df_ozone.isnull().sum()\n",
    "\n",
    "# Affichage des colonnes avec des valeurs manquantes\n",
    "print(\"Colonnes avec des valeurs manquantes :\")\n",
    "print(missing_values[missing_values > 0])"
   ]
  },
  {
   "cell_type": "markdown",
   "metadata": {},
   "source": [
    "<b><font color=\"skyblue\">Step 3:</font></b>\n",
    "\n",
    "Vérification des valeurs abérantes \n"
   ]
  },
  {
   "cell_type": "code",
   "execution_count": 32,
   "metadata": {},
   "outputs": [
    {
     "data": {
      "image/png": "[encoded data removed]",
      "text/plain": [
       "<Figure size 1000x600 with 1 Axes>"
      ]
     },
     "metadata": {},
     "output_type": "display_data"
    }
   ],
   "source": [
    "# Supposons que vous souhaitez visualiser plusieurs colonnes en même temps\n",
    "columns_to_plot = ['maxO3l', 'T6', 'Vvit9']  # Ajoutez les colonnes à visualiser\n",
    "\n",
    "plt.figure(figsize=(10, 6))\n",
    "plt.boxplot([df_ozone[col] for col in columns_to_plot], labels=columns_to_plot)\n",
    "plt.title(\"Graphiques à moustaches pour les colonnes 'word_freq_make', 'word_freq_address', 'word_freq_all'\")\n",
    "plt.xlabel(\"Colonnes\")\n",
    "plt.ylabel(\"Valeurs\")\n",
    "plt.xticks(rotation=45)\n",
    "plt.show()\n"
   ]
  },
  {
   "cell_type": "markdown",
   "metadata": {},
   "source": [
    "--> Nous avons beacoup de valeur, mais ceci est normal dans notre cas car : dans le cas des fréquences de mots, la variation des valeurs peut être significative, ce qui peut conduire à des valeurs aberrantes. Ces valeurs ne sont pas nécessairement des erreurs ou des données corrompues, mais plutôt des manifestations de la diversité et de la variabilité des données linguistiques"
   ]
  },
  {
   "cell_type": "markdown",
   "metadata": {},
   "source": [
    "<b><font color=\"skyblue\">Step :4</font></b>\n",
    " \n",
    "- Separate the output (the column `spam`) and the input (the other columns). "
   ]
  },
  {
   "cell_type": "code",
   "execution_count": 68,
   "metadata": {},
   "outputs": [],
   "source": [
    "y=df_ozone['maxO3l']\n",
    "X=df_ozone.drop('maxO3l',axis=1)"
   ]
  },
  {
   "cell_type": "code",
   "execution_count": 34,
   "metadata": {},
   "outputs": [
    {
     "data": {
      "text/html": [
       "<div>\n",
       "<style scoped>\n",
       "    .dataframe tbody tr th:only-of-type {\n",
       "        vertical-align: middle;\n",
       "    }\n",
       "\n",
       "    .dataframe tbody tr th {\n",
       "        vertical-align: top;\n",
       "    }\n",
       "\n",
       "    .dataframe thead th {\n",
       "        text-align: right;\n",
       "    }\n",
       "</style>\n",
       "<table border=\"1\" class=\"dataframe\">\n",
       "  <thead>\n",
       "    <tr style=\"text-align: right;\">\n",
       "      <th></th>\n",
       "      <th>date</th>\n",
       "      <th>maxO3</th>\n",
       "      <th>T6</th>\n",
       "      <th>T9</th>\n",
       "      <th>T12</th>\n",
       "      <th>T15</th>\n",
       "      <th>T18</th>\n",
       "      <th>Ne6</th>\n",
       "      <th>Ne9</th>\n",
       "      <th>Ne12</th>\n",
       "      <th>...</th>\n",
       "      <th>Vdir9</th>\n",
       "      <th>Vvit9</th>\n",
       "      <th>Vdir12</th>\n",
       "      <th>Vvit12</th>\n",
       "      <th>Vdir15</th>\n",
       "      <th>Vvit15</th>\n",
       "      <th>Vdir18</th>\n",
       "      <th>Vvit18</th>\n",
       "      <th>Vx</th>\n",
       "      <th>maxO3v</th>\n",
       "    </tr>\n",
       "  </thead>\n",
       "  <tbody>\n",
       "    <tr>\n",
       "      <th>0</th>\n",
       "      <td>19950401</td>\n",
       "      <td>47.6</td>\n",
       "      <td>10.1</td>\n",
       "      <td>11.6</td>\n",
       "      <td>13.3</td>\n",
       "      <td>13.6</td>\n",
       "      <td>12.2</td>\n",
       "      <td>8.0</td>\n",
       "      <td>8.0</td>\n",
       "      <td>8.0</td>\n",
       "      <td>...</td>\n",
       "      <td>290.0</td>\n",
       "      <td>4.0</td>\n",
       "      <td>300.0</td>\n",
       "      <td>4.0</td>\n",
       "      <td>340.0</td>\n",
       "      <td>4.0</td>\n",
       "      <td>20.0</td>\n",
       "      <td>4.0</td>\n",
       "      <td>-3.4641</td>\n",
       "      <td>62.2</td>\n",
       "    </tr>\n",
       "    <tr>\n",
       "      <th>1</th>\n",
       "      <td>19950402</td>\n",
       "      <td>56.2</td>\n",
       "      <td>9.5</td>\n",
       "      <td>9.4</td>\n",
       "      <td>13.8</td>\n",
       "      <td>17.4</td>\n",
       "      <td>16.3</td>\n",
       "      <td>8.0</td>\n",
       "      <td>8.0</td>\n",
       "      <td>7.0</td>\n",
       "      <td>...</td>\n",
       "      <td>160.0</td>\n",
       "      <td>2.0</td>\n",
       "      <td>180.0</td>\n",
       "      <td>3.0</td>\n",
       "      <td>110.0</td>\n",
       "      <td>1.0</td>\n",
       "      <td>350.0</td>\n",
       "      <td>2.0</td>\n",
       "      <td>0.0000</td>\n",
       "      <td>47.6</td>\n",
       "    </tr>\n",
       "    <tr>\n",
       "      <th>2</th>\n",
       "      <td>19950403</td>\n",
       "      <td>61.8</td>\n",
       "      <td>3.6</td>\n",
       "      <td>8.0</td>\n",
       "      <td>16.8</td>\n",
       "      <td>21.5</td>\n",
       "      <td>20.2</td>\n",
       "      <td>4.0</td>\n",
       "      <td>5.0</td>\n",
       "      <td>2.0</td>\n",
       "      <td>...</td>\n",
       "      <td>20.0</td>\n",
       "      <td>2.0</td>\n",
       "      <td>340.0</td>\n",
       "      <td>1.0</td>\n",
       "      <td>170.0</td>\n",
       "      <td>2.0</td>\n",
       "      <td>170.0</td>\n",
       "      <td>3.0</td>\n",
       "      <td>-0.3420</td>\n",
       "      <td>56.2</td>\n",
       "    </tr>\n",
       "    <tr>\n",
       "      <th>3</th>\n",
       "      <td>19950404</td>\n",
       "      <td>50.8</td>\n",
       "      <td>9.5</td>\n",
       "      <td>10.5</td>\n",
       "      <td>11.4</td>\n",
       "      <td>12.2</td>\n",
       "      <td>11.4</td>\n",
       "      <td>8.0</td>\n",
       "      <td>7.0</td>\n",
       "      <td>7.0</td>\n",
       "      <td>...</td>\n",
       "      <td>10.0</td>\n",
       "      <td>4.0</td>\n",
       "      <td>350.0</td>\n",
       "      <td>3.0</td>\n",
       "      <td>350.0</td>\n",
       "      <td>3.0</td>\n",
       "      <td>350.0</td>\n",
       "      <td>4.0</td>\n",
       "      <td>-0.5209</td>\n",
       "      <td>61.8</td>\n",
       "    </tr>\n",
       "    <tr>\n",
       "      <th>4</th>\n",
       "      <td>19950405</td>\n",
       "      <td>59.8</td>\n",
       "      <td>9.8</td>\n",
       "      <td>10.8</td>\n",
       "      <td>13.8</td>\n",
       "      <td>14.3</td>\n",
       "      <td>13.3</td>\n",
       "      <td>8.0</td>\n",
       "      <td>7.0</td>\n",
       "      <td>8.0</td>\n",
       "      <td>...</td>\n",
       "      <td>340.0</td>\n",
       "      <td>2.0</td>\n",
       "      <td>280.0</td>\n",
       "      <td>1.0</td>\n",
       "      <td>320.0</td>\n",
       "      <td>3.0</td>\n",
       "      <td>350.0</td>\n",
       "      <td>4.0</td>\n",
       "      <td>-0.9848</td>\n",
       "      <td>50.8</td>\n",
       "    </tr>\n",
       "  </tbody>\n",
       "</table>\n",
       "<p>5 rows × 24 columns</p>\n",
       "</div>"
      ],
      "text/plain": [
       "       date  maxO3    T6    T9   T12   T15   T18  Ne6  Ne9  Ne12  ...  Vdir9  \\\n",
       "0  19950401   47.6  10.1  11.6  13.3  13.6  12.2  8.0  8.0   8.0  ...  290.0   \n",
       "1  19950402   56.2   9.5   9.4  13.8  17.4  16.3  8.0  8.0   7.0  ...  160.0   \n",
       "2  19950403   61.8   3.6   8.0  16.8  21.5  20.2  4.0  5.0   2.0  ...   20.0   \n",
       "3  19950404   50.8   9.5  10.5  11.4  12.2  11.4  8.0  7.0   7.0  ...   10.0   \n",
       "4  19950405   59.8   9.8  10.8  13.8  14.3  13.3  8.0  7.0   8.0  ...  340.0   \n",
       "\n",
       "   Vvit9  Vdir12  Vvit12  Vdir15  Vvit15  Vdir18  Vvit18      Vx  maxO3v  \n",
       "0    4.0   300.0     4.0   340.0     4.0    20.0     4.0 -3.4641    62.2  \n",
       "1    2.0   180.0     3.0   110.0     1.0   350.0     2.0  0.0000    47.6  \n",
       "2    2.0   340.0     1.0   170.0     2.0   170.0     3.0 -0.3420    56.2  \n",
       "3    4.0   350.0     3.0   350.0     3.0   350.0     4.0 -0.5209    61.8  \n",
       "4    2.0   280.0     1.0   320.0     3.0   350.0     4.0 -0.9848    50.8  \n",
       "\n",
       "[5 rows x 24 columns]"
      ]
     },
     "execution_count": 34,
     "metadata": {},
     "output_type": "execute_result"
    }
   ],
   "source": [
    "X.head()"
   ]
  },
  {
   "cell_type": "code",
   "execution_count": 35,
   "metadata": {},
   "outputs": [
    {
     "data": {
      "text/html": [
       "<div>\n",
       "<style scoped>\n",
       "    .dataframe tbody tr th:only-of-type {\n",
       "        vertical-align: middle;\n",
       "    }\n",
       "\n",
       "    .dataframe tbody tr th {\n",
       "        vertical-align: top;\n",
       "    }\n",
       "\n",
       "    .dataframe thead th {\n",
       "        text-align: right;\n",
       "    }\n",
       "</style>\n",
       "<table border=\"1\" class=\"dataframe\">\n",
       "  <thead>\n",
       "    <tr style=\"text-align: right;\">\n",
       "      <th></th>\n",
       "      <th>date</th>\n",
       "      <th>maxO3</th>\n",
       "      <th>T6</th>\n",
       "      <th>T9</th>\n",
       "      <th>T12</th>\n",
       "      <th>T15</th>\n",
       "      <th>T18</th>\n",
       "      <th>Ne6</th>\n",
       "      <th>Ne9</th>\n",
       "      <th>Ne12</th>\n",
       "      <th>...</th>\n",
       "      <th>Vdir9</th>\n",
       "      <th>Vvit9</th>\n",
       "      <th>Vdir12</th>\n",
       "      <th>Vvit12</th>\n",
       "      <th>Vdir15</th>\n",
       "      <th>Vvit15</th>\n",
       "      <th>Vdir18</th>\n",
       "      <th>Vvit18</th>\n",
       "      <th>Vx</th>\n",
       "      <th>maxO3v</th>\n",
       "    </tr>\n",
       "  </thead>\n",
       "  <tbody>\n",
       "    <tr>\n",
       "      <th>count</th>\n",
       "      <td>1.390000e+03</td>\n",
       "      <td>1369.000000</td>\n",
       "      <td>1389.000000</td>\n",
       "      <td>1389.000000</td>\n",
       "      <td>1389.000000</td>\n",
       "      <td>1389.000000</td>\n",
       "      <td>1389.000000</td>\n",
       "      <td>1388.000000</td>\n",
       "      <td>1388.000000</td>\n",
       "      <td>1388.000000</td>\n",
       "      <td>...</td>\n",
       "      <td>1389.000000</td>\n",
       "      <td>1389.000000</td>\n",
       "      <td>1389.000000</td>\n",
       "      <td>1389.000000</td>\n",
       "      <td>1389.000000</td>\n",
       "      <td>1389.000000</td>\n",
       "      <td>1389.000000</td>\n",
       "      <td>1389.000000</td>\n",
       "      <td>1389.000000</td>\n",
       "      <td>1360.000000</td>\n",
       "    </tr>\n",
       "    <tr>\n",
       "      <th>mean</th>\n",
       "      <td>1.998604e+07</td>\n",
       "      <td>84.928269</td>\n",
       "      <td>12.303096</td>\n",
       "      <td>16.388913</td>\n",
       "      <td>19.420806</td>\n",
       "      <td>20.346364</td>\n",
       "      <td>18.783153</td>\n",
       "      <td>4.998559</td>\n",
       "      <td>5.159942</td>\n",
       "      <td>5.337176</td>\n",
       "      <td>...</td>\n",
       "      <td>195.766739</td>\n",
       "      <td>3.732901</td>\n",
       "      <td>205.017999</td>\n",
       "      <td>4.508279</td>\n",
       "      <td>208.351332</td>\n",
       "      <td>4.782577</td>\n",
       "      <td>190.820734</td>\n",
       "      <td>4.392369</td>\n",
       "      <td>-0.747871</td>\n",
       "      <td>85.037059</td>\n",
       "    </tr>\n",
       "    <tr>\n",
       "      <th>std</th>\n",
       "      <td>2.322672e+04</td>\n",
       "      <td>23.319656</td>\n",
       "      <td>3.900146</td>\n",
       "      <td>4.129406</td>\n",
       "      <td>4.927963</td>\n",
       "      <td>5.271608</td>\n",
       "      <td>5.080891</td>\n",
       "      <td>2.911083</td>\n",
       "      <td>2.565999</td>\n",
       "      <td>2.316706</td>\n",
       "      <td>...</td>\n",
       "      <td>107.133560</td>\n",
       "      <td>1.873504</td>\n",
       "      <td>105.910096</td>\n",
       "      <td>2.057032</td>\n",
       "      <td>110.604589</td>\n",
       "      <td>2.063882</td>\n",
       "      <td>121.461633</td>\n",
       "      <td>1.766066</td>\n",
       "      <td>3.402245</td>\n",
       "      <td>23.320063</td>\n",
       "    </tr>\n",
       "    <tr>\n",
       "      <th>min</th>\n",
       "      <td>1.995040e+07</td>\n",
       "      <td>33.200000</td>\n",
       "      <td>-1.600000</td>\n",
       "      <td>4.500000</td>\n",
       "      <td>3.900000</td>\n",
       "      <td>6.500000</td>\n",
       "      <td>4.400000</td>\n",
       "      <td>0.000000</td>\n",
       "      <td>0.000000</td>\n",
       "      <td>0.000000</td>\n",
       "      <td>...</td>\n",
       "      <td>0.000000</td>\n",
       "      <td>0.000000</td>\n",
       "      <td>0.000000</td>\n",
       "      <td>0.000000</td>\n",
       "      <td>0.000000</td>\n",
       "      <td>0.000000</td>\n",
       "      <td>0.000000</td>\n",
       "      <td>0.000000</td>\n",
       "      <td>-10.392300</td>\n",
       "      <td>33.200000</td>\n",
       "    </tr>\n",
       "    <tr>\n",
       "      <th>25%</th>\n",
       "      <td>1.996091e+07</td>\n",
       "      <td>68.000000</td>\n",
       "      <td>10.000000</td>\n",
       "      <td>13.800000</td>\n",
       "      <td>16.200000</td>\n",
       "      <td>16.800000</td>\n",
       "      <td>15.500000</td>\n",
       "      <td>2.000000</td>\n",
       "      <td>3.000000</td>\n",
       "      <td>4.000000</td>\n",
       "      <td>...</td>\n",
       "      <td>100.000000</td>\n",
       "      <td>2.000000</td>\n",
       "      <td>110.000000</td>\n",
       "      <td>3.000000</td>\n",
       "      <td>100.000000</td>\n",
       "      <td>3.000000</td>\n",
       "      <td>60.000000</td>\n",
       "      <td>3.000000</td>\n",
       "      <td>-3.064200</td>\n",
       "      <td>68.000000</td>\n",
       "    </tr>\n",
       "    <tr>\n",
       "      <th>50%</th>\n",
       "      <td>1.999042e+07</td>\n",
       "      <td>80.400000</td>\n",
       "      <td>12.700000</td>\n",
       "      <td>16.700000</td>\n",
       "      <td>19.400000</td>\n",
       "      <td>20.400000</td>\n",
       "      <td>18.600000</td>\n",
       "      <td>6.000000</td>\n",
       "      <td>6.000000</td>\n",
       "      <td>6.000000</td>\n",
       "      <td>...</td>\n",
       "      <td>210.000000</td>\n",
       "      <td>4.000000</td>\n",
       "      <td>220.000000</td>\n",
       "      <td>4.000000</td>\n",
       "      <td>230.000000</td>\n",
       "      <td>5.000000</td>\n",
       "      <td>220.000000</td>\n",
       "      <td>4.000000</td>\n",
       "      <td>-1.026100</td>\n",
       "      <td>81.000000</td>\n",
       "    </tr>\n",
       "    <tr>\n",
       "      <th>75%</th>\n",
       "      <td>2.001041e+07</td>\n",
       "      <td>98.000000</td>\n",
       "      <td>15.100000</td>\n",
       "      <td>19.000000</td>\n",
       "      <td>22.600000</td>\n",
       "      <td>23.800000</td>\n",
       "      <td>22.000000</td>\n",
       "      <td>8.000000</td>\n",
       "      <td>7.000000</td>\n",
       "      <td>7.000000</td>\n",
       "      <td>...</td>\n",
       "      <td>290.000000</td>\n",
       "      <td>5.000000</td>\n",
       "      <td>300.000000</td>\n",
       "      <td>6.000000</td>\n",
       "      <td>300.000000</td>\n",
       "      <td>6.000000</td>\n",
       "      <td>290.000000</td>\n",
       "      <td>6.000000</td>\n",
       "      <td>1.500000</td>\n",
       "      <td>98.000000</td>\n",
       "    </tr>\n",
       "    <tr>\n",
       "      <th>max</th>\n",
       "      <td>2.002093e+07</td>\n",
       "      <td>173.000000</td>\n",
       "      <td>21.700000</td>\n",
       "      <td>28.600000</td>\n",
       "      <td>33.500000</td>\n",
       "      <td>35.500000</td>\n",
       "      <td>34.100000</td>\n",
       "      <td>9.000000</td>\n",
       "      <td>9.000000</td>\n",
       "      <td>8.000000</td>\n",
       "      <td>...</td>\n",
       "      <td>360.000000</td>\n",
       "      <td>12.000000</td>\n",
       "      <td>360.000000</td>\n",
       "      <td>12.000000</td>\n",
       "      <td>360.000000</td>\n",
       "      <td>16.000000</td>\n",
       "      <td>360.000000</td>\n",
       "      <td>12.000000</td>\n",
       "      <td>10.832900</td>\n",
       "      <td>173.000000</td>\n",
       "    </tr>\n",
       "  </tbody>\n",
       "</table>\n",
       "<p>8 rows × 24 columns</p>\n",
       "</div>"
      ],
      "text/plain": [
       "               date        maxO3           T6           T9          T12  \\\n",
       "count  1.390000e+03  1369.000000  1389.000000  1389.000000  1389.000000   \n",
       "mean   1.998604e+07    84.928269    12.303096    16.388913    19.420806   \n",
       "std    2.322672e+04    23.319656     3.900146     4.129406     4.927963   \n",
       "min    1.995040e+07    33.200000    -1.600000     4.500000     3.900000   \n",
       "25%    1.996091e+07    68.000000    10.000000    13.800000    16.200000   \n",
       "50%    1.999042e+07    80.400000    12.700000    16.700000    19.400000   \n",
       "75%    2.001041e+07    98.000000    15.100000    19.000000    22.600000   \n",
       "max    2.002093e+07   173.000000    21.700000    28.600000    33.500000   \n",
       "\n",
       "               T15          T18          Ne6          Ne9         Ne12  ...  \\\n",
       "count  1389.000000  1389.000000  1388.000000  1388.000000  1388.000000  ...   \n",
       "mean     20.346364    18.783153     4.998559     5.159942     5.337176  ...   \n",
       "std       5.271608     5.080891     2.911083     2.565999     2.316706  ...   \n",
       "min       6.500000     4.400000     0.000000     0.000000     0.000000  ...   \n",
       "25%      16.800000    15.500000     2.000000     3.000000     4.000000  ...   \n",
       "50%      20.400000    18.600000     6.000000     6.000000     6.000000  ...   \n",
       "75%      23.800000    22.000000     8.000000     7.000000     7.000000  ...   \n",
       "max      35.500000    34.100000     9.000000     9.000000     8.000000  ...   \n",
       "\n",
       "             Vdir9        Vvit9       Vdir12       Vvit12       Vdir15  \\\n",
       "count  1389.000000  1389.000000  1389.000000  1389.000000  1389.000000   \n",
       "mean    195.766739     3.732901   205.017999     4.508279   208.351332   \n",
       "std     107.133560     1.873504   105.910096     2.057032   110.604589   \n",
       "min       0.000000     0.000000     0.000000     0.000000     0.000000   \n",
       "25%     100.000000     2.000000   110.000000     3.000000   100.000000   \n",
       "50%     210.000000     4.000000   220.000000     4.000000   230.000000   \n",
       "75%     290.000000     5.000000   300.000000     6.000000   300.000000   \n",
       "max     360.000000    12.000000   360.000000    12.000000   360.000000   \n",
       "\n",
       "            Vvit15       Vdir18       Vvit18           Vx       maxO3v  \n",
       "count  1389.000000  1389.000000  1389.000000  1389.000000  1360.000000  \n",
       "mean      4.782577   190.820734     4.392369    -0.747871    85.037059  \n",
       "std       2.063882   121.461633     1.766066     3.402245    23.320063  \n",
       "min       0.000000     0.000000     0.000000   -10.392300    33.200000  \n",
       "25%       3.000000    60.000000     3.000000    -3.064200    68.000000  \n",
       "50%       5.000000   220.000000     4.000000    -1.026100    81.000000  \n",
       "75%       6.000000   290.000000     6.000000     1.500000    98.000000  \n",
       "max      16.000000   360.000000    12.000000    10.832900   173.000000  \n",
       "\n",
       "[8 rows x 24 columns]"
      ]
     },
     "execution_count": 35,
     "metadata": {},
     "output_type": "execute_result"
    }
   ],
   "source": [
    "X.describe()"
   ]
  },
  {
   "cell_type": "code",
   "execution_count": 36,
   "metadata": {},
   "outputs": [
    {
     "data": {
      "text/plain": [
       "Index(['date', 'maxO3', 'T6', 'T9', 'T12', 'T15', 'T18', 'Ne6', 'Ne9', 'Ne12',\n",
       "       'Ne15', 'Ne18', 'Vdir6', 'Vvit6', 'Vdir9', 'Vvit9', 'Vdir12', 'Vvit12',\n",
       "       'Vdir15', 'Vvit15', 'Vdir18', 'Vvit18', 'Vx', 'maxO3v'],\n",
       "      dtype='object')"
      ]
     },
     "execution_count": 36,
     "metadata": {},
     "output_type": "execute_result"
    }
   ],
   "source": [
    "X.columns"
   ]
  },
  {
   "cell_type": "markdown",
   "metadata": {},
   "source": [
    "<b><font color=\"skyblue\">Step 3:</font></b>\n",
    " \n",
    "- Split our data into **train data** (80% -- 3680 rows) and **test data** (921 rows). "
   ]
  },
  {
   "cell_type": "code",
   "execution_count": 37,
   "metadata": {},
   "outputs": [],
   "source": [
    "X_train, X_test, y_train, y_test = train_test_split(X, y, train_size=0.8)"
   ]
  },
  {
   "cell_type": "markdown",
   "metadata": {},
   "source": [
    "## Analyse des corrélations "
   ]
  },
  {
   "cell_type": "code",
   "execution_count": 38,
   "metadata": {},
   "outputs": [
    {
     "data": {
      "image/png": "[encoded data removed]",
      "text/plain": [
       "<Figure size 1200x1200 with 2 Axes>"
      ]
     },
     "metadata": {},
     "output_type": "display_data"
    }
   ],
   "source": [
    "# Calcul de la matrice de corrélation\n",
    "correlation_matrix = df_ozone.corr()\n",
    "\n",
    "# Création de la carte de chaleur pour visualiser la matrice de corrélation\n",
    "plt.figure(figsize=(12, 12))  # Ajustez la taille de la figure selon vos préférences\n",
    "sns.heatmap(correlation_matrix, cmap='coolwarm', fmt=\".2f\")  # Crée la carte de chaleur avec les annotations des valeurs et une palette de couleurs\n",
    "plt.title('Matrice de corrélation')  # Ajoute un titre à la carte de chaleur\n",
    "plt.show()"
   ]
  },
  {
   "cell_type": "markdown",
   "metadata": {},
   "source": [
    "PCA"
   ]
  },
  {
   "cell_type": "code",
   "execution_count": 43,
   "metadata": {},
   "outputs": [
    {
     "data": {
      "image/png": "[encoded data removed]",
      "text/plain": [
       "<Figure size 800x600 with 1 Axes>"
      ]
     },
     "metadata": {},
     "output_type": "display_data"
    }
   ],
   "source": [
    "from sklearn.decomposition import PCA\n",
    "\n",
    "# Appliquez PCA pour réduire la dimensionnalité et obtenir les composantes principales\n",
    "pca = PCA()\n",
    "X_pca=X.drop('date',axis=1)\n",
    "X_pca=X_pca.dropna()\n",
    "X_pca = pca.fit_transform(X_pca)\n",
    "\n",
    "# Calcul de la variance expliquée par chaque composante principale\n",
    "explained_variance_ratio = pca.explained_variance_ratio_\n",
    "\n",
    "# Affichage de la variance expliquée par chaque composante principale sous forme de graphique\n",
    "plt.figure(figsize=(8, 6))  # Ajustez la taille de la figure selon vos préférences\n",
    "plt.bar(range(1, len(explained_variance_ratio) + 1), explained_variance_ratio, alpha=0.7, align='center')\n",
    "plt.xlabel('Composante principale')\n",
    "plt.ylabel('Variance expliquée')\n",
    "plt.title('Variance expliquée par chaque composante principale')\n",
    "plt.show()"
   ]
  },
  {
   "cell_type": "code",
   "execution_count": 44,
   "metadata": {},
   "outputs": [
    {
     "data": {
      "text/plain": [
       "(1346, 23)"
      ]
     },
     "execution_count": 44,
     "metadata": {},
     "output_type": "execute_result"
    }
   ],
   "source": [
    "X_pca.shape"
   ]
  },
  {
   "cell_type": "code",
   "execution_count": 45,
   "metadata": {},
   "outputs": [
    {
     "data": {
      "image/png": "[encoded data removed]",
      "text/plain": [
       "<Figure size 1000x800 with 2 Axes>"
      ]
     },
     "metadata": {},
     "output_type": "display_data"
    }
   ],
   "source": [
    "# Créer un DataFrame pour les composantes principales\n",
    "pca_components = pd.DataFrame(X_pca, columns=[f\"PC{i+1}\" for i in range(X_pca.shape[1])])\n",
    "\n",
    "# Calculer la matrice de corrélation des composantes principales\n",
    "correlation_matrix_pca = pca_components.corr()\n",
    "\n",
    "# Afficher la matrice de corrélation des composantes principales\n",
    "#print(correlation_matrix_pca)\n",
    "\n",
    "# Afficher une heatmap pour visualiser la matrice de corrélation\n",
    "\n",
    "plt.figure(figsize=(10, 8))\n",
    "sns.heatmap(correlation_matrix_pca, cmap='coolwarm', fmt=\".2f\")\n",
    "plt.title('Matrice de corrélation des composantes principales')\n",
    "plt.show()"
   ]
  },
  {
   "cell_type": "markdown",
   "metadata": {},
   "source": [
    "On peut remarquer que les composantes de PCA sont non corrélé "
   ]
  },
  {
   "cell_type": "markdown",
   "metadata": {},
   "source": [
    "# $DNN$"
   ]
  },
  {
   "cell_type": "markdown",
   "metadata": {},
   "source": [
    "## $Building$ $our$ $Model$ : (Keras sans optimization des hyperparamètres)"
   ]
  },
  {
   "cell_type": "code",
   "execution_count": 70,
   "metadata": {},
   "outputs": [],
   "source": [
    "X.drop('date',axis=1,inplace=True)"
   ]
  },
  {
   "cell_type": "code",
   "execution_count": 71,
   "metadata": {},
   "outputs": [],
   "source": [
    "from sklearn.preprocessing import StandardScaler\n",
    "scaler = StandardScaler()\n",
    "scaled_features = scaler.fit_transform(X)\n",
    "X_train, X_test, y_train, y_test = train_test_split(scaled_features, y, test_size=0.2, random_state=42)"
   ]
  },
  {
   "cell_type": "markdown",
   "metadata": {},
   "source": [
    "<b><font color=\"skyblue\">Step 1:</font></b>\n",
    " \n",
    "- Creation of our model using **Keras**."
   ]
  },
  {
   "cell_type": "code",
   "execution_count": 72,
   "metadata": {},
   "outputs": [],
   "source": [
    "model1 = keras.Sequential([\n",
    "    layers.Dense(100, activation='relu', input_shape=[X.shape[1]], name='hidden_layer1'),\n",
    "    layers.Dropout(0.3),  # Ajout d'une couche Dropout pour réduire le surajustement\n",
    "    layers.Dense(100, activation='relu', name='hidden_layer2'),\n",
    "    layers.Dropout(0.3),  # Ajout d'une couche Dropout pour réduire le surajustement\n",
    "    layers.BatchNormalization(),\n",
    "    layers.Dense(1, activation='linear', name='output_layer'),  # Changement de l'activation en 'sigmoid'\n",
    "])"
   ]
  },
  {
   "cell_type": "code",
   "execution_count": 73,
   "metadata": {},
   "outputs": [
    {
     "name": "stdout",
     "output_type": "stream",
     "text": [
      "Model: \"sequential_4\"\n",
      "_________________________________________________________________\n",
      " Layer (type)                Output Shape              Param #   \n",
      "=================================================================\n",
      " hidden_layer1 (Dense)       (None, 100)               2700      \n",
      "                                                                 \n",
      " dropout_10 (Dropout)        (None, 100)               0         \n",
      "                                                                 \n",
      " hidden_layer2 (Dense)       (None, 100)               10100     \n",
      "                                                                 \n",
      " dropout_11 (Dropout)        (None, 100)               0         \n",
      "                                                                 \n",
      " batch_normalization_5 (Batc  (None, 100)              400       \n",
      " hNormalization)                                                 \n",
      "                                                                 \n",
      " output_layer (Dense)        (None, 1)                 101       \n",
      "                                                                 \n",
      "=================================================================\n",
      "Total params: 13,301\n",
      "Trainable params: 13,101\n",
      "Non-trainable params: 200\n",
      "_________________________________________________________________\n"
     ]
    }
   ],
   "source": [
    "model1.summary()"
   ]
  },
  {
   "cell_type": "markdown",
   "metadata": {},
   "source": [
    "<b><font color=\"skyblue\">Step 2:</font></b>\n",
    " \n",
    "- Precise the `optimizer`, the `loss-fonction` & the `metric`."
   ]
  },
  {
   "cell_type": "code",
   "execution_count": 74,
   "metadata": {},
   "outputs": [],
   "source": [
    "model1.compile(\n",
    "    optimizer='adam',\n",
    "    loss='mean_squared_error',\n",
    "    metrics=['accuracy'],\n",
    ")"
   ]
  },
  {
   "cell_type": "markdown",
   "metadata": {},
   "source": [
    "<b><font color=\"skyblue\">Step 3:</font></b>\n",
    " \n",
    "- Train the model."
   ]
  },
  {
   "cell_type": "code",
   "execution_count": 75,
   "metadata": {},
   "outputs": [
    {
     "data": {
      "text/plain": [
       "(1390, 26)"
      ]
     },
     "execution_count": 75,
     "metadata": {},
     "output_type": "execute_result"
    }
   ],
   "source": [
    "X.shape"
   ]
  },
  {
   "cell_type": "code",
   "execution_count": 77,
   "metadata": {},
   "outputs": [
    {
     "name": "stdout",
     "output_type": "stream",
     "text": [
      "Epoch 1/50\n",
      " 1/35 [..............................] - ETA: 0s - loss: 641.7797 - accuracy: 0.0000e+00"
     ]
    },
    {
     "name": "stdout",
     "output_type": "stream",
     "text": [
      "35/35 [==============================] - 0s 8ms/step - loss: 546.7838 - accuracy: 0.0000e+00 - val_loss: 529.1959 - val_accuracy: 0.0000e+00\n",
      "Epoch 2/50\n",
      "35/35 [==============================] - 0s 5ms/step - loss: 546.8863 - accuracy: 0.0000e+00 - val_loss: 528.1322 - val_accuracy: 0.0000e+00\n",
      "Epoch 3/50\n",
      "35/35 [==============================] - 0s 5ms/step - loss: 546.9853 - accuracy: 0.0000e+00 - val_loss: 527.9836 - val_accuracy: 0.0000e+00\n",
      "Epoch 4/50\n",
      "35/35 [==============================] - 0s 6ms/step - loss: 547.0304 - accuracy: 0.0000e+00 - val_loss: 527.2991 - val_accuracy: 0.0000e+00\n",
      "Epoch 5/50\n",
      "35/35 [==============================] - 0s 6ms/step - loss: 546.9584 - accuracy: 0.0000e+00 - val_loss: 526.5241 - val_accuracy: 0.0000e+00\n",
      "Epoch 6/50\n",
      "35/35 [==============================] - 0s 6ms/step - loss: 546.6541 - accuracy: 0.0000e+00 - val_loss: 527.0084 - val_accuracy: 0.0000e+00\n",
      "Epoch 7/50\n",
      "35/35 [==============================] - 0s 5ms/step - loss: 546.6974 - accuracy: 0.0000e+00 - val_loss: 527.3531 - val_accuracy: 0.0000e+00\n",
      "Epoch 8/50\n",
      "35/35 [==============================] - 0s 5ms/step - loss: 546.7018 - accuracy: 0.0000e+00 - val_loss: 526.9824 - val_accuracy: 0.0000e+00\n",
      "Epoch 9/50\n",
      "35/35 [==============================] - 0s 5ms/step - loss: 546.7462 - accuracy: 0.0000e+00 - val_loss: 527.4050 - val_accuracy: 0.0000e+00\n",
      "Epoch 10/50\n",
      "35/35 [==============================] - 0s 5ms/step - loss: 546.8355 - accuracy: 0.0000e+00 - val_loss: 526.8700 - val_accuracy: 0.0000e+00\n",
      "Epoch 11/50\n",
      "35/35 [==============================] - 0s 5ms/step - loss: 546.7253 - accuracy: 0.0000e+00 - val_loss: 527.7619 - val_accuracy: 0.0000e+00\n",
      "Epoch 12/50\n",
      "35/35 [==============================] - 0s 5ms/step - loss: 546.8748 - accuracy: 0.0000e+00 - val_loss: 527.6846 - val_accuracy: 0.0000e+00\n",
      "Epoch 13/50\n",
      "35/35 [==============================] - 0s 5ms/step - loss: 547.0192 - accuracy: 0.0000e+00 - val_loss: 526.8756 - val_accuracy: 0.0000e+00\n",
      "Epoch 14/50\n",
      "35/35 [==============================] - 0s 5ms/step - loss: 546.6787 - accuracy: 0.0000e+00 - val_loss: 527.7432 - val_accuracy: 0.0000e+00\n",
      "Epoch 15/50\n",
      "35/35 [==============================] - 0s 12ms/step - loss: 546.7386 - accuracy: 0.0000e+00 - val_loss: 527.4183 - val_accuracy: 0.0000e+00\n",
      "Epoch 16/50\n",
      "35/35 [==============================] - 0s 5ms/step - loss: 546.7336 - accuracy: 0.0000e+00 - val_loss: 527.9349 - val_accuracy: 0.0000e+00\n",
      "Epoch 17/50\n",
      "35/35 [==============================] - 0s 5ms/step - loss: 546.7892 - accuracy: 0.0000e+00 - val_loss: 527.2446 - val_accuracy: 0.0000e+00\n",
      "Epoch 18/50\n",
      "35/35 [==============================] - 0s 5ms/step - loss: 547.0460 - accuracy: 0.0000e+00 - val_loss: 527.4768 - val_accuracy: 0.0000e+00\n",
      "Epoch 19/50\n",
      "35/35 [==============================] - 0s 5ms/step - loss: 546.6964 - accuracy: 0.0000e+00 - val_loss: 527.6198 - val_accuracy: 0.0000e+00\n",
      "Epoch 20/50\n",
      "35/35 [==============================] - 0s 7ms/step - loss: 547.1886 - accuracy: 0.0000e+00 - val_loss: 527.0143 - val_accuracy: 0.0000e+00\n",
      "Epoch 21/50\n",
      "35/35 [==============================] - 0s 5ms/step - loss: 546.8194 - accuracy: 0.0000e+00 - val_loss: 527.6729 - val_accuracy: 0.0000e+00\n",
      "Epoch 22/50\n",
      "35/35 [==============================] - 0s 5ms/step - loss: 546.6826 - accuracy: 0.0000e+00 - val_loss: 527.5223 - val_accuracy: 0.0000e+00\n",
      "Epoch 23/50\n",
      "35/35 [==============================] - 0s 5ms/step - loss: 546.7120 - accuracy: 0.0000e+00 - val_loss: 527.4281 - val_accuracy: 0.0000e+00\n",
      "Epoch 24/50\n",
      "35/35 [==============================] - 0s 5ms/step - loss: 547.9079 - accuracy: 0.0000e+00 - val_loss: 526.8855 - val_accuracy: 0.0000e+00\n",
      "Epoch 25/50\n",
      "35/35 [==============================] - 0s 5ms/step - loss: 546.9067 - accuracy: 0.0000e+00 - val_loss: 528.5449 - val_accuracy: 0.0000e+00\n",
      "Epoch 26/50\n",
      "35/35 [==============================] - 0s 5ms/step - loss: 546.7865 - accuracy: 0.0000e+00 - val_loss: 527.5964 - val_accuracy: 0.0000e+00\n",
      "Epoch 27/50\n",
      "35/35 [==============================] - 0s 5ms/step - loss: 547.0575 - accuracy: 0.0000e+00 - val_loss: 527.2498 - val_accuracy: 0.0000e+00\n",
      "Epoch 28/50\n",
      "35/35 [==============================] - 0s 5ms/step - loss: 546.7198 - accuracy: 0.0000e+00 - val_loss: 527.6372 - val_accuracy: 0.0000e+00\n",
      "Epoch 29/50\n",
      "35/35 [==============================] - 0s 5ms/step - loss: 546.9193 - accuracy: 0.0000e+00 - val_loss: 527.2050 - val_accuracy: 0.0000e+00\n",
      "Epoch 30/50\n",
      "35/35 [==============================] - 0s 5ms/step - loss: 547.5654 - accuracy: 0.0000e+00 - val_loss: 528.4009 - val_accuracy: 0.0000e+00\n",
      "Epoch 31/50\n",
      "35/35 [==============================] - 0s 5ms/step - loss: 546.6932 - accuracy: 0.0000e+00 - val_loss: 526.8856 - val_accuracy: 0.0000e+00\n",
      "Epoch 32/50\n",
      "35/35 [==============================] - 0s 5ms/step - loss: 546.7225 - accuracy: 0.0000e+00 - val_loss: 527.1190 - val_accuracy: 0.0000e+00\n",
      "Epoch 33/50\n",
      "35/35 [==============================] - 0s 5ms/step - loss: 546.8875 - accuracy: 0.0000e+00 - val_loss: 527.2136 - val_accuracy: 0.0000e+00\n",
      "Epoch 34/50\n",
      "35/35 [==============================] - 0s 5ms/step - loss: 546.6891 - accuracy: 0.0000e+00 - val_loss: 527.5948 - val_accuracy: 0.0000e+00\n",
      "Epoch 35/50\n",
      "35/35 [==============================] - 0s 5ms/step - loss: 546.7321 - accuracy: 0.0000e+00 - val_loss: 527.0531 - val_accuracy: 0.0000e+00\n",
      "Epoch 36/50\n",
      "35/35 [==============================] - 0s 5ms/step - loss: 546.7604 - accuracy: 0.0000e+00 - val_loss: 527.5095 - val_accuracy: 0.0000e+00\n",
      "Epoch 37/50\n",
      "35/35 [==============================] - 0s 6ms/step - loss: 546.9069 - accuracy: 0.0000e+00 - val_loss: 527.0354 - val_accuracy: 0.0000e+00\n",
      "Epoch 38/50\n",
      "35/35 [==============================] - 0s 6ms/step - loss: 546.8607 - accuracy: 0.0000e+00 - val_loss: 528.3195 - val_accuracy: 0.0000e+00\n",
      "Epoch 39/50\n",
      "35/35 [==============================] - 0s 5ms/step - loss: 546.8240 - accuracy: 0.0000e+00 - val_loss: 527.0866 - val_accuracy: 0.0000e+00\n",
      "Epoch 40/50\n",
      "35/35 [==============================] - 0s 5ms/step - loss: 546.7838 - accuracy: 0.0000e+00 - val_loss: 527.3458 - val_accuracy: 0.0000e+00\n",
      "Epoch 41/50\n",
      "35/35 [==============================] - 0s 5ms/step - loss: 546.7880 - accuracy: 0.0000e+00 - val_loss: 527.6265 - val_accuracy: 0.0000e+00\n",
      "Epoch 42/50\n",
      "35/35 [==============================] - 0s 5ms/step - loss: 546.7808 - accuracy: 0.0000e+00 - val_loss: 527.3708 - val_accuracy: 0.0000e+00\n",
      "Epoch 43/50\n",
      "35/35 [==============================] - 0s 5ms/step - loss: 546.7999 - accuracy: 0.0000e+00 - val_loss: 527.2688 - val_accuracy: 0.0000e+00\n",
      "Epoch 44/50\n",
      "35/35 [==============================] - 0s 5ms/step - loss: 546.7299 - accuracy: 0.0000e+00 - val_loss: 527.4136 - val_accuracy: 0.0000e+00\n",
      "Epoch 45/50\n",
      "35/35 [==============================] - 0s 5ms/step - loss: 546.8077 - accuracy: 0.0000e+00 - val_loss: 527.3111 - val_accuracy: 0.0000e+00\n",
      "Epoch 46/50\n",
      "35/35 [==============================] - 0s 5ms/step - loss: 547.2722 - accuracy: 0.0000e+00 - val_loss: 528.6489 - val_accuracy: 0.0000e+00\n",
      "Epoch 47/50\n",
      "35/35 [==============================] - 0s 5ms/step - loss: 547.1139 - accuracy: 0.0000e+00 - val_loss: 527.2317 - val_accuracy: 0.0000e+00\n",
      "Epoch 48/50\n",
      "35/35 [==============================] - 0s 5ms/step - loss: 546.7865 - accuracy: 0.0000e+00 - val_loss: 527.8390 - val_accuracy: 0.0000e+00\n",
      "Epoch 49/50\n",
      "35/35 [==============================] - 0s 5ms/step - loss: 546.7852 - accuracy: 0.0000e+00 - val_loss: 527.5349 - val_accuracy: 0.0000e+00\n",
      "Epoch 50/50\n",
      "35/35 [==============================] - 0s 5ms/step - loss: 546.7274 - accuracy: 0.0000e+00 - val_loss: 527.4404 - val_accuracy: 0.0000e+00\n"
     ]
    }
   ],
   "source": [
    "hist = model1.fit(X_train,\n",
    "                 y_train,\n",
    "                 batch_size=32,\n",
    "                 epochs=50,\n",
    "                 validation_data=(X_test,y_test))"
   ]
  },
  {
   "cell_type": "code",
   "execution_count": 81,
   "metadata": {},
   "outputs": [
    {
     "name": "stdout",
     "output_type": "stream",
     "text": [
      "9/9 [==============================] - 0s 4ms/step - loss: 527.4404 - accuracy: 0.0000e+00\n",
      "Mean Squared Error on test set: [22.96607127  0.        ]\n"
     ]
    }
   ],
   "source": [
    "mse = model1.evaluate(X_test, y_test)\n",
    "print(f'Mean Squared Error on test set: {np.sqrt(mse)}')"
   ]
  },
  {
   "cell_type": "code",
   "execution_count": 18,
   "metadata": {},
   "outputs": [
    {
     "data": {
      "text/html": [
       "<div>\n",
       "<style scoped>\n",
       "    .dataframe tbody tr th:only-of-type {\n",
       "        vertical-align: middle;\n",
       "    }\n",
       "\n",
       "    .dataframe tbody tr th {\n",
       "        vertical-align: top;\n",
       "    }\n",
       "\n",
       "    .dataframe thead th {\n",
       "        text-align: right;\n",
       "    }\n",
       "</style>\n",
       "<table border=\"1\" class=\"dataframe\">\n",
       "  <thead>\n",
       "    <tr style=\"text-align: right;\">\n",
       "      <th></th>\n",
       "      <th>loss</th>\n",
       "      <th>accuracy</th>\n",
       "      <th>val_loss</th>\n",
       "      <th>val_accuracy</th>\n",
       "    </tr>\n",
       "  </thead>\n",
       "  <tbody>\n",
       "    <tr>\n",
       "      <th>0</th>\n",
       "      <td>0.699730</td>\n",
       "      <td>0.657609</td>\n",
       "      <td>0.585456</td>\n",
       "      <td>0.691576</td>\n",
       "    </tr>\n",
       "    <tr>\n",
       "      <th>1</th>\n",
       "      <td>0.627485</td>\n",
       "      <td>0.694973</td>\n",
       "      <td>0.603519</td>\n",
       "      <td>0.649457</td>\n",
       "    </tr>\n",
       "    <tr>\n",
       "      <th>2</th>\n",
       "      <td>0.598390</td>\n",
       "      <td>0.695312</td>\n",
       "      <td>0.587871</td>\n",
       "      <td>0.664402</td>\n",
       "    </tr>\n",
       "    <tr>\n",
       "      <th>3</th>\n",
       "      <td>0.553965</td>\n",
       "      <td>0.717391</td>\n",
       "      <td>0.566860</td>\n",
       "      <td>0.684783</td>\n",
       "    </tr>\n",
       "    <tr>\n",
       "      <th>4</th>\n",
       "      <td>0.547994</td>\n",
       "      <td>0.716712</td>\n",
       "      <td>0.566314</td>\n",
       "      <td>0.671196</td>\n",
       "    </tr>\n",
       "  </tbody>\n",
       "</table>\n",
       "</div>"
      ],
      "text/plain": [
       "       loss  accuracy  val_loss  val_accuracy\n",
       "0  0.699730  0.657609  0.585456      0.691576\n",
       "1  0.627485  0.694973  0.603519      0.649457\n",
       "2  0.598390  0.695312  0.587871      0.664402\n",
       "3  0.553965  0.717391  0.566860      0.684783\n",
       "4  0.547994  0.716712  0.566314      0.671196"
      ]
     },
     "execution_count": 18,
     "metadata": {},
     "output_type": "execute_result"
    }
   ],
   "source": [
    "history_df = pd.DataFrame(hist.history)\n",
    "history_df.head()"
   ]
  },
  {
   "cell_type": "markdown",
   "metadata": {},
   "source": [
    "We'll plot the curve of the loss function (for training and validation) as a function of the number of epochs"
   ]
  },
  {
   "cell_type": "code",
   "execution_count": 19,
   "metadata": {},
   "outputs": [
    {
     "name": "stdout",
     "output_type": "stream",
     "text": [
      "Minimum validation loss: 0.21934057772159576\n"
     ]
    },
    {
     "data": {
      "image/png": "[encoded data removed]",
      "text/plain": [
       "<Figure size 640x480 with 1 Axes>"
      ]
     },
     "metadata": {},
     "output_type": "display_data"
    }
   ],
   "source": [
    "history_df.loc[:, ['loss', 'val_loss']].plot();\n",
    "print(\"Minimum validation loss: {}\".format(history_df['val_loss'].min()))"
   ]
  },
  {
   "cell_type": "markdown",
   "metadata": {},
   "source": [
    "## $Keras$ $tuner$ : (Le deuxième modèle en optimisant les hyperparamètres)"
   ]
  },
  {
   "cell_type": "markdown",
   "metadata": {},
   "source": [
    "Dans cette partie, nous allons utiliser **Keras Tuner** pour effectuer une recherche d'hyperparamètres pour un modèle de réseau de neurones. Le but de cette parrtie est de trouver les meilleures **valeurs** d'hyperparamètres pour maximiser la précision (`accuracy`) du modèle sur un ensemble de validation."
   ]
  },
  {
   "cell_type": "code",
   "execution_count": 20,
   "metadata": {},
   "outputs": [],
   "source": [
    "X_train, X_val, y_train, y_val = train_test_split(X_train, y_train, train_size=0.8)"
   ]
  },
  {
   "cell_type": "code",
   "execution_count": 57,
   "metadata": {},
   "outputs": [
    {
     "name": "stdout",
     "output_type": "stream",
     "text": [
      "Trial 5 Complete [00h 00m 52s]\n",
      "val_accuracy: 0.663043479124705\n",
      "\n",
      "Best val_accuracy So Far: 0.6870471040407816\n",
      "Total elapsed time: 00h 03m 11s\n",
      "\n",
      "Search: Running Trial #6\n",
      "\n",
      "Value             |Best Value So Far |Hyperparameter\n",
      "290               |210               |units1\n",
      "180               |180               |units2\n",
      "0.01              |0.1               |learning_rate\n",
      "\n",
      "Epoch 1/10\n",
      "115/115 [==============================] - 5s 18ms/step - loss: 0.7198 - accuracy: 0.5777 - val_loss: 0.6998 - val_accuracy: 0.5978\n",
      "Epoch 2/10\n",
      "115/115 [==============================] - 1s 12ms/step - loss: 0.6901 - accuracy: 0.5875 - val_loss: 0.6341 - val_accuracy: 0.6508\n",
      "Epoch 3/10\n",
      "115/115 [==============================] - 1s 12ms/step - loss: 0.6800 - accuracy: 0.5989 - val_loss: 0.6392 - val_accuracy: 0.6562\n",
      "Epoch 4/10\n",
      "115/115 [==============================] - 1s 11ms/step - loss: 0.6829 - accuracy: 0.5954 - val_loss: 0.6815 - val_accuracy: 0.6304\n",
      "Epoch 5/10\n",
      "115/115 [==============================] - 1s 11ms/step - loss: 0.6838 - accuracy: 0.5970 - val_loss: 1.6245 - val_accuracy: 0.6291\n",
      "Epoch 6/10\n",
      "115/115 [==============================] - 1s 11ms/step - loss: 0.6790 - accuracy: 0.6008 - val_loss: 0.6840 - val_accuracy: 0.5978\n",
      "Epoch 7/10\n",
      "115/115 [==============================] - 1s 11ms/step - loss: 0.6770 - accuracy: 0.6030 - val_loss: 0.6592 - val_accuracy: 0.6318\n",
      "Epoch 8/10\n",
      "115/115 [==============================] - 1s 11ms/step - loss: 0.6763 - accuracy: 0.6041 - val_loss: 0.6375 - val_accuracy: 0.6495\n",
      "Epoch 9/10\n",
      "115/115 [==============================] - 1s 12ms/step - loss: 0.6752 - accuracy: 0.6043 - val_loss: 0.6650 - val_accuracy: 0.6264\n",
      "Epoch 10/10\n",
      "115/115 [==============================] - 1s 10ms/step - loss: 0.6765 - accuracy: 0.6022 - val_loss: 0.6664 - val_accuracy: 0.6277\n",
      "Epoch 1/10\n",
      "115/115 [==============================] - 5s 16ms/step - loss: 0.7190 - accuracy: 0.5783 - val_loss: 0.6358 - val_accuracy: 0.6576\n",
      "Epoch 2/10\n",
      "115/115 [==============================] - 1s 7ms/step - loss: 0.6864 - accuracy: 0.5948 - val_loss: 0.7103 - val_accuracy: 0.6291\n",
      "Epoch 3/10\n",
      "115/115 [==============================] - 1s 7ms/step - loss: 0.6866 - accuracy: 0.5870 - val_loss: 0.6730 - val_accuracy: 0.6291\n",
      "Epoch 4/10\n",
      "115/115 [==============================] - 1s 7ms/step - loss: 0.6830 - accuracy: 0.5995 - val_loss: 0.6860 - val_accuracy: 0.6318\n",
      "Epoch 5/10\n",
      "115/115 [==============================] - 1s 8ms/step - loss: 0.6838 - accuracy: 0.5965 - val_loss: 0.6581 - val_accuracy: 0.6318\n",
      "Epoch 6/10\n",
      "115/115 [==============================] - 1s 6ms/step - loss: 0.6788 - accuracy: 0.6000 - val_loss: 0.6784 - val_accuracy: 0.6291\n",
      "Epoch 7/10\n",
      "115/115 [==============================] - 1s 7ms/step - loss: 0.6797 - accuracy: 0.6000 - val_loss: 0.6675 - val_accuracy: 0.6291\n",
      "Epoch 8/10\n",
      "115/115 [==============================] - 2s 13ms/step - loss: 0.6737 - accuracy: 0.6035 - val_loss: 0.7001 - val_accuracy: 0.6318\n",
      "Epoch 9/10\n",
      "115/115 [==============================] - 1s 9ms/step - loss: 0.6753 - accuracy: 0.6019 - val_loss: 0.6417 - val_accuracy: 0.6617\n",
      "Epoch 10/10\n",
      "115/115 [==============================] - 1s 6ms/step - loss: 0.6751 - accuracy: 0.6030 - val_loss: 0.6643 - val_accuracy: 0.6291\n"
     ]
    }
   ],
   "source": [
    "from tensorflow import keras\n",
    "from tensorflow.keras import layers\n",
    "from kerastuner.tuners import RandomSearch\n",
    "from sklearn.metrics import accuracy_score\n",
    "\n",
    "def build_model(hp):\n",
    "    \"\"\"\n",
    "    Fonction construisant et configurant un modèle de réseau de neurones \n",
    "    en fonction des hyperparamètres spécifiés.\n",
    "\n",
    "    Parameters \n",
    "    ----------\n",
    "    hp : de type HyperParameters fourni par Keras Tuner. Il est utilisé pour spécifier les valeurs des hyperparamètres du modèle. \n",
    "\n",
    "    Returns\n",
    "    -------\n",
    "    model : est une instance de Sequential dans Keras, représentant le modèle de réseau de neurones configuré avec les \n",
    "    hyperparamètres spécifiés.\n",
    "    \"\"\"\n",
    "\n",
    "    model = keras.Sequential()\n",
    "    model.add(layers.Dense(units=hp.Int('units1', min_value=150, max_value=300, step=20),\n",
    "                           activation='relu', input_shape=[57], name='hidden_layer1'))\n",
    "    model.add(layers.Dropout(0.3))\n",
    "    model.add(layers.Dense(units=hp.Int('units2', min_value=100, max_value=200, step=20),\n",
    "                           activation='relu', name='hidden_layer2'))\n",
    "    model.add(layers.Dropout(0.3))\n",
    "    model.add(layers.BatchNormalization())\n",
    "    model.add(layers.Dense(1, activation='sigmoid', name='output_layer'))\n",
    "\n",
    "    model.compile(\n",
    "        optimizer=keras.optimizers.Adam(\n",
    "        hp.Choice('learning_rate', values=[1e-2, 1e-1])),\n",
    "        loss='binary_crossentropy',\n",
    "        metrics=['accuracy']\n",
    "    )\n",
    "\n",
    "\n",
    "    return model\n",
    "\n",
    "tuner = RandomSearch(\n",
    "    build_model,\n",
    "    objective='val_accuracy',\n",
    "    max_trials=10,  # Choisissez le nombre d'essais que vous voulez\n",
    "    executions_per_trial=3,  # Nombre d'exécutions par essai pour réduire la variabilité\n",
    "    directory='my_dir2',\n",
    "    project_name='keras_tuner2'\n",
    ")\n",
    "\n",
    "print('Le résumé des hyperparamètres et de leur espace de recherche :', tuner.search_space_summary() ) # Afficher un résumé de l'espace de recherche des hyperparamètres\n",
    "#lançons la recherche d'hyperparamètres en utilisant l'ensemble d'entraînement (X_train, y_train) et l'ensemble de validation (X_val, y_val).\n",
    "tuner.search(X_train, y_train,\n",
    "             epochs=10,\n",
    "             validation_data=(X_val, y_val)) \n",
    "\n",
    "best_model = tuner.get_best_models(num_models=1)[0] #renvoie les meilleurs modèles\n",
    "best_hyperparameters = tuner.get_best_hyperparameters(num_trials=1)[0] #renvoie les meilleurs hyperparamètres"
   ]
  },
  {
   "cell_type": "markdown",
   "metadata": {},
   "source": [
    "test test test test "
   ]
  },
  {
   "cell_type": "code",
   "execution_count": 22,
   "metadata": {},
   "outputs": [
    {
     "name": "stdout",
     "output_type": "stream",
     "text": [
      "Trial 10 Complete [00h 01m 16s]\n",
      "val_accuracy: 0.8949275414148966\n",
      "\n",
      "Best val_accuracy So Far: 0.8949275414148966\n",
      "Total elapsed time: 00h 06m 52s\n"
     ]
    }
   ],
   "source": [
    "def build_model(hp):\n",
    "    model = keras.Sequential()\n",
    "    model.add(layers.Dense(units=hp.Int('units1', min_value=150, max_value=300, step=20),\n",
    "                           activation='relu', input_shape=[57], name='hidden_layer1'))\n",
    "    model.add(layers.Dropout(0.3))\n",
    "\n",
    "    num_layers = hp.Int('num_layers', min_value=2, max_value=5, step=1)  # Paramètre pour le nombre de couches cachées\n",
    "\n",
    "    for i in range(num_layers - 1):  # Boucle pour ajouter les couches cachées en fonction du nombre spécifié\n",
    "        model.add(layers.Dense(units=hp.Int(f'units{i+2}', min_value=100, max_value=300, step=20),\n",
    "                               activation='relu', name=f'hidden_layer_{i+2}'))\n",
    "        model.add(layers.Dropout(0.3))\n",
    "        model.add(layers.BatchNormalization())\n",
    "\n",
    "    model.add(layers.Dense(1, activation='sigmoid', name='output_layer'))\n",
    "\n",
    "    model.compile(\n",
    "        optimizer=keras.optimizers.Adam(\n",
    "        hp.Choice('learning_rate', values=[1e-2, 1e-1])),\n",
    "        loss='binary_crossentropy',\n",
    "        metrics=['accuracy']\n",
    "    )\n",
    "\n",
    "    return model\n",
    "\n",
    "tuner = RandomSearch(\n",
    "    build_model,\n",
    "    objective='val_accuracy',\n",
    "    max_trials=10,  # Choisissez le nombre d'essais que vous voulez\n",
    "    executions_per_trial=3,  # Nombre d'exécutions par essai pour réduire la variabilité\n",
    "    directory='my_dir1',\n",
    "    project_name='keras_tuner_layers'\n",
    ")\n",
    "\n",
    "print('Le résumé des hyperparamètres et de leur espace de recherche :', tuner.search_space_summary())\n",
    "\n",
    "# Lancer la recherche d'hyperparamètres en utilisant l'ensemble d'entraînement (X_train, y_train) et l'ensemble de validation (X_val, y_val)\n",
    "tuner.search(X_train, y_train,\n",
    "             epochs=10,\n",
    "             validation_data=(X_val, y_val)) \n",
    "\n",
    "best_model_num_layers = tuner.get_best_models(num_models=1)[0]  # Renvoie les meilleurs modèles\n",
    "best_hyperparameters_num_layers = tuner.get_best_hyperparameters(num_trials=1)[0]  # Renvoie les meilleurs hyperparamètres\n"
   ]
  },
  {
   "cell_type": "code",
   "execution_count": 23,
   "metadata": {},
   "outputs": [
    {
     "name": "stdout",
     "output_type": "stream",
     "text": [
      "Meilleurs hyperparamètres:\n",
      "Units1: 290\n",
      "Units2: 280\n",
      "Units3: 100\n",
      "Units4: 260\n",
      "Units5: 200\n",
      "Learning Rate: 0.1\n"
     ]
    }
   ],
   "source": [
    "print(\"Meilleurs hyperparamètres:\")\n",
    "print(f\"Units1: {best_hyperparameters_num_layers.get('units1')}\")\n",
    "print(f\"Units2: {best_hyperparameters_num_layers.get('units2')}\")\n",
    "print(f\"Units3: {best_hyperparameters_num_layers.get('units3')}\")\n",
    "print(f\"Units4: {best_hyperparameters_num_layers.get('units4')}\")\n",
    "print(f\"Units5: {best_hyperparameters_num_layers.get('units5')}\")\n",
    "\n",
    "print(f\"Learning Rate: {best_hyperparameters_num_layers.get('learning_rate')}\")"
   ]
  },
  {
   "cell_type": "code",
   "execution_count": 24,
   "metadata": {},
   "outputs": [
    {
     "name": "stdout",
     "output_type": "stream",
     "text": [
      "23/23 [==============================] - 1s 7ms/step - loss: 0.4577 - accuracy: 0.9144\n"
     ]
    }
   ],
   "source": [
    "validation_accuracy = best_model_num_layers.evaluate(X_val, y_val)[1]\n"
   ]
  },
  {
   "cell_type": "markdown",
   "metadata": {},
   "source": [
    "Fin test"
   ]
  },
  {
   "cell_type": "markdown",
   "metadata": {},
   "source": [
    "- Les valeurs des hyperparamètres du meilleur modele :"
   ]
  },
  {
   "cell_type": "code",
   "execution_count": 25,
   "metadata": {},
   "outputs": [
    {
     "name": "stdout",
     "output_type": "stream",
     "text": [
      "Meilleurs hyperparamètres:\n",
      "Units1: 170\n",
      "Units2: 140\n",
      "Learning Rate: 0.1\n"
     ]
    }
   ],
   "source": [
    "print(\"Meilleurs hyperparamètres:\")\n",
    "print(f\"Units1: {best_hyperparameters.get('units1')}\")\n",
    "# print(f\"Dropout1: {best_hyperparameters.get('dropout1')}\")\n",
    "print(f\"Units2: {best_hyperparameters.get('units2')}\")\n",
    "# print(f\"Dropout2: {best_hyperparameters.get('dropout2')}\")\n",
    "print(f\"Learning Rate: {best_hyperparameters.get('learning_rate')}\")"
   ]
  },
  {
   "cell_type": "markdown",
   "metadata": {},
   "source": [
    "- La precision sur l'ensemble de validation  du meilleur modele :"
   ]
  },
  {
   "cell_type": "code",
   "execution_count": 26,
   "metadata": {},
   "outputs": [
    {
     "name": "stdout",
     "output_type": "stream",
     "text": [
      "23/23 [==============================] - 1s 6ms/step - loss: 0.2542 - accuracy: 0.9158\n",
      "Validation Accuracy du meilleur modèle : 0.91576087474823\n"
     ]
    }
   ],
   "source": [
    "validation_accuracy = best_model.evaluate(X_val, y_val)[1]\n",
    "print(f\"Validation Accuracy du meilleur modèle : {validation_accuracy}\")"
   ]
  },
  {
   "cell_type": "code",
   "execution_count": 27,
   "metadata": {},
   "outputs": [
    {
     "name": "stdout",
     "output_type": "stream",
     "text": [
      "Model: \"sequential\"\n",
      "_________________________________________________________________\n",
      " Layer (type)                Output Shape              Param #   \n",
      "=================================================================\n",
      " hidden_layer1 (Dense)       (None, 170)               9860      \n",
      "                                                                 \n",
      " dropout (Dropout)           (None, 170)               0         \n",
      "                                                                 \n",
      " hidden_layer2 (Dense)       (None, 140)               23940     \n",
      "                                                                 \n",
      " dropout_1 (Dropout)         (None, 140)               0         \n",
      "                                                                 \n",
      " batch_normalization (Batch  (None, 140)               560       \n",
      " Normalization)                                                  \n",
      "                                                                 \n",
      " output_layer (Dense)        (None, 1)                 141       \n",
      "                                                                 \n",
      "=================================================================\n",
      "Total params: 34501 (134.77 KB)\n",
      "Trainable params: 34221 (133.68 KB)\n",
      "Non-trainable params: 280 (1.09 KB)\n",
      "_________________________________________________________________\n"
     ]
    }
   ],
   "source": [
    "best_model.summary()"
   ]
  },
  {
   "cell_type": "code",
   "execution_count": 28,
   "metadata": {},
   "outputs": [
    {
     "name": "stdout",
     "output_type": "stream",
     "text": [
      "Model: \"sequential\"\n",
      "_________________________________________________________________\n",
      " Layer (type)                Output Shape              Param #   \n",
      "=================================================================\n",
      " hidden_layer1 (Dense)       (None, 100)               5800      \n",
      "                                                                 \n",
      " dropout (Dropout)           (None, 100)               0         \n",
      "                                                                 \n",
      " hidden_layer2 (Dense)       (None, 100)               10100     \n",
      "                                                                 \n",
      " dropout_1 (Dropout)         (None, 100)               0         \n",
      "                                                                 \n",
      " batch_normalization (Batch  (None, 100)               400       \n",
      " Normalization)                                                  \n",
      "                                                                 \n",
      " output_layer (Dense)        (None, 1)                 101       \n",
      "                                                                 \n",
      "=================================================================\n",
      "Total params: 16401 (64.07 KB)\n",
      "Trainable params: 16201 (63.29 KB)\n",
      "Non-trainable params: 200 (800.00 Byte)\n",
      "_________________________________________________________________\n"
     ]
    }
   ],
   "source": [
    "model1.summary()"
   ]
  },
  {
   "cell_type": "code",
   "execution_count": 29,
   "metadata": {},
   "outputs": [
    {
     "name": "stdout",
     "output_type": "stream",
     "text": [
      "Results summary\n",
      "Results in my_dir1\\keras_tuner_layers\n",
      "Showing 5 best trials\n",
      "Objective(name=\"val_accuracy\", direction=\"max\")\n",
      "\n",
      "Trial 09 summary\n",
      "Hyperparameters:\n",
      "units1: 290\n",
      "num_layers: 5\n",
      "units2: 280\n",
      "learning_rate: 0.1\n",
      "units3: 100\n",
      "units4: 260\n",
      "units5: 200\n",
      "Score: 0.8949275414148966\n",
      "\n",
      "Trial 01 summary\n",
      "Hyperparameters:\n",
      "units1: 170\n",
      "num_layers: 4\n",
      "units2: 100\n",
      "learning_rate: 0.1\n",
      "units3: 140\n",
      "units4: 200\n",
      "Score: 0.8890398542086283\n",
      "\n",
      "Trial 03 summary\n",
      "Hyperparameters:\n",
      "units1: 270\n",
      "num_layers: 3\n",
      "units2: 180\n",
      "learning_rate: 0.1\n",
      "units3: 280\n",
      "units4: 120\n",
      "Score: 0.865489145119985\n",
      "\n",
      "Trial 07 summary\n",
      "Hyperparameters:\n",
      "units1: 250\n",
      "num_layers: 2\n",
      "units2: 280\n",
      "learning_rate: 0.1\n",
      "units3: 220\n",
      "units4: 140\n",
      "units5: 220\n",
      "Score: 0.8600543538729349\n",
      "\n",
      "Trial 04 summary\n",
      "Hyperparameters:\n",
      "units1: 190\n",
      "num_layers: 4\n",
      "units2: 200\n",
      "learning_rate: 0.1\n",
      "units3: 300\n",
      "units4: 100\n",
      "Score: 0.8582427501678467\n"
     ]
    }
   ],
   "source": [
    "tuner.results_summary(num_trials=5)\n"
   ]
  },
  {
   "cell_type": "markdown",
   "metadata": {},
   "source": [
    "## $Evaluate$ $Our$ $Models$ :"
   ]
  },
  {
   "cell_type": "markdown",
   "metadata": {},
   "source": [
    "<b><font color=\"skyblue\">Step 1:</font></b>\n",
    " \n",
    "- Transform our data into a numpy/list data."
   ]
  },
  {
   "cell_type": "code",
   "execution_count": 30,
   "metadata": {},
   "outputs": [],
   "source": [
    "X_test=X_test.values\n",
    "\n",
    "y_test=y_test.values"
   ]
  },
  {
   "cell_type": "markdown",
   "metadata": {},
   "source": [
    "<b><font color=\"skyblue\">Step 2:</font></b>\n",
    " \n",
    "- Evaluate our model on the test data."
   ]
  },
  {
   "cell_type": "code",
   "execution_count": 31,
   "metadata": {},
   "outputs": [
    {
     "name": "stdout",
     "output_type": "stream",
     "text": [
      "29/29 [==============================] - 1s 5ms/step - loss: 0.2437 - accuracy: 0.9240\n",
      "Loss on test data: 0.24371418356895447\n",
      "Accuracy on test data: 0.9239956736564636\n"
     ]
    }
   ],
   "source": [
    "loss, accuracy_DNN = model1.evaluate(X_test, y_test)\n",
    "print('Loss on test data:', loss)\n",
    "print('Accuracy on test data:', accuracy_DNN)"
   ]
  },
  {
   "cell_type": "code",
   "execution_count": 32,
   "metadata": {},
   "outputs": [
    {
     "name": "stdout",
     "output_type": "stream",
     "text": [
      "29/29 [==============================] - 1s 5ms/step - loss: 0.2943 - accuracy: 0.9055\n",
      "Loss on test data: 0.29432132840156555\n",
      "Accuracy on test data: 0.905537486076355\n"
     ]
    }
   ],
   "source": [
    "loss2, accuracy_DNN2 = best_model.evaluate(X_test, y_test)\n",
    "print('Loss on test data:', loss2)\n",
    "print('Accuracy on test data:', accuracy_DNN2)"
   ]
  },
  {
   "cell_type": "markdown",
   "metadata": {},
   "source": [
    "<b><font color=red> Résultat : </font></b>\n",
    "\n",
    "- Le `premier modèle` est plus <b>performant</b> que le deuxième.\n",
    "\n",
    "<b><font color=blue> Explication : </font></b>\n",
    "\n",
    "Nous avons utilisé keras tuner pour tester plusieurs paramètres et avoir un modèle plus performant mais avec le nombre des trials qu'on a mis les modèles tester ont données des bons résultats mais le modèle de base reste plus performant, ceci est à cause de : \n",
    "\n",
    "- `Nombre d'essais insuffisant` : Il est possible que le nombre d'essais (max_trials) que vous avez spécifié pour le tuner ne soit pas suffisant pour explorer de manière exhaustive l'espace des hyperparamètres.\n",
    "\n",
    "- `Surajustement à l'ensemble de validation` : Le tuner peut choisir des hyperparamètres qui surajustent à l'ensemble de validation. Cela peut entraîner de bonnes performances sur l'ensemble de validation, mais des performances inférieures sur de nouveaux exemples.\n",
    "\n",
    "- `Interaction complexe entre hyperparamètres` : Parfois, l'interaction entre différents hyperparamètres peut être complexe, et le tuner peut ne pas être en mesure de trouver la meilleure combinaison."
   ]
  },
  {
   "cell_type": "markdown",
   "metadata": {},
   "source": [
    "## $Predict$ :"
   ]
  },
  {
   "cell_type": "code",
   "execution_count": 33,
   "metadata": {},
   "outputs": [
    {
     "name": "stdout",
     "output_type": "stream",
     "text": [
      "29/29 [==============================] - 1s 5ms/step\n",
      "Predicted probabilities: [[0.04450211]\n",
      " [0.13231584]\n",
      " [0.09266521]\n",
      " [0.9860609 ]\n",
      " [0.59244287]\n",
      " [0.00439196]\n",
      " [0.12003936]\n",
      " [0.963188  ]\n",
      " [0.0665373 ]\n",
      " [0.0056314 ]]\n",
      "Predicted labels: [[0]\n",
      " [0]\n",
      " [0]\n",
      " [1]\n",
      " [1]\n",
      " [0]\n",
      " [0]\n",
      " [1]\n",
      " [0]\n",
      " [0]]\n"
     ]
    }
   ],
   "source": [
    "# Predict probabilities for each class\n",
    "predictions_proba = model1.predict(X_test)\n",
    "\n",
    "# Convert probabilities to predicted labels (0 or 1 in this binary classification case)\n",
    "predictions = (predictions_proba > 0.5).astype(int)\n",
    "\n",
    "# Display the predictions\n",
    "print(\"Predicted probabilities:\", predictions_proba[:10])  # Display the predicted probabilities for the first 10 samples\n",
    "print(\"Predicted labels:\", predictions[:10])  # Display the predicted labels for the first 10 samples\n"
   ]
  },
  {
   "cell_type": "markdown",
   "metadata": {},
   "source": [
    "# $Logistic$ $regression$\n",
    "We're gonna use the same set of X_train, X_test, y_train and y_test data in the first section"
   ]
  },
  {
   "cell_type": "code",
   "execution_count": 34,
   "metadata": {},
   "outputs": [],
   "source": [
    "X_train, X_test, y_train, y_test = train_test_split(X, y, train_size=0.8)"
   ]
  },
  {
   "cell_type": "markdown",
   "metadata": {},
   "source": [
    "## Building the logistique regression model"
   ]
  },
  {
   "cell_type": "code",
   "execution_count": 35,
   "metadata": {},
   "outputs": [],
   "source": [
    "X_train, X_test, y_train, y_test = train_test_split(X, y, train_size=0.8)"
   ]
  },
  {
   "cell_type": "code",
   "execution_count": 36,
   "metadata": {},
   "outputs": [],
   "source": [
    "from sklearn.linear_model import LogisticRegression\n",
    "logistic_model_v1 = LogisticRegression(random_state=16, max_iter=1000, solver='lbfgs', C=0.1).fit(X_train, y_train)\n",
    "#predicted values\n",
    "y_pred = logistic_model_v1.predict(X_test)"
   ]
  },
  {
   "cell_type": "markdown",
   "metadata": {},
   "source": [
    "## Evaluating the model"
   ]
  },
  {
   "cell_type": "markdown",
   "metadata": {},
   "source": [
    "### Confusion matrix"
   ]
  },
  {
   "cell_type": "code",
   "execution_count": 37,
   "metadata": {},
   "outputs": [],
   "source": [
    "# import the metrics class\n",
    "from sklearn import metrics\n",
    "cnf_matrix = metrics.confusion_matrix(y_test, y_pred)"
   ]
  },
  {
   "cell_type": "code",
   "execution_count": 38,
   "metadata": {},
   "outputs": [
    {
     "data": {
      "text/plain": [
       "Text(0.5, 427.9555555555555, 'Predicted label')"
      ]
     },
     "execution_count": 38,
     "metadata": {},
     "output_type": "execute_result"
    },
    {
     "data": {
      "image/png": "[encoded data removed]",
      "text/plain": [
       "<Figure size 640x480 with 2 Axes>"
      ]
     },
     "metadata": {},
     "output_type": "display_data"
    }
   ],
   "source": [
    "#visualizing the confusion matrix\n",
    "# import required modules\n",
    "import numpy as np\n",
    "import matplotlib.pyplot as plt\n",
    "import seaborn as sns\n",
    "\n",
    "class_names=[0,1] # name  of classes\n",
    "fig, ax = plt.subplots()\n",
    "tick_marks = np.arange(len(class_names))\n",
    "plt.xticks(tick_marks, class_names)\n",
    "plt.yticks(tick_marks, class_names)\n",
    "# create heatmap\n",
    "sns.heatmap(pd.DataFrame(cnf_matrix), annot=True, cmap=\"YlGnBu\" ,fmt='g')\n",
    "ax.xaxis.set_label_position(\"top\")\n",
    "plt.tight_layout()\n",
    "plt.title('Confusion matrix', y=1.1)\n",
    "plt.ylabel('Actual label')\n",
    "plt.xlabel('Predicted label')"
   ]
  },
  {
   "cell_type": "code",
   "execution_count": 39,
   "metadata": {},
   "outputs": [
    {
     "name": "stdout",
     "output_type": "stream",
     "text": [
      "              precision    recall  f1-score   support\n",
      "\n",
      "    not spam       0.93      0.94      0.94       539\n",
      "        spam       0.91      0.91      0.91       382\n",
      "\n",
      "    accuracy                           0.93       921\n",
      "   macro avg       0.92      0.92      0.92       921\n",
      "weighted avg       0.93      0.93      0.93       921\n",
      "\n"
     ]
    }
   ],
   "source": [
    "from sklearn.metrics import classification_report\n",
    "target_names = ['not spam', 'spam']\n",
    "print(classification_report(y_test, y_pred, target_names=target_names))"
   ]
  },
  {
   "cell_type": "code",
   "execution_count": 40,
   "metadata": {},
   "outputs": [
    {
     "name": "stdout",
     "output_type": "stream",
     "text": [
      "Accuracy sur l'ensemble d'entraînement : 0.9304347826086956\n",
      "Accuracy sur l'ensemble de validation : 0.9250814332247557\n"
     ]
    }
   ],
   "source": [
    "import matplotlib.pyplot as plt\n",
    "\n",
    "\n",
    "# Prédiction sur l'ensemble d'entraînement et de validation\n",
    "y_train_pred = logistic_model_v1.predict(X_train)\n",
    "\n",
    "y_test_pred = logistic_model_v1.predict(X_test)\n",
    "\n",
    "# Calcul de l'accuracy\n",
    "train_accuracy = accuracy_score(y_train, y_train_pred)\n",
    "\n",
    "test_accuracy = accuracy_score(y_test, y_test_pred)\n",
    "\n",
    "print(f\"Accuracy sur l'ensemble d'entraînement : {train_accuracy}\")\n",
    "\n",
    "print(f\"Accuracy sur l'ensemble de validation : {test_accuracy}\")"
   ]
  },
  {
   "cell_type": "markdown",
   "metadata": {},
   "source": [
    "### ROC Curve "
   ]
  },
  {
   "cell_type": "code",
   "execution_count": 41,
   "metadata": {},
   "outputs": [
    {
     "data": {
      "image/png": "[encoded data removed]",
      "text/plain": [
       "<Figure size 640x480 with 1 Axes>"
      ]
     },
     "metadata": {},
     "output_type": "display_data"
    }
   ],
   "source": [
    "y_pred_proba = logistic_model_v1.predict_proba(X_test)[::,1]\n",
    "fpr, tpr, _ = metrics.roc_curve(y_test,  y_pred_proba)\n",
    "auc = metrics.roc_auc_score(y_test, y_pred_proba)\n",
    "plt.plot(fpr,tpr,label=\"data 1, auc=\"+str(auc))\n",
    "plt.legend(loc=4)\n",
    "plt.show()"
   ]
  },
  {
   "cell_type": "markdown",
   "metadata": {},
   "source": [
    "## Validation croisée \n",
    "Nous allons utilisé **GridSearchCV**  pour trouver les meilleurs hyperparamètres d'un modèle tout en utilisant la validation croisée pour évaluer les performances. "
   ]
  },
  {
   "cell_type": "code",
   "execution_count": 42,
   "metadata": {},
   "outputs": [
    {
     "name": "stdout",
     "output_type": "stream",
     "text": [
      "Meilleurs hyperparamètres : {'C': 1.0, 'max_iter': 500, 'penalty': 'l1', 'solver': 'liblinear'}\n",
      "Meilleur score obtenu : 0.9317904859070483\n"
     ]
    }
   ],
   "source": [
    "from sklearn.model_selection import GridSearchCV\n",
    "#model\n",
    "logistic_model = LogisticRegression()\n",
    "\n",
    "# Grille des hyperparamètres à explorer\n",
    "param_grid = {\n",
    "    'penalty': ['l1', 'l2'],\n",
    "    'C': [0.1, 1.0, 10.0],\n",
    "    'solver': ['liblinear'],\n",
    "    'max_iter': [500, 1000]\n",
    "}\n",
    "\n",
    "# Création de l'objet GridSearchCV\n",
    "grid_search = GridSearchCV(estimator=logistic_model, param_grid=param_grid, cv=6, scoring='accuracy')\n",
    "\n",
    "# Exécution de la recherche par grille avec validation croisée\n",
    "grid_search.fit(X_train, y_train)\n",
    "\n",
    "# Récupération des meilleurs hyperparamètres et du meilleur score\n",
    "best_params = grid_search.best_params_\n",
    "best_score = grid_search.best_score_\n",
    "\n",
    "print(\"Meilleurs hyperparamètres :\", best_params)\n",
    "print(\"Meilleur score obtenu :\", best_score)"
   ]
  },
  {
   "cell_type": "markdown",
   "metadata": {},
   "source": [
    "Choix final des hyperparams"
   ]
  },
  {
   "cell_type": "code",
   "execution_count": 43,
   "metadata": {},
   "outputs": [],
   "source": [
    "logistic_model = LogisticRegression(penalty='l1', max_iter=500, solver='liblinear', C=10, random_state=16).fit(X_train, y_train)"
   ]
  },
  {
   "cell_type": "markdown",
   "metadata": {},
   "source": [
    "Evaluation du modèle finale "
   ]
  },
  {
   "cell_type": "code",
   "execution_count": 44,
   "metadata": {},
   "outputs": [
    {
     "data": {
      "text/plain": [
       "Text(0.5, 427.9555555555555, 'Predicted label')"
      ]
     },
     "execution_count": 44,
     "metadata": {},
     "output_type": "execute_result"
    },
    {
     "data": {
      "image/png": "[encoded data removed]",
      "text/plain": [
       "<Figure size 640x480 with 2 Axes>"
      ]
     },
     "metadata": {},
     "output_type": "display_data"
    }
   ],
   "source": [
    "import seaborn as sns\n",
    "y_pred = logistic_model.predict(X_test)\n",
    "cnf_matrix = metrics.confusion_matrix(y_test, y_pred)\n",
    "class_names=[0,1] # name  of classes\n",
    "fig, ax = plt.subplots()\n",
    "tick_marks = np.arange(len(class_names))\n",
    "plt.xticks(tick_marks, class_names)\n",
    "plt.yticks(tick_marks, class_names)\n",
    "# create heatmap\n",
    "sns.heatmap(pd.DataFrame(cnf_matrix), annot=True, cmap=\"YlGnBu\" ,fmt='g')\n",
    "ax.xaxis.set_label_position(\"top\")\n",
    "plt.tight_layout()\n",
    "plt.title('Confusion matrix', y=1.1)\n",
    "plt.ylabel('Actual label')\n",
    "plt.xlabel('Predicted label')\n"
   ]
  },
  {
   "cell_type": "code",
   "execution_count": 45,
   "metadata": {},
   "outputs": [
    {
     "name": "stdout",
     "output_type": "stream",
     "text": [
      "Précision du modèle : 0.9305103148751357\n",
      "              precision    recall  f1-score   support\n",
      "\n",
      "    not spam       0.94      0.94      0.94       539\n",
      "        spam       0.92      0.91      0.92       382\n",
      "\n",
      "    accuracy                           0.93       921\n",
      "   macro avg       0.93      0.93      0.93       921\n",
      "weighted avg       0.93      0.93      0.93       921\n",
      "\n"
     ]
    }
   ],
   "source": [
    "target_names = ['not spam', 'spam']\n",
    "accuracy_LR_test = accuracy_score(y_test, y_pred)\n",
    "print(\"Précision du modèle :\", accuracy_LR_test)\n",
    "print(classification_report(y_test, y_pred, target_names=target_names))\n"
   ]
  },
  {
   "cell_type": "code",
   "execution_count": 46,
   "metadata": {},
   "outputs": [
    {
     "name": "stdout",
     "output_type": "stream",
     "text": [
      "Accuracy sur l'ensemble d'entraînement : 0.9353260869565218\n",
      "Accuracy sur l'ensemble de validation : 0.9305103148751357\n"
     ]
    }
   ],
   "source": [
    "import matplotlib.pyplot as plt\n",
    "\n",
    "\n",
    "# Prédiction sur l'ensemble d'entraînement et de validation\n",
    "y_train_pred = logistic_model.predict(X_train)\n",
    "\n",
    "y_test_pred = logistic_model.predict(X_test)\n",
    "\n",
    "# Calcul de l'accuracy\n",
    "train_accuracy = accuracy_score(y_train, y_train_pred)\n",
    "\n",
    "test_accuracy = accuracy_score(y_test, y_test_pred)\n",
    "\n",
    "print(f\"Accuracy sur l'ensemble d'entraînement : {train_accuracy}\")\n",
    "\n",
    "print(f\"Accuracy sur l'ensemble de validation : {test_accuracy}\")"
   ]
  },
  {
   "cell_type": "markdown",
   "metadata": {},
   "source": [
    "ROC Curve"
   ]
  },
  {
   "cell_type": "code",
   "execution_count": 47,
   "metadata": {},
   "outputs": [
    {
     "data": {
      "image/png": "[encoded data removed]",
      "text/plain": [
       "<Figure size 640x480 with 1 Axes>"
      ]
     },
     "metadata": {},
     "output_type": "display_data"
    }
   ],
   "source": [
    "y_pred_proba = logistic_model.predict_proba(X_test)[::,1]\n",
    "fpr, tpr, _ = metrics.roc_curve(y_test,  y_pred_proba)\n",
    "auc = metrics.roc_auc_score(y_test, y_pred_proba)\n",
    "plt.plot(fpr,tpr,label=\" auc=\"+str(auc))\n",
    "plt.legend(loc=4)\n",
    "plt.show()"
   ]
  },
  {
   "cell_type": "markdown",
   "metadata": {},
   "source": [
    "- Resumé :"
   ]
  },
  {
   "cell_type": "code",
   "execution_count": 48,
   "metadata": {},
   "outputs": [
    {
     "data": {
      "text/html": [
       "<div>\n",
       "<style scoped>\n",
       "    .dataframe tbody tr th:only-of-type {\n",
       "        vertical-align: middle;\n",
       "    }\n",
       "\n",
       "    .dataframe tbody tr th {\n",
       "        vertical-align: top;\n",
       "    }\n",
       "\n",
       "    .dataframe thead th {\n",
       "        text-align: right;\n",
       "    }\n",
       "</style>\n",
       "<table border=\"1\" class=\"dataframe\">\n",
       "  <thead>\n",
       "    <tr style=\"text-align: right;\">\n",
       "      <th></th>\n",
       "      <th>LogisticRegression(C=0.1, max_iter=1000, random_state=16)</th>\n",
       "      <th>LogisticRegression(C=10, max_iter=500, penalty='l1', random_state=16,\\n                   solver='liblinear')</th>\n",
       "    </tr>\n",
       "  </thead>\n",
       "  <tbody>\n",
       "    <tr>\n",
       "      <th>Accuracy</th>\n",
       "      <td>0.925081</td>\n",
       "      <td>0.930510</td>\n",
       "    </tr>\n",
       "    <tr>\n",
       "      <th>Precision</th>\n",
       "      <td>0.905759</td>\n",
       "      <td>0.913613</td>\n",
       "    </tr>\n",
       "    <tr>\n",
       "      <th>Recall</th>\n",
       "      <td>0.912929</td>\n",
       "      <td>0.918421</td>\n",
       "    </tr>\n",
       "    <tr>\n",
       "      <th>F1</th>\n",
       "      <td>0.909330</td>\n",
       "      <td>0.916010</td>\n",
       "    </tr>\n",
       "  </tbody>\n",
       "</table>\n",
       "</div>"
      ],
      "text/plain": [
       "           LogisticRegression(C=0.1, max_iter=1000, random_state=16)  \\\n",
       "Accuracy                                            0.925081           \n",
       "Precision                                           0.905759           \n",
       "Recall                                              0.912929           \n",
       "F1                                                  0.909330           \n",
       "\n",
       "           LogisticRegression(C=10, max_iter=500, penalty='l1', random_state=16,\\n                   solver='liblinear')  \n",
       "Accuracy                                            0.930510                                                              \n",
       "Precision                                           0.913613                                                              \n",
       "Recall                                              0.918421                                                              \n",
       "F1                                                  0.916010                                                              "
      ]
     },
     "execution_count": 48,
     "metadata": {},
     "output_type": "execute_result"
    }
   ],
   "source": [
    "from sklearn.metrics import precision_score, recall_score, f1_score\n",
    "models=[logistic_model_v1,logistic_model]\n",
    "y_pred_v1=logistic_model_v1.predict(X_test)\n",
    "y_pred_v2=logistic_model.predict(X_test)\n",
    "y_pred=[y_pred_v1,y_pred_v2]\n",
    "Metrics=pd.DataFrame({\n",
    "    i:[accuracy_score(y_test,j),\n",
    "    precision_score(j,y_test),\n",
    "    recall_score(j, y_test),\n",
    "    f1_score(j,y_test)] \n",
    "    for i,j in zip (models,y_pred)},\n",
    "    index=['Accuracy','Precision','Recall','F1'])\n",
    "Metrics"
   ]
  },
  {
   "cell_type": "markdown",
   "metadata": {},
   "source": [
    "<b><font color=red> Résultat : </font></b>\n",
    "\n",
    "- Après que nous avons utilisé la validation croisée nous avons eu des meilleurs résultats."
   ]
  },
  {
   "cell_type": "markdown",
   "metadata": {},
   "source": [
    "# Gradient boosting"
   ]
  },
  {
   "cell_type": "code",
   "execution_count": 49,
   "metadata": {},
   "outputs": [],
   "source": [
    "X_train, X_test, y_train, y_test = train_test_split(X, y, train_size=0.8)"
   ]
  },
  {
   "cell_type": "code",
   "execution_count": 50,
   "metadata": {},
   "outputs": [
    {
     "name": "stdout",
     "output_type": "stream",
     "text": [
      "Précision du modèle : 0.9413680781758957\n",
      "Rapport de classification :\n",
      "               precision    recall  f1-score   support\n",
      "\n",
      "    not spam       0.95      0.96      0.95       580\n",
      "        spam       0.93      0.91      0.92       341\n",
      "\n",
      "    accuracy                           0.94       921\n",
      "   macro avg       0.94      0.93      0.94       921\n",
      "weighted avg       0.94      0.94      0.94       921\n",
      "\n"
     ]
    }
   ],
   "source": [
    "from sklearn.ensemble import GradientBoostingClassifier\n",
    "from sklearn.datasets import make_classification\n",
    "from sklearn.model_selection import train_test_split\n",
    "from sklearn.metrics import accuracy_score, classification_report\n",
    "\n",
    "\n",
    "\n",
    "# Initialisation du modèle de Gradient Boosting Classifier\n",
    "gradient_boosting_model = GradientBoostingClassifier(random_state=42)\n",
    "\n",
    "# Entraînement du modèle sur les données d'entraînement\n",
    "gradient_boosting_model.fit(X_train, y_train)\n",
    "\n",
    "# Prédiction sur les données de test\n",
    "y_pred = gradient_boosting_model.predict(X_test)\n",
    "\n",
    "# Évaluation des performances du modèle\n",
    "target_names = ['not spam', 'spam']\n",
    "accuracy_GB_test = accuracy_score(y_test, y_pred)\n",
    "report = classification_report(y_test, y_pred,target_names=target_names)\n",
    "\n",
    "print(\"Précision du modèle :\", accuracy_GB_test)\n",
    "print(\"Rapport de classification :\\n\", report)\n"
   ]
  },
  {
   "cell_type": "markdown",
   "metadata": {},
   "source": [
    "### Entrainement avec X_pca"
   ]
  },
  {
   "cell_type": "code",
   "execution_count": 51,
   "metadata": {},
   "outputs": [],
   "source": [
    "X_train_PCA, X_test_PCA, y_train, y_test = train_test_split(X_pca, y, train_size=0.8)"
   ]
  },
  {
   "cell_type": "code",
   "execution_count": 52,
   "metadata": {},
   "outputs": [
    {
     "name": "stderr",
     "output_type": "stream",
     "text": [
      "c:\\Users\\zaiss\\anaconda3\\Lib\\site-packages\\sklearn\\base.py:464: UserWarning: X does not have valid feature names, but GradientBoostingClassifier was fitted with feature names\n",
      "  warnings.warn(\n"
     ]
    },
    {
     "name": "stdout",
     "output_type": "stream",
     "text": [
      "Précision du modèle : 0.6178067318132465\n",
      "Rapport de classification :\n",
      "               precision    recall  f1-score   support\n",
      "\n",
      "    not spam       0.64      0.90      0.75       588\n",
      "        spam       0.40      0.12      0.19       333\n",
      "\n",
      "    accuracy                           0.62       921\n",
      "   macro avg       0.52      0.51      0.47       921\n",
      "weighted avg       0.56      0.62      0.55       921\n",
      "\n"
     ]
    }
   ],
   "source": [
    "# Initialisation du modèle de Gradient Boosting Classifier\n",
    "gradient_boosting_model_PCA = GradientBoostingClassifier(random_state=42)\n",
    "\n",
    "# Entraînement du modèle sur les données d'entraînement\n",
    "gradient_boosting_model_PCA.fit(X_train_PCA, y_train)\n",
    "\n",
    "# Prédiction sur les données de test\n",
    "y_pred = gradient_boosting_model.predict(X_test_PCA)\n",
    "\n",
    "# Évaluation des performances du modèle\n",
    "target_names = ['not spam', 'spam']\n",
    "accuracy_GBPCA_test = accuracy_score(y_test, y_pred)\n",
    "report1 = classification_report(y_test, y_pred,target_names=target_names)\n",
    "\n",
    "print(\"Précision du modèle :\", accuracy_GBPCA_test)\n",
    "print(\"Rapport de classification :\\n\", report1)\n"
   ]
  },
  {
   "cell_type": "markdown",
   "metadata": {},
   "source": [
    "### Normalisation des données "
   ]
  },
  {
   "cell_type": "code",
   "execution_count": 53,
   "metadata": {},
   "outputs": [],
   "source": [
    "from sklearn.preprocessing import StandardScaler\n",
    "\n",
    "# Créez un objet StandardScaler\n",
    "scaler = StandardScaler()\n",
    "X_norm=scaler.fit_transform(X_pca)\n",
    "X_norm_train, X_norm_test, y_train, y_test = train_test_split(X_norm, y, train_size=0.8)"
   ]
  },
  {
   "cell_type": "code",
   "execution_count": 54,
   "metadata": {},
   "outputs": [
    {
     "name": "stdout",
     "output_type": "stream",
     "text": [
      "Précision du modèle : 0.5787187839305103\n",
      "Rapport de classification :\n",
      "               precision    recall  f1-score   support\n",
      "\n",
      "    not spam       0.60      0.87      0.71       550\n",
      "        spam       0.43      0.15      0.22       371\n",
      "\n",
      "    accuracy                           0.58       921\n",
      "   macro avg       0.52      0.51      0.46       921\n",
      "weighted avg       0.53      0.58      0.51       921\n",
      "\n"
     ]
    },
    {
     "name": "stderr",
     "output_type": "stream",
     "text": [
      "c:\\Users\\zaiss\\anaconda3\\Lib\\site-packages\\sklearn\\base.py:464: UserWarning: X does not have valid feature names, but GradientBoostingClassifier was fitted with feature names\n",
      "  warnings.warn(\n"
     ]
    }
   ],
   "source": [
    "# Initialisation du modèle de Gradient Boosting Classifier\n",
    "gradient_boosting_model_norm = GradientBoostingClassifier(random_state=42)\n",
    "\n",
    "# Entraînement du modèle sur les données d'entraînement\n",
    "gradient_boosting_model_norm.fit(X_norm_train, y_train)\n",
    "\n",
    "# Prédiction sur les données de test\n",
    "y_pred = gradient_boosting_model.predict(X_norm_test)\n",
    "\n",
    "# Évaluation des performances du modèle\n",
    "target_names = ['not spam', 'spam']\n",
    "accuracy_GBnorm_test = accuracy_score(y_test, y_pred)\n",
    "report2 = classification_report(y_test, y_pred,target_names=target_names)\n",
    "\n",
    "print(\"Précision du modèle :\", accuracy_GBnorm_test)\n",
    "print(\"Rapport de classification :\\n\", report2)\n"
   ]
  },
  {
   "cell_type": "markdown",
   "metadata": {},
   "source": [
    "# Evaluating the Three best models :"
   ]
  },
  {
   "cell_type": "code",
   "execution_count": 55,
   "metadata": {},
   "outputs": [
    {
     "name": "stdout",
     "output_type": "stream",
     "text": [
      "accuracy logistic regression :0.9305103148751357,accuracy DNN 0.9239956736564636, accuracy Gradient boosting 0.9413680781758957\n"
     ]
    }
   ],
   "source": [
    "print(f'accuracy logistic regression :{accuracy_LR_test},accuracy DNN {accuracy_DNN}, accuracy Gradient boosting {accuracy_GB_test}')"
   ]
  },
  {
   "cell_type": "code",
   "execution_count": 56,
   "metadata": {},
   "outputs": [
    {
     "name": "stdout",
     "output_type": "stream",
     "text": [
      "29/29 [==============================] - 2s 4ms/step\n"
     ]
    },
    {
     "data": {
      "text/html": [
       "<div>\n",
       "<style scoped>\n",
       "    .dataframe tbody tr th:only-of-type {\n",
       "        vertical-align: middle;\n",
       "    }\n",
       "\n",
       "    .dataframe tbody tr th {\n",
       "        vertical-align: top;\n",
       "    }\n",
       "\n",
       "    .dataframe thead th {\n",
       "        text-align: right;\n",
       "    }\n",
       "</style>\n",
       "<table border=\"1\" class=\"dataframe\">\n",
       "  <thead>\n",
       "    <tr style=\"text-align: right;\">\n",
       "      <th></th>\n",
       "      <th>&lt;keras.src.engine.sequential.Sequential object at 0x0000021C6B528AD0&gt;</th>\n",
       "      <th>LogisticRegression(C=10, max_iter=500, penalty='l1', random_state=16,\\n                   solver='liblinear')</th>\n",
       "      <th>GradientBoostingClassifier(random_state=42)</th>\n",
       "    </tr>\n",
       "  </thead>\n",
       "  <tbody>\n",
       "    <tr>\n",
       "      <th>Accuracy</th>\n",
       "      <td>0.517915</td>\n",
       "      <td>0.504886</td>\n",
       "      <td>0.496200</td>\n",
       "    </tr>\n",
       "    <tr>\n",
       "      <th>Precision</th>\n",
       "      <td>0.307278</td>\n",
       "      <td>0.331536</td>\n",
       "      <td>0.323450</td>\n",
       "    </tr>\n",
       "    <tr>\n",
       "      <th>Recall</th>\n",
       "      <td>0.378738</td>\n",
       "      <td>0.371601</td>\n",
       "      <td>0.360360</td>\n",
       "    </tr>\n",
       "    <tr>\n",
       "      <th>F1</th>\n",
       "      <td>0.339286</td>\n",
       "      <td>0.350427</td>\n",
       "      <td>0.340909</td>\n",
       "    </tr>\n",
       "  </tbody>\n",
       "</table>\n",
       "</div>"
      ],
      "text/plain": [
       "           <keras.src.engine.sequential.Sequential object at 0x0000021C6B528AD0>  \\\n",
       "Accuracy                                            0.517915                       \n",
       "Precision                                           0.307278                       \n",
       "Recall                                              0.378738                       \n",
       "F1                                                  0.339286                       \n",
       "\n",
       "           LogisticRegression(C=10, max_iter=500, penalty='l1', random_state=16,\\n                   solver='liblinear')  \\\n",
       "Accuracy                                            0.504886                                                               \n",
       "Precision                                           0.331536                                                               \n",
       "Recall                                              0.371601                                                               \n",
       "F1                                                  0.350427                                                               \n",
       "\n",
       "           GradientBoostingClassifier(random_state=42)  \n",
       "Accuracy                                      0.496200  \n",
       "Precision                                     0.323450  \n",
       "Recall                                        0.360360  \n",
       "F1                                            0.340909  "
      ]
     },
     "execution_count": 56,
     "metadata": {},
     "output_type": "execute_result"
    }
   ],
   "source": [
    "from sklearn.metrics import precision_score, recall_score, f1_score\n",
    "models=[model1,logistic_model,gradient_boosting_model]\n",
    "y_pred_model=model1.predict(X_test)\n",
    "y_pred_model = (y_pred_model > 0.5).astype(int)\n",
    "y_pred_logistic=logistic_model.predict(X_test)\n",
    "y_pred_gradb=gradient_boosting_model.predict(X_test)\n",
    "\n",
    "y_pred=[y_pred_model,y_pred_logistic, y_pred_gradb]\n",
    "Metrics=pd.DataFrame({\n",
    "    str(i):[accuracy_score(y_test,j),\n",
    "    precision_score(j,y_test),\n",
    "    recall_score(j, y_test),\n",
    "    f1_score(j,y_test)] \n",
    "    for i,j in zip (models,y_pred)},\n",
    "    index=['Accuracy','Precision','Recall','F1'])\n",
    "Metrics"
   ]
  },
  {
   "cell_type": "code",
   "execution_count": null,
   "metadata": {},
   "outputs": [],
   "source": []
  }
 ],
 "metadata": {
  "kernelspec": {
   "display_name": "venv2",
   "language": "python",
   "name": "python3"
  },
  "language_info": {
   "codemirror_mode": {
    "name": "ipython",
    "version": 3
   },
   "file_extension": ".py",
   "mimetype": "text/x-python",
   "name": "python",
   "nbconvert_exporter": "python",
   "pygments_lexer": "ipython3",
   "version": "3.10.8"
  }
 },
 "nbformat": 4,
 "nbformat_minor": 2
}
